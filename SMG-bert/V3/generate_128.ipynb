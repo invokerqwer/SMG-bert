{
 "cells": [
  {
   "cell_type": "code",
   "execution_count": 8,
   "metadata": {
    "collapsed": true,
    "pycharm": {
     "name": "#%%\n"
    }
   },
   "outputs": [],
   "source": [
    "import torch\n",
    "from tqdm import tqdm"
   ]
  },
  {
   "cell_type": "code",
   "execution_count": 2,
   "outputs": [],
   "source": [
    "pos_data = torch.load(\"/home/zjh/mr/pretrain/dataset/sp/pos.pth\")"
   ],
   "metadata": {
    "collapsed": false,
    "pycharm": {
     "name": "#%%\n"
    }
   }
  },
  {
   "cell_type": "code",
   "execution_count": 3,
   "outputs": [],
   "source": [
    "smiles_data = torch.load(\"/home/zjh/mr/pretrain/dataset/sp/smiles.pth\")"
   ],
   "metadata": {
    "collapsed": false,
    "pycharm": {
     "name": "#%%\n"
    }
   }
  },
  {
   "cell_type": "code",
   "execution_count": 13,
   "outputs": [],
   "source": [
    "dist_data =  torch.load(\"/home/zjh/mr/pretrain/dataset/sp/dist.pth\")"
   ],
   "metadata": {
    "collapsed": false,
    "pycharm": {
     "name": "#%%\n"
    }
   }
  },
  {
   "cell_type": "code",
   "execution_count": 14,
   "outputs": [],
   "source": [
    "angle_data =  torch.load(\"/home/zjh/mr/pretrain/dataset/sp/angle.pth\")"
   ],
   "metadata": {
    "collapsed": false,
    "pycharm": {
     "name": "#%%\n"
    }
   }
  },
  {
   "cell_type": "code",
   "execution_count": 15,
   "outputs": [],
   "source": [
    "torsion_data =  torch.load(\"/home/zjh/mr/pretrain/dataset/sp/torsion.pth\")"
   ],
   "metadata": {
    "collapsed": false,
    "pycharm": {
     "name": "#%%\n"
    }
   }
  },
  {
   "cell_type": "code",
   "execution_count": 16,
   "outputs": [
    {
     "name": "stderr",
     "output_type": "stream",
     "text": [
      "100%|██████████| 482195/482195 [00:00<00:00, 1123004.96it/s]"
     ]
    },
    {
     "name": "stdout",
     "output_type": "stream",
     "text": [
      "717\n"
     ]
    },
    {
     "name": "stderr",
     "output_type": "stream",
     "text": [
      "\n"
     ]
    }
   ],
   "source": [
    "count = 0\n",
    "for pos,smiles in tqdm(zip(pos_data,smiles_data),total=len(smiles_data)):\n",
    "    if pos.shape[0] > 127:\n",
    "        count += 1\n",
    "print(count)\n"
   ],
   "metadata": {
    "collapsed": false,
    "pycharm": {
     "name": "#%%\n"
    }
   }
  },
  {
   "cell_type": "code",
   "execution_count": 17,
   "outputs": [
    {
     "name": "stderr",
     "output_type": "stream",
     "text": [
      "100%|██████████| 482195/482195 [00:00<00:00, 615768.46it/s]\n"
     ]
    }
   ],
   "source": [
    "smiles_list = []\n",
    "dist_list = []\n",
    "nmr_list = []\n",
    "angle_list = []\n",
    "torsion_list = []\n",
    "pos_list = []\n",
    "count\n",
    "for pos,smiles,dist_matrix,ang,tor in tqdm(zip(pos_data,smiles_data,dist_data,angle_data,torsion_data),total=len(smiles_data)):\n",
    "    if pos.shape[0] > 127:\n",
    "        continue\n",
    "\n",
    "    smiles_list.append(smiles)\n",
    "    dist_list.append(dist_matrix)\n",
    "    pos_list.append(pos)\n",
    "    angle_list.append(ang)\n",
    "    torsion_list.append(tor)"
   ],
   "metadata": {
    "collapsed": false,
    "pycharm": {
     "name": "#%%\n"
    }
   }
  },
  {
   "cell_type": "code",
   "execution_count": 20,
   "outputs": [
    {
     "data": {
      "text/plain": "481478"
     },
     "execution_count": 20,
     "metadata": {},
     "output_type": "execute_result"
    }
   ],
   "source": [
    "len(smiles_list)"
   ],
   "metadata": {
    "collapsed": false,
    "pycharm": {
     "name": "#%%\n"
    }
   }
  },
  {
   "cell_type": "code",
   "execution_count": 21,
   "outputs": [
    {
     "data": {
      "text/plain": "482195"
     },
     "execution_count": 21,
     "metadata": {},
     "output_type": "execute_result"
    }
   ],
   "source": [
    "len(smiles_data)"
   ],
   "metadata": {
    "collapsed": false,
    "pycharm": {
     "name": "#%%\n"
    }
   }
  },
  {
   "cell_type": "code",
   "execution_count": 18,
   "outputs": [],
   "source": [
    "torch.save(smiles_list,\"/home/zjh/mr/pretrain/dataset/sp2/smiles.pth\")\n",
    "torch.save(dist_list,\"/home/zjh/mr/pretrain/dataset/sp2/dist.pth\")\n",
    "torch.save(nmr_list,\"/home/zjh/mr/pretrain/dataset/sp2/nmr.pth\")\n",
    "torch.save(angle_list,\"/home/zjh/mr/pretrain/dataset/sp2/angle.pth\")\n",
    "torch.save(torsion_list,\"/home/zjh/mr/pretrain/dataset/sp2/torsion.pth\")\n",
    "torch.save(pos_list,\"/home/zjh/mr/pretrain/dataset/sp2/pos.pth\")"
   ],
   "metadata": {
    "collapsed": false,
    "pycharm": {
     "name": "#%%\n"
    }
   }
  },
  {
   "cell_type": "code",
   "execution_count": 19,
   "outputs": [],
   "source": [
    "torch.save(smiles_list[:10000],\"/home/zjh/mr/pretrain/dataset/sp2/smiles_test.pth\")\n",
    "torch.save(dist_list[:10000],\"/home/zjh/mr/pretrain/dataset/sp2/dist_test.pth\")\n",
    "torch.save(nmr_list[:10000],\"/home/zjh/mr/pretrain/dataset/sp2/nmr_test.pth\")\n",
    "torch.save(angle_list[:10000],\"/home/zjh/mr/pretrain/dataset/sp2/angle_test.pth\")\n",
    "torch.save(torsion_list[:10000],\"/home/zjh/mr/pretrain/dataset/sp2/torsion_test.pth\")\n",
    "torch.save(pos_list[:10000],\"/home/zjh/mr/pretrain/dataset/sp2/pos_test.pth\")"
   ],
   "metadata": {
    "collapsed": false,
    "pycharm": {
     "name": "#%%\n"
    }
   }
  },
  {
   "cell_type": "code",
   "execution_count": null,
   "outputs": [],
   "source": [],
   "metadata": {
    "collapsed": false,
    "pycharm": {
     "name": "#%%\n"
    }
   }
  }
 ],
 "metadata": {
  "kernelspec": {
   "name": "mr_bert",
   "language": "python",
   "display_name": "mr_bert"
  },
  "language_info": {
   "codemirror_mode": {
    "name": "ipython",
    "version": 2
   },
   "file_extension": ".py",
   "mimetype": "text/x-python",
   "name": "python",
   "nbconvert_exporter": "python",
   "pygments_lexer": "ipython2",
   "version": "2.7.6"
  }
 },
 "nbformat": 4,
 "nbformat_minor": 0
}