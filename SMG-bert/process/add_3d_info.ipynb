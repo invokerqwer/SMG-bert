{
 "cells": [
  {
   "cell_type": "code",
   "execution_count": 8,
   "metadata": {
    "collapsed": true,
    "pycharm": {
     "name": "#%%\n"
    }
   },
   "outputs": [],
   "source": [
    "import torch\n",
    "from tqdm import tqdm\n",
    "import os\n",
    "from torch_sparse import SparseTensor\n",
    "from tqdm import tqdm\n",
    "import os.path\n",
    "\n",
    "import torch\n",
    "from torch_scatter import scatter\n",
    "from torch_sparse import SparseTensor\n",
    "from math import pi as PI\n",
    "from rdkit import Chem\n",
    "from rdkit.Chem import AllChem\n",
    "from tqdm import tqdm\n",
    "from rdkit import RDLogger\n",
    "RDLogger.DisableLog('rdApp.*')"
   ]
  },
  {
   "cell_type": "code",
   "execution_count": 35,
   "outputs": [],
   "source": [
    "def get_dist(pos,i,j):\n",
    "    dist = (pos[i] - pos[j]).pow(2).sum(dim=-1).sqrt()\n",
    "    return dist\n",
    "\n",
    "def get_angle(pos,i,j,k):\n",
    "        # Calculate angles. 0 to pi\n",
    "    pos_ji = pos[i] - pos[j]\n",
    "    pos_jk = pos[k] - pos[j]\n",
    "    a = (pos_ji * pos_jk).sum(dim=-1) # cos_angle * |pos_ji| * |pos_jk|\n",
    "    b = torch.cross(pos_ji, pos_jk).norm(dim=-1) # sin_angle * |pos_ji| * |pos_jk|\n",
    "    angle = torch.atan2(b, a)\n",
    "    return angle\n",
    "\n",
    "def get_torsion(pos,k,i,j,t):\n",
    "    pos_jt = pos[j] - pos[t]\n",
    "    pos_ji = pos[j] - pos[i]\n",
    "    pos_jk = pos[j] - pos[k]\n",
    "    dist_ji = pos_ji.pow(2).sum(dim=-1).sqrt() + (1e-10)\n",
    "    plane1 = torch.cross(pos_ji, pos_jt)\n",
    "    plane2 = torch.cross(pos_ji, pos_jk)\n",
    "    a = (plane1 * plane2).sum(dim=-1) # cos_angle * |plane1| * |plane2|\n",
    "    b = (torch.cross(plane1, plane2) * pos_ji).sum(dim=-1) / dist_ji\n",
    "    torsion1 = torch.atan2(b, a) # -pi to pi\n",
    "    torsion1 = torch.abs(torsion1)\n",
    "    # torsion1[torsion1<=0]+=2*PI # 0 to 2pi\n",
    "    return torsion1\n",
    "\n",
    "def generate_dist_index(mol,valid=False,max_len=127):\n",
    "    atom_num = min(max_len,mol.GetNumAtoms())\n",
    "    start = torch.arange(atom_num).repeat_interleave(atom_num)\n",
    "    end = torch.arange(atom_num).repeat(atom_num)\n",
    "    if valid:\n",
    "        valid_index = start != end\n",
    "        start = start[valid_index]\n",
    "        end = end[valid_index]\n",
    "    return start,end\n",
    "\n",
    "def generate_angle_index(mol,valid=False,max_len=127):\n",
    "    i_all = []\n",
    "    j_all = []\n",
    "    k_all = []\n",
    "    atoms  = [atom for atom in mol.GetAtoms()]\n",
    "    for index in range(min(max_len,mol.GetNumAtoms())):\n",
    "        atom = atoms[index]\n",
    "        set1 = set([bond.GetBeginAtomIdx() for bond in atom.GetBonds()])\n",
    "        set2 = set([bond.GetEndAtomIdx() for bond in atom.GetBonds()])\n",
    "        group = [i for i in list(set1 | set2) if i < max_len]\n",
    "        lth = len(group)\n",
    "        if len(group) <= 2:\n",
    "            continue\n",
    "        i = torch.tensor(group).repeat_interleave(lth)\n",
    "        j = torch.ones(lth**2,dtype=torch.int64) * index\n",
    "        k = torch.tensor(group).repeat(lth)\n",
    "        i_all.append(i)\n",
    "        j_all.append(j)\n",
    "        k_all.append(k)\n",
    "    i_all = torch.cat(i_all)\n",
    "    j_all = torch.cat(j_all)\n",
    "    k_all = torch.cat(k_all)\n",
    "    if valid:\n",
    "        valid_index = (i_all != k_all) & (i_all != j_all) & (k_all != j_all)\n",
    "        i_all = i_all[valid_index]\n",
    "        j_all = j_all[valid_index]\n",
    "        k_all = k_all[valid_index]\n",
    "    if len(i_all) == 0:\n",
    "        return None,None,None\n",
    "    return i_all,j_all,k_all\n",
    "\n",
    "def generate_torsion_index(mol,valid=False,max_len=127):\n",
    "\n",
    "    atoms  = [atom for atom in mol.GetAtoms()]\n",
    "\n",
    "    group_dict = {}\n",
    "    bond_start = [i for i in [bond.GetBeginAtomIdx() for bond in mol.GetBonds()] if i < max_len]\n",
    "    bond_end = [i for i in [bond.GetEndAtomIdx() for bond in mol.GetBonds()] if i< max_len]\n",
    "    for index in range(min(max_len,mol.GetNumAtoms())):\n",
    "        atom = atoms[index]\n",
    "        set1 = set([bond.GetBeginAtomIdx() for bond in atom.GetBonds()])\n",
    "        set2 = set([bond.GetEndAtomIdx() for bond in atom.GetBonds()])\n",
    "        group = [i for i in list(set1 | set2) if i < max_len]\n",
    "        group_dict[index] = group\n",
    "    i_all = []\n",
    "    j_all = []\n",
    "    k_all =[]\n",
    "    t_all = []\n",
    "    for atom_i,atom_j in zip(bond_start,bond_end):\n",
    "        i_group = group_dict[atom_i]\n",
    "        j_group = group_dict[atom_j]\n",
    "        k = torch.tensor(i_group).repeat_interleave(len(j_group))\n",
    "        t = torch.tensor(j_group).repeat(len(i_group))\n",
    "        i = torch.ones(len(j_group)*len(i_group),dtype=torch.int64) * atom_i\n",
    "        j = torch.ones(len(j_group)*len(i_group),dtype=torch.int64) * atom_j\n",
    "        i_all.append(i)\n",
    "        j_all.append(j)\n",
    "        k_all.append(k)\n",
    "        t_all.append(t)\n",
    "    i_all = torch.cat(i_all)\n",
    "    j_all = torch.cat(j_all)\n",
    "    k_all = torch.cat(k_all)\n",
    "    t_all = torch.cat(t_all)\n",
    "    if valid:\n",
    "        valid_index = (k_all != t_all) & (k_all != i_all) & (k_all != j_all) & (t_all != i_all) & (t_all != j_all)\n",
    "        i_all = i_all[valid_index]\n",
    "        j_all = j_all[valid_index]\n",
    "        k_all = k_all[valid_index]\n",
    "        t_all = t_all[valid_index]\n",
    "    if len(k_all) == 0:\n",
    "        return  None,None,None,None\n",
    "    return k_all,i_all,j_all,t_all"
   ],
   "metadata": {
    "collapsed": false,
    "pycharm": {
     "name": "#%%\n"
    }
   }
  },
  {
   "cell_type": "code",
   "execution_count": 36,
   "outputs": [],
   "source": [
    "def generate_3d_info(data,dataset_path):\n",
    "    count = 0\n",
    "    smiles_list = []\n",
    "    dist_list = []\n",
    "    nmr_list = []\n",
    "    angle_list = []\n",
    "    torsion_list = []\n",
    "    pos_list = []\n",
    "    label_list = []\n",
    "    for row in tqdm(iter(data),total=len(data)):\n",
    "        smiles = row[0]\n",
    "        label = row[1]\n",
    "        try:\n",
    "            mol = AllChem.AddHs(Chem.MolFromSmiles(smiles))\n",
    "            AllChem.EmbedMolecule(mol)\n",
    "            AllChem.MMFFOptimizeMolecule(mol)\n",
    "            pos=[]\n",
    "            edge_index=[]\n",
    "            num_nodes=len(mol.GetAtoms())\n",
    "            for i in range(num_nodes):\n",
    "                for j in range(i):\n",
    "                    edge_index.append([i,j])\n",
    "                x,y,z =mol.GetConformer().GetAtomPosition(i)\n",
    "                pos.append([x,y,z])\n",
    "            pos = torch.tensor(pos)\n",
    "        except:\n",
    "            print(\"can't get pos by rdkit\")\n",
    "            count += 1\n",
    "            print(smiles)\n",
    "            continue\n",
    "        if pos.shape[0] > 127:\n",
    "            print(\"smiles is longer than 127\")\n",
    "            print(smiles)\n",
    "            continue\n",
    "        dist_i,dist_j = generate_dist_index(mol,valid=True)\n",
    "        angle_i,angle_j,angle_k = generate_angle_index(mol,valid=True)\n",
    "        if angle_i is None:\n",
    "            print(\"can't generate angle index\")\n",
    "            print(smiles)\n",
    "            count += 1\n",
    "            continue\n",
    "\n",
    "        torsion_k,torsion_i,torsion_j,torsion_t = generate_torsion_index(mol,valid=True)\n",
    "        if torsion_k is None:\n",
    "            print(\"can't generate torsion index\")\n",
    "            print(smiles)\n",
    "            count += 1\n",
    "            continue\n",
    "\n",
    "        dist = get_dist(pos,dist_i,dist_j)\n",
    "        angle = get_angle(pos,angle_i,angle_j,angle_k)\n",
    "        torsion = get_torsion(pos,torsion_k,torsion_i,torsion_j,torsion_t)\n",
    "\n",
    "        if (len(dist)==0 or len(angle)==0 or len(torsion)==0):\n",
    "            print(\"valid of length\")\n",
    "            print(smiles)\n",
    "            count += 1\n",
    "            continue\n",
    "        try:\n",
    "            spt = SparseTensor(row=dist_i.long(),col=dist_j.long(),value=dist)\n",
    "            dist_matrix = spt.to_dense()\n",
    "        except:\n",
    "            print(\"cannot covert sparse adj to dense\")\n",
    "            print(smiles)\n",
    "            count += 1\n",
    "            continue\n",
    "\n",
    "        smiles_list.append(smiles)\n",
    "        dist_list.append(dist_matrix)\n",
    "        pos_list.append(pos)\n",
    "        angle_list.append([angle_i.byte(),angle_j.byte(),angle_k.byte(),angle])\n",
    "        label_list.append(label)\n",
    "        torsion_list.append([torsion_k.byte(),torsion_i.byte(),torsion_j.byte(),torsion_t.byte(),torsion])\n",
    "\n",
    "    print(f\"{count} is valid\")\n",
    "\n",
    "    base_dir = os.path.dirname(dataset_path)\n",
    "    base_name = os.path.basename(dataset_path).split(\".\")[0]\n",
    "    save_dir  = os.path.join(base_dir,base_name)\n",
    "    if not os.path.exists(save_dir):\n",
    "        os.makedirs(save_dir)\n",
    "    smiles_save_path = os.path.join(save_dir,\"smiles.pth\")\n",
    "    dist_save_path = os.path.join(save_dir,\"dist.pth\")\n",
    "    nmr_save_path= os.path.join(save_dir,\"nmr.pth\")\n",
    "    angle_save_path = os.path.join(save_dir,\"angle.pth\")\n",
    "    torsion_save_path = os.path.join(save_dir,\"torsion.pth\")\n",
    "    pos_save_path = os.path.join(save_dir,\"pos.pth\")\n",
    "    label_save_path = os.path.join(save_dir,\"label.pth\")\n",
    "    torch.save(smiles_list,smiles_save_path)\n",
    "    torch.save(dist_list,dist_save_path)\n",
    "    torch.save(nmr_list,nmr_save_path)\n",
    "    torch.save(angle_list,angle_save_path)\n",
    "    torch.save(torsion_list,torsion_save_path)\n",
    "    torch.save(pos_list,pos_save_path)\n",
    "    torch.save(label_list,label_save_path)"
   ],
   "metadata": {
    "collapsed": false,
    "pycharm": {
     "name": "#%%\n"
    }
   }
  },
  {
   "cell_type": "code",
   "execution_count": 37,
   "outputs": [],
   "source": [
    "data = torch.load(\"/home/zjh/mr/downstream/dataset/classify/chiral.pth\")"
   ],
   "metadata": {
    "collapsed": false,
    "pycharm": {
     "name": "#%%\n"
    }
   }
  },
  {
   "cell_type": "code",
   "execution_count": 38,
   "outputs": [],
   "source": [
    "data_path = \"/home/zjh/mr/downstream/dataset/classify/chiral.pth\""
   ],
   "metadata": {
    "collapsed": false,
    "pycharm": {
     "name": "#%%\n"
    }
   }
  },
  {
   "cell_type": "code",
   "execution_count": null,
   "outputs": [
    {
     "name": "stderr",
     "output_type": "stream",
     "text": [
      " 55%|█████▌    | 2109/3828 [07:00<20:39,  1.39it/s]"
     ]
    },
    {
     "name": "stdout",
     "output_type": "stream",
     "text": [
      "can't get pos by rdkit\n",
      "CSc1nc(c2cccc(NCC(=O)NCc3cn(CCOCCOCCn4cc(COc5ccc(cc5)[C@@]6(C)CC(C)(C)N(C(=O)C)c7ccc(NC(=O)c8ccc(cc8)c9ccccc9)cc67)nn4)nn3)c2)c%10c(N)c(sc%10n1)C(=O)NC(C)(C)C\n"
     ]
    },
    {
     "name": "stderr",
     "output_type": "stream",
     "text": [
      " 69%|██████▉   | 2656/3828 [09:03<14:07,  1.38it/s]"
     ]
    },
    {
     "name": "stdout",
     "output_type": "stream",
     "text": [
      "smiles is longer than 127\n",
      "NCCC(=O)NCCNC(=O)CCC(=O)NCCNC(=O)CCC(=O)NCCNC(=O)\\N=C(/N)\\NCCC[C@@H](NC(=O)C(c1ccccc1)c2ccccc2)C(=O)NCc3ccc(CNC(=O)N)cc3\n"
     ]
    },
    {
     "name": "stderr",
     "output_type": "stream",
     "text": [
      " 70%|███████   | 2686/3828 [09:12<11:31,  1.65it/s]"
     ]
    },
    {
     "name": "stdout",
     "output_type": "stream",
     "text": [
      "can't get pos by rdkit\n",
      "CSc1nc(c2cccc(NCC(=O)NCc3cn(CCOCCOCCOCCOCCn4cc(COc5ccc(cc5)[C@@]6(C)CC(C)(C)N(C(=O)C)c7ccc(NC(=O)c8ccc(cc8)c9ccccc9)cc67)nn4)nn3)c2)c%10c(N)c(sc%10n1)C(=O)NC(C)(C)C\n"
     ]
    },
    {
     "name": "stderr",
     "output_type": "stream",
     "text": [
      " 87%|████████▋ | 3343/3828 [11:42<09:58,  1.23s/it]"
     ]
    },
    {
     "name": "stdout",
     "output_type": "stream",
     "text": [
      "smiles is longer than 127\n",
      "CSc1nc(c2cccc(NCC(=O)NCc3cn(CCOCCOCCOCCn4cc(COc5ccc(cc5)[C@@]6(C)CC(C)(C)N(C(=O)C)c7ccc(NC(=O)c8ccc(cc8)c9ccccc9)cc67)nn4)nn3)c2)c%10c(N)c(sc%10n1)C(=O)NC(C)(C)C\n"
     ]
    },
    {
     "name": "stderr",
     "output_type": "stream",
     "text": [
      " 91%|█████████ | 3478/3828 [12:15<01:14,  4.73it/s]"
     ]
    }
   ],
   "source": [
    "generate_3d_info(data,data_path)"
   ],
   "metadata": {
    "collapsed": false,
    "pycharm": {
     "name": "#%%\n",
     "is_executing": true
    }
   }
  }
 ],
 "metadata": {
  "kernelspec": {
   "name": "mr_bert",
   "language": "python",
   "display_name": "mr_bert"
  },
  "language_info": {
   "codemirror_mode": {
    "name": "ipython",
    "version": 2
   },
   "file_extension": ".py",
   "mimetype": "text/x-python",
   "name": "python",
   "nbconvert_exporter": "python",
   "pygments_lexer": "ipython2",
   "version": "2.7.6"
  }
 },
 "nbformat": 4,
 "nbformat_minor": 0
}