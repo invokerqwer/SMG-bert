{
 "cells": [
  {
   "cell_type": "code",
   "execution_count": 4,
   "outputs": [],
   "source": [
    "import torch"
   ],
   "metadata": {
    "collapsed": false,
    "pycharm": {
     "name": "#%%\n"
    }
   }
  },
  {
   "cell_type": "code",
   "execution_count": 4,
   "outputs": [],
   "source": [],
   "metadata": {
    "collapsed": false,
    "pycharm": {
     "name": "#%%\n"
    }
   }
  },
  {
   "cell_type": "code",
   "execution_count": 5,
   "metadata": {
    "collapsed": true,
    "pycharm": {
     "name": "#%%\n"
    }
   },
   "outputs": [],
   "source": [
    "import time\n",
    "\n",
    "import pandas as pd\n",
    "import numpy as np\n",
    "import os\n",
    "import logging\n",
    "import sys\n",
    "sys.path.append(\"/home/zjh/remote/mrbert/V1/\")\n",
    "import torch"
   ]
  },
  {
   "cell_type": "code",
   "execution_count": 6,
   "outputs": [],
   "source": [
    "lth = {\n",
    "\n",
    "    \"FreeSolv\":642,\n",
    "    \"bace\":1513,\n",
    "    \"LogS\":5045,\n",
    "    \"Lipophilicity\":4200,\n",
    "    \"ESOL\":1128,\n",
    "    \"Ames\":6719,\n",
    "    \"BBBP\":2039,\n",
    "\n",
    "}\n",
    "task_type = {\n",
    "    \"FreeSolv\":\"regression\",\n",
    "    \"bace\":\"classify\",\n",
    "    \"LogS\":\"regression\",\n",
    "    \"Lipophilicity\":\"regression\",\n",
    "    \"ESOL\":\"regression\",\n",
    "    \"Ames\":\"classify\",\n",
    "    \"BBBP\":\"classify\",\n",
    "\n",
    "}"
   ],
   "metadata": {
    "collapsed": false,
    "pycharm": {
     "name": "#%%\n"
    }
   }
  },
  {
   "cell_type": "code",
   "execution_count": 7,
   "outputs": [
    {
     "name": "stdout",
     "output_type": "stream",
     "text": [
      "[12]\n",
      "[19]\n",
      "[11]\n",
      "[15]\n",
      "[5]\n",
      "[9]\n",
      "[10]\n"
     ]
    }
   ],
   "source": [
    "res_dir = \"/home/zjh/mr/res/V1\"\n",
    "res = {}\n",
    "for fn in os.listdir(res_dir):\n",
    "    if fn.endswith(\"csv\"):\n",
    "        v = pd.read_csv(os.path.join(res_dir,fn))[\"best_metric\"].values\n",
    "        epoch = v = pd.read_csv(os.path.join(res_dir,fn))[\"best_epoch\"].values\n",
    "        print(epoch)\n",
    "        res[fn.split(\".\")[0]] = float(v)\n",
    "direct = res"
   ],
   "metadata": {
    "collapsed": false,
    "pycharm": {
     "name": "#%%\n"
    }
   }
  },
  {
   "cell_type": "code",
   "execution_count": 8,
   "outputs": [],
   "source": [
    "# res_dir = \"/home/zjh/mr/res_pretrain/V1_fine\"\n",
    "# res = {}\n",
    "# for fn in os.listdir(res_dir):\n",
    "#     if fn.endswith(\"csv\"):\n",
    "#         v = pd.read_csv(os.path.join(res_dir,fn))[\"best_metric\"].values\n",
    "#         res[fn.split(\".\")[0]] = float(v)\n",
    "# fine = res\n"
   ],
   "metadata": {
    "collapsed": false,
    "pycharm": {
     "name": "#%%\n"
    }
   }
  },
  {
   "cell_type": "code",
   "execution_count": 9,
   "outputs": [],
   "source": [
    "fine = {\"FreeSolv\":0.942305,\n",
    " \"bace\":0.857118,\n",
    "\n",
    "\"LogS\":0.819316,\n",
    "\"Lipophilicity\":0.682633,\n",
    "\"ESOL\":0.876687,\n",
    "\"Ames\":0.867142,\n",
    "\"BBBP\":0.910858\n",
    " }"
   ],
   "metadata": {
    "collapsed": false,
    "pycharm": {
     "name": "#%%\n"
    }
   }
  },
  {
   "cell_type": "code",
   "execution_count": 10,
   "outputs": [],
   "source": [
    "mg_fine = {\"FreeSolv\":0.8463,\n",
    " \"bace\":0.8868,\n",
    "\n",
    "\"LogS\":0.8766,\n",
    "\"Lipophilicity\":0.7650,\n",
    "\"ESOL\":0.8474,\n",
    "\"Ames\":0.8933,\n",
    "\"BBBP\":0.9208,\n",
    " }"
   ],
   "metadata": {
    "collapsed": false,
    "pycharm": {
     "name": "#%%\n"
    }
   }
  },
  {
   "cell_type": "code",
   "execution_count": 11,
   "outputs": [
    {
     "data": {
      "text/plain": "               direct      fine  mg_fine   lth   task_type   improve%\nFreeSolv         12.0  0.942305   0.8463   642  regression -92.147458\nbace             19.0  0.857118   0.8868  1513    classify -95.488853\nLogS             11.0  0.819316   0.8766  5045  regression -92.551673\nLipophilicity    15.0  0.682633   0.7650  4200  regression -95.449113\nESOL              5.0  0.876687   0.8474  1128  regression -82.466260\nAmes              9.0  0.867142   0.8933  6719    classify -90.365089\nBBBP             10.0  0.910858   0.9208  2039    classify -90.891420",
      "text/html": "<div>\n<style scoped>\n    .dataframe tbody tr th:only-of-type {\n        vertical-align: middle;\n    }\n\n    .dataframe tbody tr th {\n        vertical-align: top;\n    }\n\n    .dataframe thead th {\n        text-align: right;\n    }\n</style>\n<table border=\"1\" class=\"dataframe\">\n  <thead>\n    <tr style=\"text-align: right;\">\n      <th></th>\n      <th>direct</th>\n      <th>fine</th>\n      <th>mg_fine</th>\n      <th>lth</th>\n      <th>task_type</th>\n      <th>improve%</th>\n    </tr>\n  </thead>\n  <tbody>\n    <tr>\n      <th>FreeSolv</th>\n      <td>12.0</td>\n      <td>0.942305</td>\n      <td>0.8463</td>\n      <td>642</td>\n      <td>regression</td>\n      <td>-92.147458</td>\n    </tr>\n    <tr>\n      <th>bace</th>\n      <td>19.0</td>\n      <td>0.857118</td>\n      <td>0.8868</td>\n      <td>1513</td>\n      <td>classify</td>\n      <td>-95.488853</td>\n    </tr>\n    <tr>\n      <th>LogS</th>\n      <td>11.0</td>\n      <td>0.819316</td>\n      <td>0.8766</td>\n      <td>5045</td>\n      <td>regression</td>\n      <td>-92.551673</td>\n    </tr>\n    <tr>\n      <th>Lipophilicity</th>\n      <td>15.0</td>\n      <td>0.682633</td>\n      <td>0.7650</td>\n      <td>4200</td>\n      <td>regression</td>\n      <td>-95.449113</td>\n    </tr>\n    <tr>\n      <th>ESOL</th>\n      <td>5.0</td>\n      <td>0.876687</td>\n      <td>0.8474</td>\n      <td>1128</td>\n      <td>regression</td>\n      <td>-82.466260</td>\n    </tr>\n    <tr>\n      <th>Ames</th>\n      <td>9.0</td>\n      <td>0.867142</td>\n      <td>0.8933</td>\n      <td>6719</td>\n      <td>classify</td>\n      <td>-90.365089</td>\n    </tr>\n    <tr>\n      <th>BBBP</th>\n      <td>10.0</td>\n      <td>0.910858</td>\n      <td>0.9208</td>\n      <td>2039</td>\n      <td>classify</td>\n      <td>-90.891420</td>\n    </tr>\n  </tbody>\n</table>\n</div>"
     },
     "execution_count": 11,
     "metadata": {},
     "output_type": "execute_result"
    }
   ],
   "source": [
    "comp = pd.DataFrame({\"direct\":direct,\"fine\":fine,\"mg_fine\":mg_fine,\"lth\":lth,\"task_type\":task_type})\n",
    "comp[\"improve%\"] = (comp[\"fine\"] - comp[\"direct\"]) / comp[\"direct\"] * 100\n",
    "comp"
   ],
   "metadata": {
    "collapsed": false,
    "pycharm": {
     "name": "#%%\n"
    }
   }
  },
  {
   "cell_type": "code",
   "execution_count": 12,
   "outputs": [],
   "source": [
    "from tqdm import tqdm"
   ],
   "metadata": {
    "collapsed": false,
    "pycharm": {
     "name": "#%%\n"
    }
   }
  },
  {
   "cell_type": "code",
   "execution_count": 12,
   "outputs": [],
   "source": [],
   "metadata": {
    "collapsed": false,
    "pycharm": {
     "name": "#%%\n"
    }
   }
  },
  {
   "cell_type": "code",
   "execution_count": 13,
   "outputs": [],
   "source": [
    "import time\n",
    "a = time.time()"
   ],
   "metadata": {
    "collapsed": false,
    "pycharm": {
     "name": "#%%\n"
    }
   }
  },
  {
   "cell_type": "code",
   "execution_count": 14,
   "outputs": [],
   "source": [
    "b = time.time()"
   ],
   "metadata": {
    "collapsed": false,
    "pycharm": {
     "name": "#%%\n"
    }
   }
  },
  {
   "cell_type": "code",
   "execution_count": 15,
   "outputs": [
    {
     "data": {
      "text/plain": "0.34261608123779297"
     },
     "execution_count": 15,
     "metadata": {},
     "output_type": "execute_result"
    }
   ],
   "source": [
    "b - a"
   ],
   "metadata": {
    "collapsed": false,
    "pycharm": {
     "name": "#%%\n"
    }
   }
  },
  {
   "cell_type": "code",
   "execution_count": 16,
   "outputs": [],
   "source": [
    "a,b = [1,2]"
   ],
   "metadata": {
    "collapsed": false,
    "pycharm": {
     "name": "#%%\n"
    }
   }
  },
  {
   "cell_type": "code",
   "execution_count": 19,
   "outputs": [],
   "source": [
    "d = torch.load(\"/home/zjh/mr/pretrain/dataset/0-10000_test.pth\")"
   ],
   "metadata": {
    "collapsed": false,
    "pycharm": {
     "name": "#%%\n"
    }
   }
  },
  {
   "cell_type": "code",
   "execution_count": 21,
   "outputs": [],
   "source": [
    "_,_,pos,dist_i,dist_j,dist,angle_i,angle_j,angle_k,angle,torsion_k,torsion_i,torsion_j,torsion_t,torsion = data[1]"
   ],
   "metadata": {
    "collapsed": false,
    "pycharm": {
     "name": "#%%\n"
    }
   }
  },
  {
   "cell_type": "code",
   "execution_count": 31,
   "outputs": [
    {
     "data": {
      "text/plain": "tensor(214)"
     },
     "execution_count": 31,
     "metadata": {},
     "output_type": "execute_result"
    }
   ],
   "source": [
    "torch.sum(torsion_k == torsion_k)"
   ],
   "metadata": {
    "collapsed": false,
    "pycharm": {
     "name": "#%%\n"
    }
   }
  },
  {
   "cell_type": "code",
   "execution_count": 33,
   "outputs": [
    {
     "name": "stdout",
     "output_type": "stream",
     "text": [
      "t\n"
     ]
    }
   ],
   "source": [
    "if torch.sum(torsion_k == torsion_k):\n",
    "    print(\"t\")"
   ],
   "metadata": {
    "collapsed": false,
    "pycharm": {
     "name": "#%%\n"
    }
   }
  },
  {
   "cell_type": "code",
   "execution_count": 25,
   "outputs": [
    {
     "data": {
      "text/plain": "tensor([32,  2, 32,  2, 32,  2,  3, 42,  3, 42,  4, 26,  4, 26,  5, 43,  5, 43,\n         6, 25,  6, 25,  7,  7,  8, 44,  9, 10,  9, 10, 25, 11, 25, 11, 12, 45,\n        12, 45, 17, 13, 17, 13, 14, 46, 14, 46, 15, 47, 15, 47, 16, 48, 16, 48,\n        17, 49, 17, 49, 18, 12, 18, 12, 19, 20, 21, 19, 20, 21, 50, 22, 24, 50,\n        22, 24, 50, 22, 24, 51, 52, 23, 51, 52, 23, 51, 52, 23, 53, 24, 54, 53,\n        24, 54, 53, 24, 54, 21, 55, 56, 21, 55, 56, 21, 55, 56,  5,  5, 27, 31,\n        27, 31, 28, 28, 57, 29, 30, 58, 59, 60, 58, 59, 60, 58, 59, 60, 62, 61,\n        63, 62, 61, 63, 62, 61, 63, 32, 64, 32, 64, 33,  1, 33,  1, 65, 34, 38,\n        65, 34, 38, 67, 35, 66, 67, 35, 66, 67, 35, 66, 36, 69, 68, 36, 69, 68,\n        36, 69, 68, 37, 70, 37, 70, 37, 70, 38, 71, 72, 38, 71, 72, 33, 73, 74,\n        33, 73, 74, 33, 73, 74,  0,  2,  0,  2, 32, 65, 34, 32, 65, 34, 32, 65,\n        34,  4,  6, 11, 13, 11, 13, 18, 50, 22, 18, 50, 22, 18, 50, 22],\n       dtype=torch.uint8)"
     },
     "execution_count": 25,
     "metadata": {},
     "output_type": "execute_result"
    }
   ],
   "source": [
    "torsion_t"
   ],
   "metadata": {
    "collapsed": false,
    "pycharm": {
     "name": "#%%\n"
    }
   }
  },
  {
   "cell_type": "code",
   "execution_count": 23,
   "outputs": [
    {
     "ename": "RuntimeError",
     "evalue": "Boolean value of Tensor with more than one value is ambiguous",
     "output_type": "error",
     "traceback": [
      "\u001B[0;31m---------------------------------------------------------------------------\u001B[0m",
      "\u001B[0;31mRuntimeError\u001B[0m                              Traceback (most recent call last)",
      "Cell \u001B[0;32mIn[23], line 3\u001B[0m\n\u001B[1;32m      1\u001B[0m \u001B[38;5;28;01mfor\u001B[39;00m row \u001B[38;5;129;01min\u001B[39;00m data:\n\u001B[1;32m      2\u001B[0m     _,_,pos,dist_i,dist_j,dist,angle_i,angle_j,angle_k,angle,torsion_k,torsion_i,torsion_j,torsion_t,torsion \u001B[38;5;241m=\u001B[39m row\n\u001B[0;32m----> 3\u001B[0m     \u001B[38;5;28;01mif\u001B[39;00m (torsion_k\u001B[38;5;241m==\u001B[39mtorsion_i):\n\u001B[1;32m      4\u001B[0m         \u001B[38;5;28mprint\u001B[39m(\u001B[38;5;124m\"\u001B[39m\u001B[38;5;124mt1\u001B[39m\u001B[38;5;124m\"\u001B[39m)\n\u001B[1;32m      5\u001B[0m     \u001B[38;5;28;01mif\u001B[39;00m (torsion_k \u001B[38;5;241m==\u001B[39m torsion_j):\n",
      "\u001B[0;31mRuntimeError\u001B[0m: Boolean value of Tensor with more than one value is ambiguous"
     ]
    }
   ],
   "source": [
    "for row in data:\n",
    "    _,_,pos,dist_i,dist_j,dist,angle_i,angle_j,angle_k,angle,torsion_k,torsion_i,torsion_j,torsion_t,torsion = row\n",
    "    if (torsion_k==torsion_i):\n",
    "        print(\"t1\")\n",
    "    if (torsion_k == torsion_j):\n",
    "        print(\"t2\")\n",
    "    if (torsion_k == torsion_t):\n",
    "        print(\"t3\"\n",
    "              )\n",
    "    if (torsion_i == torsion_j):\n",
    "        print(\"t4\")\n",
    "    if (torsion_t == torsion_j):\n",
    "        print(\"t5\")\n",
    "    if (torsion_t == torsion_i):\n",
    "        print(\"t6\")"
   ],
   "metadata": {
    "collapsed": false,
    "pycharm": {
     "name": "#%%\n"
    }
   }
  },
  {
   "cell_type": "code",
   "execution_count": 36,
   "outputs": [
    {
     "name": "stdout",
     "output_type": "stream",
     "text": [
      "0\n",
      "1\n",
      "2\n",
      "3\n",
      "4\n",
      "5\n",
      "6\n",
      "7\n",
      "8\n",
      "9\n",
      "10\n",
      "11\n",
      "12\n",
      "13\n",
      "14\n",
      "15\n",
      "16\n",
      "17\n",
      "18\n",
      "19\n",
      "20\n",
      "21\n",
      "22\n",
      "23\n",
      "24\n",
      "25\n",
      "26\n",
      "27\n",
      "28\n",
      "29\n",
      "30\n",
      "31\n",
      "32\n",
      "33\n",
      "34\n",
      "35\n",
      "36\n",
      "37\n",
      "38\n",
      "39\n",
      "40\n",
      "41\n",
      "42\n",
      "43\n",
      "44\n",
      "45\n",
      "46\n",
      "47\n",
      "48\n"
     ]
    }
   ],
   "source": [
    "base_dir = \"/home/zjh/mr/pretrain/dataset\"\n",
    "\n",
    "for i in range(0,49):\n",
    "    print(i)\n",
    "    start = time.time()\n",
    "    fn = str(i*10000)+\"-\"+str((i+1)*10000)+\"_test.pth\"\n",
    "    data = torch.load(os.path.join(base_dir,fn))\n",
    "    for row in data:\n",
    "        _,_,pos,dist_i,dist_j,dist,angle_i,angle_j,angle_k,angle,torsion_k,torsion_i,torsion_j,torsion_t,torsion = row\n",
    "        if (torch.sum(torsion_k==torsion_i)):\n",
    "            print(\"t1\")\n",
    "        if torch.sum(torsion_k == torsion_j):\n",
    "            print(\"t2\")\n",
    "        if torch.sum(torsion_k == torsion_t):\n",
    "            print(\"t3\"\n",
    "                  )\n",
    "        if torch.sum(torsion_i == torsion_j):\n",
    "            print(\"t4\")\n",
    "        if torch.sum(torsion_t == torsion_j):\n",
    "            print(\"t5\")\n",
    "        if torch.sum(torsion_t == torsion_i):\n",
    "            print(\"t6\")\n",
    "\n"
   ],
   "metadata": {
    "collapsed": false,
    "pycharm": {
     "name": "#%%\n"
    }
   }
  },
  {
   "cell_type": "code",
   "execution_count": 13,
   "outputs": [
    {
     "name": "stdout",
     "output_type": "stream",
     "text": [
      "1\n"
     ]
    },
    {
     "name": "stderr",
     "output_type": "stream",
     "text": [
      " 10%|▉         | 953/9996 [00:00<00:03, 2987.12it/s]"
     ]
    },
    {
     "name": "stdout",
     "output_type": "stream",
     "text": [
      "valid\n"
     ]
    },
    {
     "name": "stderr",
     "output_type": "stream",
     "text": [
      " 45%|████▌     | 4530/9996 [00:01<00:01, 3675.49it/s]"
     ]
    },
    {
     "name": "stdout",
     "output_type": "stream",
     "text": [
      "valid\n"
     ]
    },
    {
     "name": "stderr",
     "output_type": "stream",
     "text": [
      " 59%|█████▉    | 5911/9996 [00:01<00:01, 3694.71it/s]"
     ]
    },
    {
     "name": "stdout",
     "output_type": "stream",
     "text": [
      "valid\n",
      "valid\n"
     ]
    },
    {
     "name": "stderr",
     "output_type": "stream",
     "text": [
      " 83%|████████▎ | 8291/9996 [00:02<00:00, 5701.62it/s]"
     ]
    },
    {
     "name": "stdout",
     "output_type": "stream",
     "text": [
      "valid\n",
      "valid\n"
     ]
    },
    {
     "name": "stderr",
     "output_type": "stream",
     "text": [
      "100%|██████████| 9996/9996 [00:02<00:00, 4049.45it/s]"
     ]
    },
    {
     "name": "stdout",
     "output_type": "stream",
     "text": [
      "valid\n",
      "valid\n"
     ]
    },
    {
     "name": "stderr",
     "output_type": "stream",
     "text": [
      "\n"
     ]
    },
    {
     "name": "stdout",
     "output_type": "stream",
     "text": [
      "2\n"
     ]
    },
    {
     "name": "stderr",
     "output_type": "stream",
     "text": [
      " 20%|██        | 2028/9995 [00:00<00:01, 4010.17it/s]"
     ]
    },
    {
     "name": "stdout",
     "output_type": "stream",
     "text": [
      "valid\n",
      "valid\n",
      "valid\n"
     ]
    },
    {
     "name": "stderr",
     "output_type": "stream",
     "text": [
      " 48%|████▊     | 4823/9995 [00:01<00:00, 5446.83it/s]"
     ]
    },
    {
     "name": "stdout",
     "output_type": "stream",
     "text": [
      "valid\n",
      "valid\n"
     ]
    },
    {
     "name": "stderr",
     "output_type": "stream",
     "text": [
      " 76%|███████▌  | 7613/9995 [00:01<00:00, 6355.72it/s]"
     ]
    },
    {
     "name": "stdout",
     "output_type": "stream",
     "text": [
      "valid\n",
      "valid\n",
      "valid\n"
     ]
    },
    {
     "name": "stderr",
     "output_type": "stream",
     "text": [
      " 94%|█████████▍| 9383/9995 [00:02<00:00, 4932.41it/s]"
     ]
    },
    {
     "name": "stdout",
     "output_type": "stream",
     "text": [
      "valid\n"
     ]
    },
    {
     "name": "stderr",
     "output_type": "stream",
     "text": [
      "100%|██████████| 9995/9995 [00:02<00:00, 4566.69it/s]\n"
     ]
    },
    {
     "name": "stdout",
     "output_type": "stream",
     "text": [
      "3\n"
     ]
    },
    {
     "name": "stderr",
     "output_type": "stream",
     "text": [
      " 11%|█▏        | 1148/9994 [00:00<00:03, 2590.65it/s]"
     ]
    },
    {
     "name": "stdout",
     "output_type": "stream",
     "text": [
      "valid\n",
      "valid\n"
     ]
    },
    {
     "name": "stderr",
     "output_type": "stream",
     "text": [
      " 38%|███▊      | 3809/9994 [00:01<00:01, 4186.82it/s]"
     ]
    },
    {
     "name": "stdout",
     "output_type": "stream",
     "text": [
      "valid\n",
      "valid\n",
      "valid\n"
     ]
    },
    {
     "name": "stderr",
     "output_type": "stream",
     "text": [
      " 55%|█████▍    | 5493/9994 [00:01<00:01, 3638.87it/s]"
     ]
    },
    {
     "name": "stdout",
     "output_type": "stream",
     "text": [
      "valid\n",
      "valid\n",
      "valid\n"
     ]
    },
    {
     "name": "stderr",
     "output_type": "stream",
     "text": [
      " 62%|██████▏   | 6230/9994 [00:01<00:01, 3452.57it/s]"
     ]
    },
    {
     "name": "stdout",
     "output_type": "stream",
     "text": [
      "valid\n",
      "valid\n"
     ]
    },
    {
     "name": "stderr",
     "output_type": "stream",
     "text": [
      " 75%|███████▍  | 7465/9994 [00:02<00:00, 3811.08it/s]"
     ]
    },
    {
     "name": "stdout",
     "output_type": "stream",
     "text": [
      "valid\n"
     ]
    },
    {
     "name": "stderr",
     "output_type": "stream",
     "text": [
      " 79%|███████▊  | 7851/9994 [00:04<00:03, 568.44it/s] "
     ]
    },
    {
     "name": "stdout",
     "output_type": "stream",
     "text": [
      "valid\n",
      "valid\n"
     ]
    },
    {
     "name": "stderr",
     "output_type": "stream",
     "text": [
      " 93%|█████████▎| 9310/9994 [00:04<00:00, 1509.62it/s]"
     ]
    },
    {
     "name": "stdout",
     "output_type": "stream",
     "text": [
      "valid\n"
     ]
    },
    {
     "name": "stderr",
     "output_type": "stream",
     "text": [
      "100%|██████████| 9994/9994 [00:04<00:00, 2022.79it/s]\n"
     ]
    },
    {
     "name": "stdout",
     "output_type": "stream",
     "text": [
      "4\n"
     ]
    },
    {
     "name": "stderr",
     "output_type": "stream",
     "text": [
      " 15%|█▍        | 1497/9996 [00:00<00:02, 4155.86it/s]"
     ]
    },
    {
     "name": "stdout",
     "output_type": "stream",
     "text": [
      "valid\n",
      "valid\n",
      "valid\n"
     ]
    },
    {
     "name": "stderr",
     "output_type": "stream",
     "text": [
      " 40%|████      | 4020/9996 [00:01<00:01, 4283.19it/s]"
     ]
    },
    {
     "name": "stdout",
     "output_type": "stream",
     "text": [
      "272\n",
      "valid\n"
     ]
    },
    {
     "name": "stderr",
     "output_type": "stream",
     "text": [
      " 49%|████▊     | 4858/9996 [00:01<00:01, 3652.74it/s]"
     ]
    },
    {
     "name": "stdout",
     "output_type": "stream",
     "text": [
      "valid\n"
     ]
    },
    {
     "name": "stderr",
     "output_type": "stream",
     "text": [
      " 75%|███████▌  | 7540/9996 [00:02<00:00, 3659.09it/s]"
     ]
    },
    {
     "name": "stdout",
     "output_type": "stream",
     "text": [
      "valid\n"
     ]
    },
    {
     "name": "stderr",
     "output_type": "stream",
     "text": [
      "100%|██████████| 9996/9996 [00:02<00:00, 3754.21it/s]\n"
     ]
    },
    {
     "name": "stdout",
     "output_type": "stream",
     "text": [
      "5\n"
     ]
    },
    {
     "name": "stderr",
     "output_type": "stream",
     "text": [
      " 12%|█▏        | 1207/9997 [00:00<00:02, 3058.61it/s]"
     ]
    },
    {
     "name": "stdout",
     "output_type": "stream",
     "text": [
      "valid\n"
     ]
    },
    {
     "name": "stderr",
     "output_type": "stream",
     "text": [
      " 21%|██▏       | 2140/9997 [00:00<00:02, 2807.73it/s]"
     ]
    },
    {
     "name": "stdout",
     "output_type": "stream",
     "text": [
      "valid\n"
     ]
    },
    {
     "name": "stderr",
     "output_type": "stream",
     "text": [
      " 32%|███▏      | 3163/9997 [00:01<00:02, 3175.67it/s]"
     ]
    },
    {
     "name": "stdout",
     "output_type": "stream",
     "text": [
      "valid\n",
      "valid\n"
     ]
    },
    {
     "name": "stderr",
     "output_type": "stream",
     "text": [
      " 50%|████▉     | 4985/9997 [00:01<00:01, 4164.63it/s]"
     ]
    },
    {
     "name": "stdout",
     "output_type": "stream",
     "text": [
      "valid\n",
      "valid\n"
     ]
    },
    {
     "name": "stderr",
     "output_type": "stream",
     "text": [
      " 70%|███████   | 7025/9997 [00:01<00:00, 5637.40it/s]"
     ]
    },
    {
     "name": "stdout",
     "output_type": "stream",
     "text": [
      "valid\n"
     ]
    },
    {
     "name": "stderr",
     "output_type": "stream",
     "text": [
      " 82%|████████▏ | 8219/9997 [00:02<00:00, 5490.14it/s]"
     ]
    },
    {
     "name": "stdout",
     "output_type": "stream",
     "text": [
      "valid\n"
     ]
    },
    {
     "name": "stderr",
     "output_type": "stream",
     "text": [
      "100%|██████████| 9997/9997 [00:02<00:00, 4073.93it/s]\n"
     ]
    },
    {
     "name": "stdout",
     "output_type": "stream",
     "text": [
      "6\n"
     ]
    },
    {
     "name": "stderr",
     "output_type": "stream",
     "text": [
      " 34%|███▎      | 3351/9997 [00:01<00:02, 3303.07it/s]"
     ]
    },
    {
     "name": "stdout",
     "output_type": "stream",
     "text": [
      "valid\n",
      "valid\n"
     ]
    },
    {
     "name": "stderr",
     "output_type": "stream",
     "text": [
      " 56%|█████▌    | 5568/9997 [00:02<00:01, 4105.16it/s]"
     ]
    },
    {
     "name": "stdout",
     "output_type": "stream",
     "text": [
      "valid\n"
     ]
    },
    {
     "name": "stderr",
     "output_type": "stream",
     "text": [
      " 90%|█████████ | 9033/9997 [00:02<00:00, 5492.88it/s]"
     ]
    },
    {
     "name": "stdout",
     "output_type": "stream",
     "text": [
      "valid\n"
     ]
    },
    {
     "name": "stderr",
     "output_type": "stream",
     "text": [
      "100%|██████████| 9997/9997 [00:02<00:00, 3391.22it/s]\n"
     ]
    },
    {
     "name": "stdout",
     "output_type": "stream",
     "text": [
      "7\n"
     ]
    },
    {
     "name": "stderr",
     "output_type": "stream",
     "text": [
      " 13%|█▎        | 1252/9998 [00:00<00:02, 3939.99it/s]"
     ]
    },
    {
     "name": "stdout",
     "output_type": "stream",
     "text": [
      "valid\n",
      "valid\n"
     ]
    },
    {
     "name": "stderr",
     "output_type": "stream",
     "text": [
      " 27%|██▋       | 2651/9998 [00:00<00:01, 4326.53it/s]"
     ]
    },
    {
     "name": "stdout",
     "output_type": "stream",
     "text": [
      "valid\n",
      "valid\n",
      "valid\n"
     ]
    },
    {
     "name": "stderr",
     "output_type": "stream",
     "text": [
      " 38%|███▊      | 3818/9998 [00:00<00:01, 4836.93it/s]"
     ]
    },
    {
     "name": "stdout",
     "output_type": "stream",
     "text": [
      "valid\n"
     ]
    },
    {
     "name": "stderr",
     "output_type": "stream",
     "text": [
      " 57%|█████▋    | 5679/9998 [00:01<00:00, 5666.58it/s]"
     ]
    },
    {
     "name": "stdout",
     "output_type": "stream",
     "text": [
      "valid\n",
      "valid\n"
     ]
    },
    {
     "name": "stderr",
     "output_type": "stream",
     "text": [
      " 69%|██████▉   | 6884/9998 [00:01<00:00, 5550.42it/s]"
     ]
    },
    {
     "name": "stdout",
     "output_type": "stream",
     "text": [
      "valid\n",
      "valid\n",
      "valid\n"
     ]
    },
    {
     "name": "stderr",
     "output_type": "stream",
     "text": [
      " 74%|███████▍  | 7444/9998 [00:01<00:00, 4713.06it/s]"
     ]
    },
    {
     "name": "stdout",
     "output_type": "stream",
     "text": [
      "valid\n",
      "valid\n"
     ]
    },
    {
     "name": "stderr",
     "output_type": "stream",
     "text": [
      " 84%|████████▍ | 8404/9998 [00:01<00:00, 4060.92it/s]"
     ]
    },
    {
     "name": "stdout",
     "output_type": "stream",
     "text": [
      "valid\n"
     ]
    },
    {
     "name": "stderr",
     "output_type": "stream",
     "text": [
      "100%|██████████| 9998/9998 [00:02<00:00, 4335.66it/s]\n"
     ]
    },
    {
     "name": "stdout",
     "output_type": "stream",
     "text": [
      "8\n"
     ]
    },
    {
     "name": "stderr",
     "output_type": "stream",
     "text": [
      "  5%|▍         | 472/9991 [00:00<00:03, 2696.05it/s]"
     ]
    },
    {
     "name": "stdout",
     "output_type": "stream",
     "text": [
      "valid\n"
     ]
    },
    {
     "name": "stderr",
     "output_type": "stream",
     "text": [
      " 31%|███▏      | 3141/9991 [00:01<00:02, 2712.25it/s]"
     ]
    },
    {
     "name": "stdout",
     "output_type": "stream",
     "text": [
      "valid\n",
      "valid\n"
     ]
    },
    {
     "name": "stderr",
     "output_type": "stream",
     "text": [
      " 41%|████      | 4079/9991 [00:02<00:01, 3528.02it/s]"
     ]
    },
    {
     "name": "stdout",
     "output_type": "stream",
     "text": [
      "valid\n"
     ]
    },
    {
     "name": "stderr",
     "output_type": "stream",
     "text": [
      " 50%|█████     | 5009/9991 [00:02<00:01, 3662.47it/s]"
     ]
    },
    {
     "name": "stdout",
     "output_type": "stream",
     "text": [
      "valid\n"
     ]
    },
    {
     "name": "stderr",
     "output_type": "stream",
     "text": [
      " 70%|███████   | 7030/9991 [00:02<00:00, 4691.34it/s]"
     ]
    },
    {
     "name": "stdout",
     "output_type": "stream",
     "text": [
      "valid\n",
      "valid\n"
     ]
    },
    {
     "name": "stderr",
     "output_type": "stream",
     "text": [
      " 88%|████████▊ | 8817/9991 [00:03<00:00, 4048.02it/s]"
     ]
    },
    {
     "name": "stdout",
     "output_type": "stream",
     "text": [
      "valid\n"
     ]
    },
    {
     "name": "stderr",
     "output_type": "stream",
     "text": [
      "100%|██████████| 9991/9991 [00:03<00:00, 2890.76it/s]\n"
     ]
    },
    {
     "name": "stdout",
     "output_type": "stream",
     "text": [
      "9\n"
     ]
    },
    {
     "name": "stderr",
     "output_type": "stream",
     "text": [
      "  8%|▊         | 825/9998 [00:00<00:02, 3534.21it/s]"
     ]
    },
    {
     "name": "stdout",
     "output_type": "stream",
     "text": [
      "valid\n"
     ]
    },
    {
     "name": "stderr",
     "output_type": "stream",
     "text": [
      " 60%|██████    | 6012/9998 [00:01<00:01, 3786.59it/s]"
     ]
    },
    {
     "name": "stdout",
     "output_type": "stream",
     "text": [
      "valid\n",
      "valid\n"
     ]
    },
    {
     "name": "stderr",
     "output_type": "stream",
     "text": [
      "100%|██████████| 9998/9998 [00:02<00:00, 4152.39it/s]\n"
     ]
    },
    {
     "name": "stdout",
     "output_type": "stream",
     "text": [
      "valid\n"
     ]
    }
   ],
   "source": [
    "def pro(data):\n",
    "    new_data = []\n",
    "    for row in tqdm(iter(data),total=len(data)):\n",
    "        smiles = row[0]\n",
    "        nmr = row[1]\n",
    "        pos,dist_i,dist_j,dist,angle_i,angle_j,angle_k,angle,torsion_k,torsion_i,torsion_j,torsion_t,torsion = [d for d in row[2:]]\n",
    "        if (len(pos) > 255):\n",
    "            print(len(pos))\n",
    "            continue\n",
    "        if (len(dist)==0 or len(angle)==0 or len(torsion)==0):\n",
    "            print(\"valid\")\n",
    "            continue\n",
    "        new_data.append([smiles,torch.tensor(nmr),pos,dist_i.byte(),dist_j.byte(),dist,angle_i.byte(),angle_j.byte(),angle_k.byte(),angle,torsion_k.byte(),torsion_i.byte(),torsion_j.byte(),torsion_t.byte(),\n",
    "                         torsion])\n",
    "    return new_data\n",
    "base_dir = \"/home/zjh/mr/pretrain/dataset\"\n",
    "for i in range(1,10):\n",
    "    print(i)\n",
    "    fn = str(i*10000)+\"-\"+str((i+1)*10000)+\".pth\"\n",
    "    fn_prefix = str(i*10000)+\"-\"+str((i+1)*10000)\n",
    "    data = torch.load(os.path.join(base_dir,fn))\n",
    "    new_data = pro(data)\n",
    "    torch.save(new_data,os.path.join(base_dir,fn_prefix+\"_test.pth\"))\n"
   ],
   "metadata": {
    "collapsed": false,
    "pycharm": {
     "name": "#%%\n"
    }
   }
  },
  {
   "cell_type": "code",
   "execution_count": 274,
   "outputs": [],
   "source": [
    "from tqdm import tqdm\n",
    "import os\n",
    "data1 = torch.load(\"/home/zjh/mr/pretrain/dataset/pretra.pth\")\n",
    "data2 = torch.load(\"/home/zjh/mr/pretrain/dataset/10000-20000.pth\")"
   ],
   "metadata": {
    "collapsed": false,
    "pycharm": {
     "name": "#%%\n"
    }
   }
  },
  {
   "cell_type": "code",
   "execution_count": 275,
   "outputs": [],
   "source": [
    "smi, nmr,pos,dist_i,dist_j,dist,angle_i,angle_j,angle_k,angle,torsion_k,torsion_i,torsion_j,torsion_t,torsion = data1[0]"
   ],
   "metadata": {
    "collapsed": false,
    "pycharm": {
     "name": "#%%\n"
    }
   }
  },
  {
   "cell_type": "code",
   "execution_count": 276,
   "outputs": [
    {
     "data": {
      "text/plain": "tensor([ 117,   16,  -97,  150,  154,   11,  -79,  122,  137,  157,  154,  157,\n         137,    8,  -81, -124,   17,   -7,   53,   57,   58,   53,  234,   23,\n          29,   29,   29,   29,   28,   28,   30,   30,   29,   30,   30,   28,\n          28,   24,   25,   24], dtype=torch.int32)"
     },
     "execution_count": 276,
     "metadata": {},
     "output_type": "execute_result"
    }
   ],
   "source": [
    "nmr"
   ],
   "metadata": {
    "collapsed": false,
    "pycharm": {
     "name": "#%%\n"
    }
   }
  },
  {
   "cell_type": "code",
   "execution_count": 339,
   "outputs": [],
   "source": [
    "import bisect\n",
    "import copy\n",
    "from typing import Any, List, Dict\n",
    "import torch\n",
    "from sklearn.model_selection import train_test_split\n",
    "from torch.utils.data import Dataset, DataLoader, random_split\n",
    "from tokenizer import Tokenizer\n",
    "import numpy as np\n",
    "\n",
    "from utils import Smiles_to_adjoin, pad_mol_nmr, apply_mask\n",
    "\n",
    "\n",
    "class Pretrain_Masked_AtomNmr_Dataset_3D(Dataset):\n",
    "    def __init__(self,data = None, mol_fix_len=256):\n",
    "        super().__init__()\n",
    "        self.data = data\n",
    "        self.mol_fix_len = mol_fix_len\n",
    "        self.tokenizer = Tokenizer()\n",
    "\n",
    "\n",
    "    def __len__(self) -> int:\n",
    "        return len(self.data)\n",
    "\n",
    "    def __getitem__(self, index):\n",
    "\n",
    "\n",
    "        # pos,dist_i,dist_j,dist,angle_i,angle_j,angle_k,angle,torsion_k,torsion_i,torsion_j,torsion_t,torsion = [d.detach().numpy() for d in self.data[index][2:]]\n",
    "\n",
    "        smi, nmr,pos,dist_i,dist_j,dist,angle_i,angle_j,angle_k,angle,torsion_k,torsion_i,torsion_j,torsion_t,torsion = self.data[index]\n",
    "        nmr = np.array(nmr)\n",
    "        atom_symbol_list, adjoin_matrix = Smiles_to_adjoin(smi, explicit_hydrogens=True,size=self.mol_fix_len - 1)\n",
    "\n",
    "        nmr = nmr + 801\n",
    "\n",
    "        atom_symbol_list_interim = self.tokenizer.add_special_atom(atom_symbol_list)\n",
    "        nmr_interim = np.insert(nmr, 0,0)\n",
    "\n",
    "        # 截断\n",
    "        if len(atom_symbol_list) > self.mol_fix_len:\n",
    "            atom_symbol_list_interim = atom_symbol_list_interim[:self.mol_fix_len]\n",
    "            nmr_interim = nmr_interim[:self.mol_fix_len]\n",
    "\n",
    "        raw_nmr = copy.copy(nmr_interim)\n",
    "        raw_atom_symbol_list = copy.copy(atom_symbol_list_interim)\n",
    "        raw_mol_ids_list = np.array(self.tokenizer.convert_atoms_to_ids(raw_atom_symbol_list), np.int64)\n",
    "\n",
    "\n",
    "        masked_atom_symbol_list,masked_nmr,masked_flag = apply_mask(atom_symbol_list_interim, nmr_interim,self.tokenizer)\n",
    "\n",
    "\n",
    "        masked_mol_ids_list = np.array(self.tokenizer.convert_atoms_to_ids(masked_atom_symbol_list), np.int64)\n",
    "        masked_flag =  np.array(masked_flag,np.int64)\n",
    "\n",
    "        adjoin_matrix_G = np.ones([len(atom_symbol_list_interim),len(atom_symbol_list_interim)])\n",
    "        adjoin_matrix_G[1:, 1:] = adjoin_matrix\n",
    "\n",
    "\n",
    "        return  adjoin_matrix_G, masked_mol_ids_list, masked_nmr, raw_nmr,masked_flag, raw_mol_ids_list,pos,\\\n",
    "                dist_i.long(),dist_j.long(),dist,angle_i.long(),angle_j.long(),angle_k.long(),angle,\\\n",
    "                torsion_k.long(),torsion_i.long(),torsion_j.long(),torsion_t.long(),torsion\n",
    "\n",
    "    @staticmethod\n",
    "    def collate_fn(batch: List[Any]) -> Dict[str, torch.Tensor]:\n",
    "        adjoin_matrix_G, masked_mol_ids_list, masked_nmr, raw_nmr,masked_flag, raw_mol_ids_list,pos,dist_i,dist_j,dist,angle_i,angle_j,angle_k,angle,torsion_k,torsion_i,torsion_j,torsion_t,torsion = tuple(zip(*batch))\n",
    "\n",
    "        batch_size = len(adjoin_matrix_G)\n",
    "        # 该batch最大的图的shape,其余的图需要对齐到该shape\n",
    "        padding_shape = np.max([seq.shape for seq in adjoin_matrix_G])\n",
    "        shape = [batch_size] + [padding_shape] * 2\n",
    "        dtype = adjoin_matrix_G[0].dtype\n",
    "\n",
    "        array = np.full(shape, 0, dtype=dtype)\n",
    "        for arr, matrix in zip(array, adjoin_matrix_G):\n",
    "            arrslice = tuple(slice(dim) for dim in matrix.shape)\n",
    "            arr[arrslice] = matrix\n",
    "        adjoin_matrix_G = torch.from_numpy(array)\n",
    "\n",
    "        # 将每个分子的nmr列表长度对齐（对齐到该batch中拥有最多原子的分子),\n",
    "        # <padding>对应的nmr不会参与运算，设为任意值即可（[0,1801],这里设为0\n",
    "        masked_mol_ids = torch.from_numpy(pad_mol_nmr(masked_mol_ids_list, 0)).long()\n",
    "        atom_labels = torch.from_numpy(pad_mol_nmr(raw_mol_ids_list, 0)).long()\n",
    "        masked_nmr = torch.from_numpy(pad_mol_nmr(masked_nmr, 0)).long()\n",
    "        nmr_labels = torch.from_numpy(pad_mol_nmr(raw_nmr, 0)).long()\n",
    "        masked_flag = torch.from_numpy(pad_mol_nmr(masked_flag, False))\n",
    "\n",
    "\n",
    "        def index_helper(idx_tuple,padding_shape):\n",
    "            # 第一个节点是global节点，需要跳过\n",
    "            for i,idx in enumerate(idx_tuple):\n",
    "\n",
    "                idx += 1\n",
    "                idx += i * padding_shape\n",
    "\n",
    "\n",
    "        for idx_tuple in [dist_i,dist_j,angle_i,angle_j,angle_k,torsion_k,torsion_i,torsion_j,torsion_t]:\n",
    "            index_helper(idx_tuple,padding_shape)\n",
    "\n",
    "\n",
    "\n",
    "        return {'adjoin_matrix': adjoin_matrix_G,\n",
    "                'masked_mol_ids': masked_mol_ids,\n",
    "                'masked_nmr': masked_nmr,\n",
    "                'nmr_labels': nmr_labels,\n",
    "                \"atom_labels\": atom_labels,\n",
    "                \"masked_flag\": masked_flag,\n",
    "                \"pos\":torch.concat(pos),\n",
    "                \"dist_i\":torch.concat(dist_i) ,\n",
    "                \"dist_j\":torch.concat(dist_j) ,\n",
    "                \"dist\":torch.concat(dist),\n",
    "                \"angle_i\":torch.concat(angle_i),\n",
    "                \"angle_j\":torch.concat(angle_j) ,\n",
    "                \"angle_k\":torch.concat(angle_k) ,\n",
    "                \"angle\":torch.concat(angle),\n",
    "                \"torsion_k\":torch.concat(torsion_k),\n",
    "                \"torsion_i\":torch.concat(torsion_i),\n",
    "                \"torsion_j\":torch.concat(torsion_j),\n",
    "                \"torsion_t\":torch.concat(torsion_t),\n",
    "                \"torsion\":torch.concat(torsion),\n",
    "                }"
   ],
   "metadata": {
    "collapsed": false,
    "pycharm": {
     "name": "#%%\n"
    }
   }
  },
  {
   "cell_type": "code",
   "execution_count": null,
   "outputs": [],
   "source": [],
   "metadata": {
    "collapsed": false,
    "pycharm": {
     "name": "#%%\n"
    }
   }
  },
  {
   "cell_type": "code",
   "execution_count": 385,
   "outputs": [],
   "source": [
    "a = torch.load(\"/home/zjh/mr/pretrain/dataset/pretrain_dataset_3d_2.pth\")"
   ],
   "metadata": {
    "collapsed": false,
    "pycharm": {
     "name": "#%%\n"
    }
   }
  },
  {
   "cell_type": "code",
   "execution_count": 387,
   "outputs": [],
   "source": [
    "torch.save(a[:10000],\"/home/zjh/mr/pretrain/dataset/0-10000_test.pth\")"
   ],
   "metadata": {
    "collapsed": false,
    "pycharm": {
     "name": "#%%\n"
    }
   }
  },
  {
   "cell_type": "code",
   "execution_count": null,
   "outputs": [],
   "source": [],
   "metadata": {
    "collapsed": false,
    "pycharm": {
     "name": "#%%\n"
    }
   }
  },
  {
   "cell_type": "code",
   "execution_count": null,
   "outputs": [],
   "source": [],
   "metadata": {
    "collapsed": false,
    "pycharm": {
     "name": "#%%\n"
    }
   }
  },
  {
   "cell_type": "code",
   "execution_count": null,
   "outputs": [],
   "source": [],
   "metadata": {
    "collapsed": false,
    "pycharm": {
     "name": "#%%\n"
    }
   }
  },
  {
   "cell_type": "code",
   "execution_count": null,
   "outputs": [],
   "source": [],
   "metadata": {
    "collapsed": false,
    "pycharm": {
     "name": "#%%\n"
    }
   }
  },
  {
   "cell_type": "code",
   "execution_count": 340,
   "outputs": [],
   "source": [
    "dataset= Pretrain_Masked_AtomNmr_Dataset_3D(data=data1)"
   ],
   "metadata": {
    "collapsed": false,
    "pycharm": {
     "name": "#%%\n"
    }
   }
  },
  {
   "cell_type": "code",
   "execution_count": 341,
   "outputs": [],
   "source": [
    "train_dataloader = DataLoader(dataset, batch_size=8,\n",
    "                                  collate_fn=Pretrain_Masked_AtomNmr_Dataset_3D.collate_fn, shuffle=True,\n",
    "                                  num_workers=0)\n",
    "for batch in train_dataloader:\n",
    "    break"
   ],
   "metadata": {
    "collapsed": false,
    "pycharm": {
     "name": "#%%\n"
    }
   }
  },
  {
   "cell_type": "code",
   "execution_count": 342,
   "outputs": [],
   "source": [
    "from models import Pretrain_MR_BERT_3D"
   ],
   "metadata": {
    "collapsed": false,
    "pycharm": {
     "name": "#%%\n"
    }
   }
  },
  {
   "cell_type": "code",
   "execution_count": 343,
   "outputs": [],
   "source": [
    "import yaml\n",
    "from easydict import EasyDict\n",
    "\n",
    "config_file = \"/home/zjh/remote/mrbert/V1/config_pretrain_3D.yml\"\n",
    "with open(config_file, \"r\") as f:\n",
    "    config = EasyDict(yaml.safe_load(f))"
   ],
   "metadata": {
    "collapsed": false,
    "pycharm": {
     "name": "#%%\n"
    }
   }
  },
  {
   "cell_type": "code",
   "execution_count": 344,
   "outputs": [],
   "source": [
    "model = Pretrain_MR_BERT_3D(**config.bert)"
   ],
   "metadata": {
    "collapsed": false,
    "pycharm": {
     "name": "#%%\n"
    }
   }
  },
  {
   "cell_type": "code",
   "execution_count": 345,
   "outputs": [],
   "source": [
    "batch_data = batch"
   ],
   "metadata": {
    "collapsed": false,
    "pycharm": {
     "name": "#%%\n"
    }
   }
  },
  {
   "cell_type": "code",
   "execution_count": 346,
   "outputs": [],
   "source": [
    "\n",
    "adjoin_matrix = batch_data['adjoin_matrix']\n",
    "masked_mol_ids = batch_data[\"masked_mol_ids\"]\n",
    "masked_nmr = batch_data[\"masked_nmr\"]\n",
    "nmr_labels = batch_data[\"nmr_labels\"].float()\n",
    "atom_labels = batch_data[\"atom_labels\"]\n",
    "masked_flag = batch_data[\"masked_flag\"]\n",
    "\n",
    "pos_raw = batch_data[\"pos\"]\n",
    "dist_i = batch_data[\"dist_i\"]\n",
    "dist_j = batch_data[\"dist_j\"]\n",
    "dist = batch_data[\"dist\"]\n",
    "angle_i = batch_data[\"angle_i\"]\n",
    "angle_j = batch_data[\"angle_j\"]\n",
    "angle_k = batch_data[\"angle_k\"]\n",
    "angle = batch_data[\"angle\"]\n",
    "torsion_k = batch_data[\"torsion_k\"]\n",
    "torsion_i = batch_data[\"torsion_i\"]\n",
    "torsion_j = batch_data[\"torsion_j\"]\n",
    "torsion_t = batch_data[\"torsion_t\"]\n",
    "torsion = batch_data[\"torsion\"]\n",
    "\n",
    "nmr, atom, pos, x_atom, x_nmr, x_pos, share = model(masked_mol_ids, masked_nmr, adjoin_matrix)\n"
   ],
   "metadata": {
    "collapsed": false,
    "pycharm": {
     "name": "#%%\n"
    }
   }
  },
  {
   "cell_type": "code",
   "execution_count": 347,
   "outputs": [
    {
     "data": {
      "text/plain": "tensor([  1,   1,   1,  ..., 830, 830, 830])"
     },
     "execution_count": 347,
     "metadata": {},
     "output_type": "execute_result"
    }
   ],
   "source": [
    "dist_i"
   ],
   "metadata": {
    "collapsed": false,
    "pycharm": {
     "name": "#%%\n"
    }
   }
  },
  {
   "cell_type": "code",
   "execution_count": 348,
   "outputs": [
    {
     "data": {
      "text/plain": "tensor([[-0.2586,  0.5305,  0.1180,  ...,  0.9983, -1.3127,  0.6645],\n        [-0.2586,  0.5305,  0.1180,  ...,  0.9983, -1.3127,  0.6645],\n        [-0.2586,  0.5305,  0.1180,  ...,  0.9983, -1.3127,  0.6645],\n        ...,\n        [-0.7826,  0.3751, -0.4737,  ..., -1.7343, -0.8775, -1.1144],\n        [-0.7826,  0.3751, -0.4737,  ..., -1.7343, -0.8775, -1.1144],\n        [-0.7826,  0.3751, -0.4737,  ..., -1.7343, -0.8775, -1.1144]],\n       grad_fn=<IndexBackward0>)"
     },
     "execution_count": 348,
     "metadata": {},
     "output_type": "execute_result"
    }
   ],
   "source": [
    "x_atom.reshape(-1,x_atom.shape[-1])[dist_i]"
   ],
   "metadata": {
    "collapsed": false,
    "pycharm": {
     "name": "#%%\n"
    }
   }
  },
  {
   "cell_type": "code",
   "execution_count": 356,
   "outputs": [],
   "source": [
    "from utils import get_torsion\n",
    "from utils import get_dist\n",
    "from utils import get_angle\n"
   ],
   "metadata": {
    "collapsed": false,
    "pycharm": {
     "name": "#%%\n"
    }
   }
  },
  {
   "cell_type": "code",
   "execution_count": 357,
   "outputs": [],
   "source": [
    "from utils import get_angle\n",
    "\n",
    "\n",
    "def compute_loss_dist(dist_labels, pos, dist_i, dist_j):\n",
    "    pos = pos.reshape(-1,pos.shape[-1])\n",
    "    dist_pred = get_dist(pos,dist_i,dist_j)\n",
    "    loss = torch.nn.functional.mse_loss(dist_pred, dist_labels)\n",
    "    return loss\n",
    "\n",
    "def compute_loss_torsion(torsion_labels, pos, torsion_k, torsion_i, torsion_j, torsion_t):\n",
    "    pos = pos.reshape(-1,pos.shape[-1])\n",
    "    torsion_pred = get_torsion(pos,torsion_k, torsion_i, torsion_j, torsion_t)\n",
    "    loss = torch.nn.functional.mse_loss(torsion_pred, torsion_labels)\n",
    "    return loss\n",
    "\n",
    "def compute_loss_angle(angle_labels, pos, angle_i, angle_j, angle_k):\n",
    "    pos = pos.reshape(-1,pos.shape[-1])\n",
    "    angle_pred = get_angle(pos,angle_i,angle_j,angle_k)\n",
    "    loss = torch.nn.functional.mse_loss(angle_pred, angle_labels)\n",
    "\n",
    "    return loss"
   ],
   "metadata": {
    "collapsed": false,
    "pycharm": {
     "name": "#%%\n"
    }
   }
  },
  {
   "cell_type": "code",
   "execution_count": 46,
   "outputs": [],
   "source": [
    "# def get_dist_matrix(shape,dist_i,dist_j,dist):\n",
    "#     res  = torch.zeros([shape]*2)\n",
    "#     res[dist_i,dist_j] = dist\n",
    "#     return res\n",
    "#\n",
    "# def get_torsion_matrix(shape,torsion_k,torsion_i,torsion_j,torsion_t,torsion):\n",
    "#     res  = torch.zeros([shape]*4)\n",
    "#     res[torsion_k,torsion_i,torsion_j,torsion_t] = torsion\n",
    "#     return res\n",
    "# def get_angle_matrix(shape,angle_i,angle_j,angle_k,angle):\n",
    "#     res  = torch.zeros([shape]*3)\n",
    "#     res[angle_i,angle_j,angle_k] = angle\n",
    "#     return res"
   ],
   "metadata": {
    "collapsed": false,
    "pycharm": {
     "name": "#%%\n"
    }
   }
  },
  {
   "cell_type": "code",
   "execution_count": 382,
   "outputs": [],
   "source": [
    "free = torch.load(\"/home/zjh/mr/downstream/dataset/regression/FreeSolv.pth\")"
   ],
   "metadata": {
    "collapsed": false,
    "pycharm": {
     "name": "#%%\n"
    }
   }
  },
  {
   "cell_type": "code",
   "execution_count": 383,
   "outputs": [
    {
     "data": {
      "text/plain": "642"
     },
     "execution_count": 383,
     "metadata": {},
     "output_type": "execute_result"
    }
   ],
   "source": [
    "len(free)"
   ],
   "metadata": {
    "collapsed": false,
    "pycharm": {
     "name": "#%%\n"
    }
   }
  },
  {
   "cell_type": "code",
   "execution_count": 384,
   "outputs": [
    {
     "data": {
      "text/plain": "[['CN(C)C(=O)c1ccc(cc1)OC',\n  array([148, 143, 148,  18, -54,  50,  53,  68,  24,  68,  53, 230, 129,\n          29,  29,  29,  29,  29,  29,  24,  25,  25,  24,  28,  28,  28]),\n  -11.01],\n ['CS(=O)(=O)Cl', array([133, 102,   5,   5, 218,  29,  29,  29]), -4.87],\n ['CC(C)C=C',\n  array([165, 148, 165,  39,  68,  31,  31,  31,  29,  31,  31,  31,  26,\n          26,  26]),\n  1.83],\n ['CCc1cnccn1',\n  array([170, 155,  24,  41, -97,  41,  41, -89,  31,  31,  31,  29,  29,\n          23,  23,  23]),\n  -5.45],\n ['CCCCCCCO',\n  array([171, 160, 154, 156, 158, 151, 119, 295,  31,  31,  31,  30,  30,\n          30,  30,  30,  30,  30,  30,  30,  30,  28,  28,  31]),\n  -4.21],\n ['Cc1cc(cc(c1)O)C',\n  array([164,  44,  57,  44,  72,  26,  72, 215, 164,  30,  30,  30,  24,\n          25,  25,  28,  30,  30,  30]),\n  -6.27],\n ['CC(C)C(C)C',\n  array([166, 148, 166, 148, 166, 166,  31,  31,  31,  30,  31,  31,  31,\n          30,  31,  31,  31,  31,  31,  31]),\n  2.34],\n ['CCCC(C)(C)O',\n  array([171, 164, 141, 107, 158, 158, 248,  31,  31,  31,  30,  30,  30,\n          30,  31,  31,  31,  31,  31,  31,  30]),\n  -3.92],\n ['C[C@@H]1CCCC[C@@H]1C',\n  array([168, 150, 156, 161, 161, 156, 150, 168,  31,  31,  31,  30,  30,\n          30,  30,  30,  30,  30,  30,  30,  30,  31,  31,  31]),\n  1.58],\n ['CC[C@H](C)O',\n  array([174, 150, 111, 161, 268,  31,  31,  31,  30,  30,  28,  31,  31,\n          31,  31]),\n  -4.62],\n ['C(Br)Br', array([116, 396, 396,  26,  26]), -1.96],\n ['CC[C@H](C(C)C)O',\n  array([174, 154, 106, 150, 168, 168, 279,  31,  31,  31,  30,  30,  28,\n          30,  31,  31,  31,  31,  31,  31,  31]),\n  -3.88],\n ['CCc1ccccn1',\n  array([170, 153,  18,  63,  51,  62,  34, -81,  31,  31,  31,  29,  29,\n          25,  24,  25,  23]),\n  -4.33],\n ['CCCCC(=O)OCC',\n  array([171, 160, 157, 150,  13, -82, 107, 121, 170,  31,  31,  31,  30,\n          30,  30,  30,  29,  29,  28,  28,  31,  31,  31]),\n  -2.49],\n ['c1ccc(cc1)S',\n  array([ 57,  57,  55,  45,  55,  57, 484,  24,  24,  24,  24,  24,  28]),\n  -2.55],\n ['CC(=CCC/C(=C\\\\CO)/C)C',\n  array([164,  44,  54, 152, 149,  40,  54, 120, 296, 165, 164,  30,  30,\n          30,  26,  29,  29,  29,  29,  26,  27,  27,  31,  30,  30,  30,\n          30,  30,  30]),\n  -4.78],\n ['c1ccc2c(c1)CCC2',\n  array([ 56,  56,  58,  43,  43,  58, 151, 159, 151,  24,  24,  24,  24,\n          29,  29,  30,  30,  29,  29]),\n  -1.46],\n ['CCOc1ccccc1',\n  array([169, 118, 210,  25,  68,  55,  57,  55,  68,  31,  31,  31,  28,\n          28,  25,  24,  24,  24,  25]),\n  -2.22],\n ['c1cc(ccc1O)Br',\n  array([ 69,  49,  42,  49,  69,  28, 215, 434,  25,  24,  24,  25,  28]),\n  -5.85],\n ['CCCC(C)(C)C',\n  array([171, 163, 142, 150, 159, 159, 159,  31,  31,  31,  30,  30,  30,\n          30,  31,  31,  31,  31,  31,  31,  31,  31,  31]),\n  2.88],\n ['CC(=O)OCCOC(=O)C',\n  array([165,  14, -94, 113, 119, 119, 113,  14, -94, 165,  30,  30,  30,\n          28,  28,  28,  28,  30,  30,  30]),\n  -6.34],\n ['CCOP(=S)(OCC)SCSP(=S)(OCC)OCC',\n  array([168, 121, 188, 209, 600, 188, 121, 168, 375, 146, 375, 209, 600,\n         188, 121, 168, 188, 121, 168,  31,  31,  31,  28,  28,  28,  28,\n          31,  31,  31,  28,  28,  28,  28,  31,  31,  31,  28,  28,  31,\n          31,  31]),\n  -6.1],\n ['C1CCCC(CC1)O',\n  array([160, 160, 163, 151, 113, 151, 163, 269,  30,  30,  30,  30,  30,\n          30,  30,  30,  28,  30,  30,  30,  30,  31]),\n  -5.48],\n ['COC(=O)C1CC1',\n  array([131, 134,  10, -72, 145, 160, 160,  28,  28,  28,  29,  30,  30,\n          30,  30]),\n  -4.1],\n ['c1ccc(cc1)C#N',\n  array([ 57,  57,  53,  68,  53,  57,  67, -46,  24,  24,  24,  24,  24]),\n  -4.1],\n ['CCCCC#N',\n  array([171, 160, 155, 168,  66, -26,  31,  31,  31,  30,  30,  30,  30,\n          30,  30]),\n  -3.52],\n ['CC(C)(C)O',\n  array([156, 106, 156, 156, 243,  31,  31,  31,  31,  31,  31,  31,  31,\n          31,  30]),\n  -4.47],\n ['CC(C)C(=O)C(C)C',\n  array([ 167,  141,  167,  -39, -279,  141,  167,  167,   31,   31,   31,\n           29,   31,   31,   31,   29,   31,   31,   31,   31,   31,   31]),\n  -2.74],\n ['CCC=O',\n  array([ 175,  144,  -25, -343,   31,   31,   31,   29,   29,   22]),\n  -3.43],\n ['CN(C)C=O',\n  array([149, 139, 149,  19, -77,  29,  29,  29,  29,  29,  29,  23]),\n  -7.81],\n ['Cc1ccc(cc1)C',\n  array([165,  46,  56,  56,  46,  56,  56, 165,  30,  30,  30,  24,  24,\n          24,  24,  30,  30,  30]),\n  -0.8],\n ['C=CCC=C',\n  array([ 67,  47, 144,  47,  67,  26,  26,  25,  29,  29,  25,  26,  26]),\n  0.93],\n ['Cc1cccc(c1C)Nc2ccccc2C(=O)O',\n  array([165,  45,  57,  55,  67,  37,  58, 169, 156,  34,  66,  55,  57,\n          51,  59,  23, -91, 126,  29,  29,  29,  24,  24,  25,  29,  29,\n          29,  27,  25,  24,  24,  24,  24]),\n  -6.78],\n ['CN(C)C(=O)c1ccccc1',\n  array([148, 143, 148,  18, -54,  50,  55,  57,  57,  57,  55,  29,  29,\n          29,  29,  29,  29,  24,  24,  24,  24,  24]),\n  -9.29],\n ['CCNCC',\n  array([169, 139, 203, 139, 169,  31,  31,  31,  29,  29,  31,  29,  29,\n          31,  31,  31]),\n  -4.07],\n ['CC(C)(C)c1ccc(cc1)O',\n  array([157, 140, 157, 157,  35,  57,  71,  27,  71,  57, 215,  30,  30,\n          30,  30,  30,  30,  30,  30,  30,  24,  25,  25,  24,  28]),\n  -5.91],\n ['CC(C)CCOC=O',\n  array([165, 155, 165, 148, 118, 111,  24, -94,  31,  31,  31,  30,  31,\n          31,  31,  30,  30,  28,  28,  23]),\n  -2.13],\n ['CCCCCCCCCCO',\n  array([171, 160, 154, 156, 156, 156, 156, 158, 151, 119, 295,  31,  31,\n          31,  30,  30,  30,  30,  30,  30,  30,  30,  30,  30,  30,  30,\n          30,  30,  30,  30,  28,  28,  31]),\n  -3.64],\n ['CCC(=O)OCC',\n  array([175, 155,  12, -81, 107, 121, 170,  31,  31,  31,  30,  30,  28,\n          28,  31,  31,  31]),\n  -2.68],\n ['CCCCCCCCC',\n  array([171, 160, 154, 156, 156, 156, 154, 160, 171,  31,  31,  31,  30,\n          30,  30,  30,  30,  30,  30,  30,  30,  30,  30,  30,  30,  30,\n          31,  31,  31]),\n  3.13],\n ['CC(=O)NC',\n  array([166,  15, -64, 142, 157,  30,  30,  30,  27,  29,  29,  29]),\n  -10.0],\n ['CCCCCCCC=C',\n  array([171, 160, 154, 156, 155, 156, 150,  45,  67,  31,  31,  31,  30,\n          30,  30,  30,  30,  30,  30,  30,  30,  30,  30,  30,  26,  26,\n          26]),\n  2.06],\n ['c1ccc2cc(ccc2c1)O',\n  array([ 55,  55,  60,  42,  75,  26,  71,  59,  42,  60, 214,  24,  24,\n          24,  25,  25,  24,  24,  28]),\n  -8.11],\n ['c1cc(c(cc1Cl)Cl)Cl',\n  array([ 56,  56,  43,  43,  55,  43, 675, 670, 674,  24,  24,  24]),\n  -1.12],\n ['C([C@H]([C@H]([C@@H]([C@@H](CO)O)O)O)O)O',\n  array([119, 112, 112, 112, 112, 119, 307, 292, 294, 294, 292, 307,  28,\n          28,  28,  28,  28,  28,  28,  28,  31,  31,  31,  31,  31,  31]),\n  -23.62],\n ['CCCC(=O)OC',\n  array([170, 164, 149,  11, -79, 131, 131,  31,  31,  31,  30,  30,  29,\n          29,  28,  28,  28]),\n  -2.83],\n ['c1ccc(c(c1)C=O)O',\n  array([  57,   55,   71,   24,   60,   51,   -4, -319,  212,   24,   24,\n           25,   24,   21,   28]),\n  -4.68],\n ['C1CNC1',\n  array([157, 137, 212, 137,  30,  30,  29,  29,  31,  29,  29]),\n  -5.56],\n ['CCCNCCC',\n  array([172, 159, 134, 210, 134, 159, 172,  31,  31,  31,  30,  30,  29,\n          29,  31,  29,  29,  30,  30,  31,  31,  31]),\n  -3.65],\n ['c1ccc(cc1)N',\n  array([ 57,  56,  72,  37,  72,  56, 194,  24,  24,  25,  25,  24,  29,\n          29]),\n  -5.49],\n ['C(F)(F)(F)F', array([ 45, 233, 233, 233, 233]), 3.12],\n ['CC[C@@H](C)CO',\n  array([173, 157, 147, 168, 116, 301,  31,  31,  31,  30,  30,  30,  31,\n          31,  31,  28,  28,  31]),\n  -4.42],\n ['c1ccc(c(c1)O)I',\n  array([ 55,  56,  46,  61,  26,  68, 200, 439,  24,  24,  24,  25,  27]),\n  -6.2],\n ['COc1cccc(c1O)OC',\n  array([129, 247,  36,  70,  53,  70,  36,  44, 239, 247, 129,  28,  28,\n          28,  25,  24,  25,  28,  28,  28,  28]),\n  -6.96],\n ['CCC#C', array([171, 171, 103, 114,  31,  31,  31,  30,  30,  30]), -0.16],\n ['c1ccc(cc1)C(F)(F)F',\n  array([ 57,  57,  56,  52,  56,  57,  53, 244, 244, 244,  24,  24,  24,\n          24,  24]),\n  -0.25],\n ['NN', array([200, 200,  30,  30,  30,  30]), -9.3],\n ['Cc1ccccn1',\n  array([163,  21,  62,  51,  62,  34, -82,  29,  29,  29,  25,  24,  25,\n          23]),\n  -4.63],\n ['CCNc1nc(nc(n1)Cl)NCC',\n  array([169, 144, 156,  14,  33,  14,   7,  10,   7, 550, 156, 144, 169,\n          31,  31,  31,  28,  28,  27,  27,  28,  28,  31,  31,  31]),\n  -10.22],\n ['c1ccc2c(c1)Oc3cc(c(cc3O2)Cl)Cl',\n  array([ 55,  55,  65,  33,  33,  65, 188,  33,  63,  41,  41,  63,  33,\n         188, 671, 671,  24,  24,  25,  25,  24,  24]),\n  -3.56],\n ['CCCCCCCCN',\n  array([171, 160, 154, 156, 156, 157, 152, 141, 230,  31,  31,  31,  30,\n          30,  30,  30,  30,  30,  30,  30,  30,  30,  30,  30,  29,  29,\n          31,  31]),\n  -3.65],\n ['N', array([249,  31,  31,  31]), -4.29],\n ['c1ccc(c(c1)C(F)(F)F)C(F)(F)F',\n  array([ 57,  57,  57,  52,  52,  57,  53, 244, 244, 244,  53, 244, 244,\n         244,  24,  24,  24,  24]),\n  1.07],\n ['COC(=O)c1ccc(cc1)O',\n  array([130, 140,  16, -73,  53,  52,  72,  27,  72,  52, 215,  28,  28,\n          28,  24,  25,  25,  24,  28]),\n  -9.51],\n ['CCCCCc1ccccc1',\n  array([171, 160, 154, 154, 150,  42,  57,  56,  57,  56,  57,  31,  31,\n          31,  30,  30,  30,  30,  30,  30,  29,  29,  24,  24,  24,  24,\n          24]),\n  -0.23],\n ['CC(F)F', array([164,  62, 300, 300,  30,  30,  30,  26]), -0.11],\n ['c1ccc(cc1)n2c(=O)c(c(cn2)N)Cl',\n  array([ 57,  55,  63,  39,  63,  55,  12,  25, -70,  64,  43,  52, -79,\n         194, 746,  24,  24,  24,  24,  24,  24,  29,  29]),\n  -16.43],\n ['C=CC=C', array([64, 48, 48, 64, 26, 26, 25, 25, 26, 26]), 0.56],\n ['CN(C)C',\n  array([141, 228, 141, 141,  29,  29,  29,  29,  29,  29,  29,  29,  29]),\n  -3.2],\n ['CCCCCC(=O)N',\n  array([171, 160, 153, 159, 148,  15, -66, 151,  31,  31,  31,  30,  30,\n          30,  30,  30,  30,  29,  29,  27,  27]),\n  -9.31],\n ['CC(C)CO[N+](=O)[O-]',\n  array([ 166,  154,  166,  109,  -78, -111, -185, -178,   31,   31,   31,\n           30,   31,   31,   31,   28,   28]),\n  -1.88],\n ['c1ccc2c(c1)C(=O)c3cccc(c3C2=O)NCCO',\n  array([  57,   57,   57,   50,   50,   57,   -1, -260,   48,   57,   56,\n           71,   34,   62,    2, -261,  180,  134,  121,  299,   24,   24,\n           24,   24,   24,   24,   25,   28,   29,   29,   28,   28,   31]),\n  -14.21],\n ['C(CO[N+](=O)[O-])O',\n  array([ 120,  113,  -72, -112, -185, -178,  303,   28,   28,   28,   28,\n           31]),\n  -8.18],\n ['CCCCCCC(=O)C',\n  array([ 171,  160,  154,  155,  159,  140,  -30, -314,  156,   31,   31,\n           31,   30,   30,   30,   30,   30,   30,   30,   30,   29,   29,\n           30,   30,   30]),\n  -2.88],\n ['CN1CCNCC1',\n  array([144, 221, 129, 137, 216, 137, 129,  29,  29,  29,  29,  29,  29,\n          29,  31,  29,  29,  29,  29]),\n  -7.77],\n ['CCN', array([167, 144, 226,  31,  31,  31,  29,  29,  31,  31]), -4.5],\n ['C1C=CC=CC=C1',\n  array([148,  53,  55,  54,  54,  55,  53,  29,  29,  26,  26,  26,  26,\n          26,  26]),\n  -0.99],\n ['c1ccc2c(c1)Cc3ccccc3C2',\n  array([ 56,  56,  58,  46,  46,  58, 141,  46,  58,  56,  56,  58,  46,\n         141,  24,  24,  24,  24,  28,  28,  24,  24,  24,  24,  28,  28]),\n  -3.78],\n ['CC(Cl)Cl', array([158,  93, 636, 636,  30,  30,  30,  25]), -0.84],\n ['COc1cccc(c1)O',\n  array([129, 229,  24,  68,  53,  72,  26,  84, 214,  28,  28,  28,  25,\n          24,  25,  26,  28]),\n  -7.66],\n ['c1cc2cccc3c2c(c1)CC3',\n  array([ 55,  60,  43,  60,  55,  57,  46,  45,  46,  57, 150, 150,  24,\n          24,  24,  24,  24,  24,  29,  29,  29,  29]),\n  -3.15],\n ['CCCCCCCCBr',\n  array([171, 160, 154, 156, 156, 158, 148, 128, 464,  31,  31,  31,  30,\n          30,  30,  30,  30,  30,  30,  30,  30,  30,  30,  30,  27,  27]),\n  0.52],\n ['c1ccc(cc1)CO',\n  array([ 57,  56,  58,  41,  58,  56, 119, 287,  24,  24,  24,  24,  24,\n          27,  27,  31]),\n  -6.62],\n ['c1c(c(=O)[nH]c(=O)[nH]1)Br',\n  array([ 63,  63,  29, -57,  83,  28,  34,  96, 454,  24,  27,  26]),\n  -18.17],\n ['CCCC',\n  array([171, 159, 159, 171,  31,  31,  31,  30,  30,  30,  30,  31,  31,\n          31]),\n  2.1],\n ['CCl', array([153, 908,  29,  29,  29]), -0.55],\n ['CC(C)CBr',\n  array([166, 148, 166, 122, 469,  31,  31,  31,  29,  31,  31,  31,  27,\n          27]),\n  -0.03],\n ['CC(C)SC(C)C',\n  array([162, 136, 162, 391, 136, 162, 162,  30,  30,  30,  28,  30,  30,\n          30,  28,  30,  30,  30,  30,  30,  30]),\n  -1.21],\n ['CCCCCCC',\n  array([171, 160, 154, 156, 154, 160, 171,  31,  31,  31,  30,  30,  30,\n          30,  30,  30,  30,  30,  30,  30,  31,  31,  31]),\n  2.67],\n ['c1cnc[nH]1', array([ 70,  55, -30,  46,  93,  25,  25,  25,  25]), -9.63],\n ['c1cc2c(cc1Cl)Oc3cc(c(c(c3O2)Cl)Cl)Cl',\n  array([ 54,  65,  32,  33,  64,  41, 675, 186,  32,  63,  41,  41,  51,\n          34, 186, 694, 662, 664,  24,  24,  24,  24]),\n  -3.84],\n ['CC[C@H](C)n1c(=O)c(c([nH]c1=O)C)Br',\n  array([173, 151, 127, 162,  58,  29, -66,  63,  49,  86,  28,  32, 160,\n         452,  31,  31,  31,  30,  30,  27,  30,  30,  30,  26,  29,  29,\n          29]),\n  -9.73],\n ['C(I)I', array([134, 437, 437,  27,  27]), -2.49],\n ['CCCN(CCC)C(=O)SCCC',\n  array([172, 161, 135, 128, 135, 161, 172,  16, -49, 362, 147, 158, 171,\n          31,  31,  31,  30,  30,  29,  29,  29,  29,  30,  30,  31,  31,\n          31,  29,  29,  30,  30,  31,  31,  31]),\n  -4.13],\n ['C[N+](=O)[O-]', array([ 124, -162, -359, -358,   28,   28,   28]), -4.02],\n ['CCOC',\n  array([169, 116, 300, 127,  31,  31,  31,  28,  28,  28,  28,  28]),\n  -2.1],\n ['COC(CCl)(OC)OC',\n  array([131, 241,  61, 138, 871, 241, 131, 241, 131,  28,  28,  28,  28,\n          28,  28,  28,  28,  28,  28,  28]),\n  -4.59],\n ['CC(C)C',\n  array([163, 155, 163, 163,  31,  31,  31,  29,  31,  31,  31,  31,  31,\n          31]),\n  2.3],\n ['CC(C)CC(=O)O',\n  array([164, 156, 164, 141,  17, -97, 117,  31,  31,  31,  30,  31,  31,\n          31,  29,  29,  23]),\n  -6.09],\n ['CCOP(=O)(OCC)O/C(=C/Cl)/c1ccc(cc1Cl)Cl',\n  array([168, 121, 223, 270, 179, 223, 121, 168, 157,  41,  75, 761,  54,\n          55,  56,  43,  54,  41, 672, 675,  31,  31,  31,  28,  28,  28,\n          28,  31,  31,  31,  25,  24,  24,  24]),\n  -7.07],\n ['CCCCl',\n  array([172, 157, 131, 844,  31,  31,  31,  30,  30,  28,  28]),\n  -0.33],\n ['CCCSCCC',\n  array([171, 158, 145, 488, 145, 158, 171,  31,  31,  31,  30,  30,  29,\n          29,  29,  29,  30,  30,  31,  31,  31]),\n  -1.28],\n ['CCC[C@H](CC)O',\n  array([171, 164, 146, 110, 152, 174, 273,  31,  31,  31,  30,  30,  30,\n          30,  28,  30,  30,  31,  31,  31,  31]),\n  -4.06],\n ['CC#N', array([185,  71, -32,  30,  30,  30]), -3.88],\n ['CN(CC(F)(F)F)c1ccccc1',\n  array([146, 178, 128,  53, 254, 254, 254,  31,  68,  55,  57,  55,  68,\n          29,  29,  29,  28,  28,  25,  24,  24,  24,  25]),\n  -1.92],\n ['[C@@H](C(F)(F)F)(OC(F)F)Cl',\n  array([ 92,  55, 259, 259, 259, 182,  61, 270, 270, 712,  26,  23]),\n  0.1],\n ['C=CCCC=C',\n  array([ 67,  45, 150, 150,  45,  67,  26,  26,  26,  29,  29,  29,  29,\n          26,  26,  26]),\n  1.01],\n ['Cc1cccc(c1)C',\n  array([165,  45,  57,  56,  57,  45,  57, 165,  30,  30,  30,  24,  24,\n          24,  24,  30,  30,  30]),\n  -0.83],\n ['CC(=O)OC',\n  array([166,  13, -91, 127, 131,  30,  30,  30,  28,  28,  28]),\n  -3.13],\n ['COC(c1ccccc1)(OC)OC',\n  array([130, 238,  58,  52,  57,  57,  57,  57,  57, 238, 130, 238, 130,\n          28,  28,  28,  24,  24,  24,  24,  24,  28,  28,  28,  28,  28,\n          28]),\n  -4.04],\n ['CCOC(=O)c1ccccc1',\n  array([170, 120, 114,  18, -75,  53,  54,  57,  57,  57,  54,  31,  31,\n          31,  28,  28,  24,  24,  24,  24,  24]),\n  -3.64],\n ['CCCS',\n  array([171, 156, 152, 562,  31,  31,  31,  30,  30,  29,  29,  30]),\n  -1.1],\n ['CCCCCC(=O)C',\n  array([ 171,  160,  154,  159,  140,  -30, -314,  156,   31,   31,   31,\n           30,   30,   30,   30,   30,   30,   29,   29,   30,   30,   30]),\n  -3.04],\n ['CC1(Cc2cccc(c2O1)OC(=O)NC)C',\n  array([160, 100, 143,  60,  57,  55,  68,  43,  33, 182, 144,  30,  37,\n         175, 157, 160,  30,  30,  30,  29,  29,  24,  24,  25,  28,  29,\n          29,  29,  30,  30,  30]),\n  -9.61],\n ['c1ccc(cc1)CBr',\n  array([ 57,  57,  55,  50,  55,  57, 127, 438,  24,  24,  24,  24,  24,\n          26,  26]),\n  -2.38],\n ['CCCCCC(=O)OCC',\n  array([171, 160, 153, 159, 150,  13, -82, 107, 121, 170,  31,  31,  31,\n          30,  30,  30,  30,  30,  30,  29,  29,  28,  28,  31,  31,  31]),\n  -2.23],\n ['CCCOC',\n  array([173, 160, 112, 306, 127,  31,  31,  31,  30,  30,  28,  28,  28,\n          28,  28]),\n  -1.66],\n ['CN1CCOCC1',\n  array([144, 225, 129, 116, 289, 116, 129,  29,  29,  29,  29,  29,  28,\n          28,  28,  28,  29,  29]),\n  -6.32],\n ['c1cc(cc(c1)O)C#N',\n  array([ 55,  54,  68,  68,  27,  72, 215,  67, -46,  24,  24,  25,  25,\n          28]),\n  -9.65],\n ['c1cc(c(cc1c2c(c(cc(c2Cl)Cl)Cl)Cl)Cl)Cl',\n  array([ 60,  54,  43,  42,  58,  45,  46,  45,  43,  54,  43,  45, 673,\n         669, 669, 673, 673, 674,  24,  24,  24,  24]),\n  -4.38],\n ['CCCc1ccccc1',\n  array([171, 158, 148,  42,  57,  56,  57,  56,  57,  31,  31,  31,  30,\n          30,  29,  29,  24,  24,  24,  24,  24]),\n  -0.53],\n ['Cn1cnc2c1c(=O)n(c(=O)n2C)C',\n  array([151, 106,  50,  22,  40,  71,  34, -23,  82,  29,  30, 119, 154,\n         153,  28,  28,  28,  24,  28,  28,  28,  28,  28,  28]),\n  -12.64],\n ['CNC', array([147, 233, 147,  30,  30,  30,  31,  30,  30,  30]), -4.29],\n ['C(=C(F)F)(C(F)(F)F)F',\n  array([ 65,  23, 271, 271,  57, 252, 252, 252, 363]),\n  2.93],\n ['c1cc(ccc1O)Cl',\n  array([ 72,  54,  43,  54,  72,  27, 215, 679,  25,  24,  24,  25,  28]),\n  -7.03],\n ['C1CCNCC1',\n  array([162, 158, 136, 212, 136, 158,  30,  30,  30,  30,  29,  29,  31,\n          29,  29,  30,  30]),\n  -5.11],\n ['c1ccc2c(c1)ccc3c2cccc3',\n  array([55, 56, 60, 48, 43, 60, 59, 59, 43, 48, 60, 56, 55, 60, 24, 24, 24,\n         24, 24, 24, 24, 24, 24, 24]),\n  -3.88],\n ['CI', array([166, 462,  28,  28,  28]), -0.89],\n ['COc1c(cc(c(c1O)OC)Cl)Cl',\n  array([129, 243,  37,  57,  50,  57,  37,  41, 236, 243, 129, 715, 715,\n          28,  28,  28,  24,  28,  28,  28,  28]),\n  -6.44],\n ['C(=C/Cl)\\\\Cl', array([ 58,  58, 710, 710,  25,  25]), -0.78],\n ['CCCCC',\n  array([171, 160, 152, 160, 171,  31,  31,  31,  30,  30,  30,  30,  30,\n          30,  31,  31,  31]),\n  2.3],\n ['CCCC#N',\n  array([170, 162, 166,  66, -26,  31,  31,  31,  30,  30,  30,  30]),\n  -3.64],\n ['[C@@H](C(F)(F)F)(F)Br',\n  array([ 88,  54, 256, 256, 256, 268, 430,  25]),\n  0.5],\n ['CC(C)Cc1cnccn1',\n  array([165, 152, 165, 144,  26,  41, -97,  41,  41, -89,  31,  31,  31,\n          30,  31,  31,  31,  29,  29,  23,  23,  23]),\n  -5.04],\n ['CC[C@H](C)O[N+](=O)[O-]',\n  array([ 174,  153,  102,  164, -108, -104, -186, -178,   31,   31,   31,\n           30,   30,   27,   31,   31,   31]),\n  -1.82],\n ['c1ccc(cc1)c2cc(ccc2Cl)Cl',\n  array([ 57,  55,  59,  45,  59,  55,  46,  58,  42,  56,  55,  45, 681,\n         677,  24,  24,  24,  24,  24,  24,  24,  24]),\n  -2.46],\n ['c1ccc(cc1)c2cc(c(c(c2Cl)Cl)Cl)Cl',\n  array([ 57,  55,  59,  44,  59,  55,  46,  58,  42,  42,  42,  44, 670,\n         663, 664, 666,  24,  24,  24,  24,  24,  24]),\n  -3.48],\n ['CC[C@@H](C)C(C)C',\n  array([173, 156, 143, 168, 150, 166, 166,  31,  31,  31,  30,  30,  30,\n          31,  31,  31,  30,  31,  31,  31,  31,  31,  31]),\n  2.52],\n ['C[C@H](CC(C)C)O',\n  array([161, 113, 139, 157, 165, 165, 268,  31,  31,  31,  28,  30,  30,\n          30,  31,  31,  31,  31,  31,  31,  31]),\n  -3.73],\n ['C1CCOCC1',\n  array([164, 159, 114, 282, 114, 159,  30,  30,  30,  30,  28,  28,  28,\n          28,  30,  30]),\n  -3.12],\n ['C1CC1', array([160, 160, 160,  30,  30,  30,  30,  30,  30]), 0.75],\n ['c1c(cc(c(c1Cl)Cl)Cl)c2cc(c(c(c2Cl)Cl)Cl)Cl',\n  array([ 58,  45,  58,  41,  42,  41, 666, 671, 666,  46,  58,  42,  42,\n          42,  44, 670, 663, 664, 666,  24,  24,  24]),\n  -3.17],\n ['C=C(Cl)Cl', array([ 69,  40, 560, 560,  26,  26]), 0.25],\n ['CC(C)CO',\n  array([167, 153, 167, 114, 301,  31,  31,  31,  30,  31,  31,  31,  28,\n          28,  31]),\n  -4.5],\n ['CCCOC(=O)CC',\n  array([173, 160, 116, 111,  12, -81, 155, 175,  31,  31,  31,  30,  30,\n          28,  28,  30,  30,  31,  31,  31]),\n  -2.44],\n ['C(C(Cl)(Cl)Cl)(Cl)(Cl)Cl',\n  array([ 39,  39, 412, 412, 412, 412, 412, 412]),\n  -0.64],\n ['CSc1ccccc1',\n  array([166, 452,  41,  56,  56,  57,  56,  56,  29,  29,  29,  24,  24,\n          24,  24,  24]),\n  -2.73],\n ['CCc1ccccc1O',\n  array([170, 160,  56,  57,  57,  55,  71,  28, 217,  31,  31,  31,  29,\n          29,  24,  24,  24,  25,  28]),\n  -5.66],\n ['CC(C)(C)Cl',\n  array([155, 105, 155, 155, 653,  30,  30,  30,  30,  30,  30,  30,  30,\n          30]),\n  1.09],\n ['CC(=C)C=C',\n  array([165,  36,  70,  47,  63,  30,  30,  30,  26,  26,  26,  26,  26]),\n  0.68],\n ['Cc1ccc(cc1)C(C)C',\n  array([165,  46,  56,  58,  37,  58,  56, 147, 163, 163,  30,  30,  30,\n          24,  24,  24,  24,  29,  31,  31,  31,  31,  31,  31]),\n  -0.68],\n ['Cn1ccnc1',\n  array([153,  87,  68,  54, -35,  47,  28,  28,  28,  25,  25,  24]),\n  -8.41],\n ['C(CO)O', array([119, 119, 304, 304,  28,  28,  28,  28,  31,  31]), -9.3],\n ['c1ccc(c(c1)Cl)Cl',\n  array([ 57,  57,  55,  43,  43,  55, 674, 674,  24,  24,  24,  24]),\n  -1.36],\n ['c1c(=O)[nH]c(=O)[nH]c1Cl',\n  array([ 78,  28, -38,  83,  28,  34,  88,  48, 582,  26,  28,  26]),\n  -15.83],\n ['CCCOC=O',\n  array([173, 160, 115, 111,  24, -94,  31,  31,  31,  30,  30,  28,  28,\n          23]),\n  -2.48],\n ['c1ccc2c(c1)Oc3ccc(cc3O2)Cl',\n  array([ 55,  55,  65,  33,  33,  65, 189,  33,  65,  54,  41,  64,  33,\n         188, 675,  24,  24,  25,  25,  24,  24,  24]),\n  -3.1],\n ['CCCCCC(=O)O',\n  array([171, 160, 153, 159, 148,  16, -97, 117,  31,  31,  31,  30,  30,\n          30,  30,  30,  30,  29,  29,  23]),\n  -6.21],\n ['CCOC(=O)CCC(=O)OCC',\n  array([170, 121, 107,  13, -82, 154, 154,  13, -82, 107, 121, 170,  31,\n          31,  31,  28,  28,  29,  29,  29,  29,  28,  28,  31,  31,  31]),\n  -5.71],\n ['Cc1ccnc(c1)C',\n  array([164,  40,  63,  33, -82,  21,  63, 163,  30,  30,  30,  25,  23,\n          25,  29,  29,  29]),\n  -4.86],\n ['C1CCC=CC1',\n  array([160, 160, 155,  54,  54, 155,  30,  30,  30,  30,  30,  30,  26,\n          26,  30,  30]),\n  0.14],\n ['CN1CCN(CC1)C',\n  array([144, 221, 131, 131, 221, 131, 131, 144,  29,  29,  29,  29,  29,\n          29,  29,  29,  29,  29,  29,  29,  29,  29]),\n  -7.58],\n ['c1cc(c(cc1c2cc(c(c(c2Cl)Cl)Cl)Cl)Cl)Cl',\n  array([ 60,  54,  43,  42,  58,  45,  46,  58,  42,  42,  42,  44, 670,\n         663, 664, 666, 673, 674,  24,  24,  24,  24]),\n  -3.04],\n ['C1=CC(=O)C=CC1=O',\n  array([  50,   50,   -7, -286,   50,   50,   -7, -286,   25,   25,   25,\n           25]),\n  -6.5],\n ['COC(=O)CCl',\n  array([131, 133,  14, -81, 136, 838,  28,  28,  28,  28,  28]),\n  -4.0],\n ['CCCC=O',\n  array([ 170,  164,  138,  -24, -344,   31,   31,   31,   30,   30,   29,\n           29,   22]),\n  -3.18],\n ['CCc1ccccc1',\n  array([170, 154,  40,  58,  56,  57,  56,  58,  31,  31,  31,  29,  29,\n          24,  24,  24,  24,  24]),\n  -0.79],\n ['C(=C(Cl)Cl)Cl', array([ 54,  45, 579, 579, 713,  25]), -0.44],\n ['CCN(CC)CC',\n  array([170, 136, 187, 136, 170, 136, 170,  31,  31,  31,  29,  29,  29,\n          29,  31,  31,  31,  29,  29,  31,  31,  31]),\n  -3.22],\n ['c1cc2c(cc1Cl)Oc3c(c(c(c(c3Cl)Cl)Cl)Cl)O2',\n  array([ 54,  65,  32,  32,  64,  41, 675, 184,  33,  33,  50,  41,  41,\n          50, 694, 656, 656, 694, 185,  24,  24,  24]),\n  -4.15],\n ['Cc1ccncc1C',\n  array([165,  41,  62,  34, -88,  34,  52, 168,  29,  29,  29,  25,  23,\n          23,  29,  29,  29]),\n  -5.22],\n ['c1(=O)[nH]c(=O)[nH]c(=O)[nH]1',\n  array([31, 29, 98, 31, 29, 98, 31, 29, 98, 29, 29, 29]),\n  -18.06],\n ['c1ccc(cc1)C=O',\n  array([  57,   57,   55,   47,   55,   57,   -8, -316,   24,   24,   24,\n           24,   24,   21]),\n  -4.02],\n ['c1ccnc(c1)Cl',\n  array([ 50,  63,  34, -76,  24,  63, 605,  24,  25,  23,  25]),\n  -4.39],\n ['C=CCCl', array([ 66,  48, 133, 798,  26,  26,  25,  28,  28]), -0.57],\n ['Cc1ccc(cc1)C(=O)C',\n  array([ 165,   46,   57,   55,   46,   55,   57,  -15, -296,  157,   30,\n           30,   30,   24,   24,   24,   24,   30,   30,   30]),\n  -4.7],\n ['C=O', array([ -12, -380,   22,   22]), -2.75],\n ['Cc1ccccc1Cl',\n  array([165,  45,  57,  57,  57,  55,  42, 687,  29,  29,  29,  24,  24,\n          24,  24]),\n  -1.14],\n ['CC(=O)N1CCCC1',\n  array([166,  13, -91, 121, 136, 162, 162, 136,  30,  30,  30,  28,  28,\n          30,  30,  30,  30,  28,  28]),\n  -9.8],\n ['CC(OC)(OC)OC',\n  array([170,  61, 235, 131, 235, 131, 235, 131,  30,  30,  30,  28,  28,\n          28,  28,  28,  28,  28,  28,  28]),\n  -4.42],\n ['CCCCc1ccccc1',\n  array([171, 160, 152, 150,  42,  57,  56,  57,  56,  57,  31,  31,  31,\n          30,  30,  30,  30,  29,  29,  24,  24,  24,  24,  24]),\n  -0.4],\n ['CN(C)c1ccccc1',\n  array([145, 182, 145,  30,  68,  55,  57,  55,  68,  29,  29,  29,  29,\n          29,  29,  25,  24,  24,  24,  25]),\n  -3.45],\n ['CC(C)OC',\n  array([163, 107, 163, 274, 128,  31,  31,  31,  28,  31,  31,  31,  28,\n          28,  28]),\n  -2.01],\n ['c12c(c(c(c(c1Cl)Cl)Cl)Cl)Oc3c(c(c(c(c3Cl)Cl)Cl)Cl)O2',\n  array([ 32,  32,  50,  41,  41,  50, 694, 656, 656, 694, 180,  32,  32,\n          50,  41,  41,  50, 694, 656, 656, 694, 180]),\n  -4.53],\n ['c1(c(c(c(c(c1Cl)Cl)Cl)Cl)Cl)c2c(c(c(c(c2Cl)Cl)Cl)Cl)Cl',\n  array([ 47,  45,  42,  42,  42,  45, 666, 663, 659, 663, 666,  47,  45,\n          42,  42,  42,  45, 666, 663, 659, 663, 666]),\n  -2.98],\n ['C(C(Cl)Cl)Cl', array([127,  93, 648, 648, 830,  28,  28,  25]), -1.99],\n ['CNc1ccccc1',\n  array([151, 189,  33,  71,  55,  57,  55,  71,  29,  29,  29,  29,  25,\n          24,  24,  24,  25]),\n  -4.69],\n ['CC(C)OC(=O)C',\n  array([163, 111, 163,  85,  16, -97, 165,  31,  31,  31,  27,  31,  31,\n          31,  30,  30,  30]),\n  -2.64],\n ['c1ccccc1', array([56, 56, 56, 56, 56, 56, 24, 24, 24, 24, 24, 24]), -0.9],\n ['c1cc(c(c(c1)Cl)Cl)Cl',\n  array([ 57,  56,  42,  43,  42,  56, 668, 671, 668,  24,  24,  24]),\n  -1.24],\n ['CCOP(=S)(OCC)SCSc1ccc(cc1)Cl',\n  array([168, 121, 188, 209, 600, 188, 121, 168, 376, 144, 401,  43,  56,\n          56,  43,  56,  56, 679,  31,  31,  31,  28,  28,  28,  28,  31,\n          31,  31,  28,  28,  24,  24,  24,  24]),\n  -6.5],\n ['COP(=S)(OC)SCn1c(=O)c2ccccc2nn1',\n  array([ 132,  209,  208,  599,  209,  132,  369,  133,  -16,   27,  -16,\n           61,   55,   57,   55,   62,   32, -121, -146,   28,   28,   28,\n           28,   28,   28,   27,   27,   24,   24,   24,   24]),\n  -10.03],\n ['c1ccc2c(c1)Oc3c(cc(c(c3O2)Cl)Cl)Cl',\n  array([ 55,  55,  65,  32,  32,  65, 186,  33,  52,  52,  42,  51,  33,\n         185, 701, 661, 703,  24,  24,  25,  25,  24]),\n  -4.05],\n ['CC(=C)C(=C)C',\n  array([165,  35,  69,  35,  69, 165,  30,  30,  30,  26,  26,  26,  26,\n          30,  30,  30]),\n  0.4],\n ['CCCCC=C',\n  array([171, 160, 154, 150,  45,  67,  31,  31,  31,  30,  30,  30,  30,\n          30,  30,  26,  26,  26]),\n  1.58],\n ['S', array([653,  29,  29]), -0.7],\n ['CCOCC',\n  array([169, 117, 272, 117, 169,  31,  31,  31,  28,  28,  28,  28,  31,\n          31,  31]),\n  -1.59],\n ['CCNc1nc(nc(n1)SC)NC(C)C',\n  array([169, 144, 156,  15,  33,  16,   7,   5,   7, 399, 167, 145, 136,\n         162, 162,  31,  31,  31,  28,  28,  27,  29,  29,  29,  27,  28,\n          31,  31,  31,  31,  31,  31]),\n  -7.65],\n ['CCCCOC(=O)c1ccc(cc1)O',\n  array([171, 162, 154, 116, 119,  18, -75,  53,  52,  72,  27,  72,  52,\n         215,  31,  31,  31,  30,  30,  30,  30,  28,  28,  24,  25,  25,\n          24,  28]),\n  -8.72],\n ['CCCCCCOC(=O)C',\n  array([171, 160, 154, 158, 155, 117, 108,  14, -94, 165,  31,  31,  31,\n          30,  30,  30,  30,  30,  30,  30,  30,  28,  28,  30,  30,  30]),\n  -2.26],\n ['C1CCC(=O)C1',\n  array([ 163,  163,  145,  -30, -303,  145,   30,   30,   30,   30,   29,\n           29,   29,   29]),\n  -4.7],\n ['CCCCC(=O)O',\n  array([171, 160, 157, 148,  16, -97, 117,  31,  31,  31,  30,  30,  30,\n          30,  29,  29,  23]),\n  -6.16],\n ['CCBr', array([163, 132, 459,  30,  30,  30,  27,  27]), -0.74],\n ['Cc1ccc2cc(ccc2c1)C',\n  array([165,  44,  55,  60,  42,  61,  44,  55,  60,  42,  61, 165,  30,\n          30,  30,  24,  24,  24,  24,  24,  24,  30,  30,  30]),\n  -2.63],\n ['CCCCCCO',\n  array([171, 160, 154, 158, 151, 119, 295,  31,  31,  31,  30,  30,  30,\n          30,  30,  30,  30,  30,  28,  28,  31]),\n  -4.4],\n ['c1ccc(cc1)c2ccccc2Cl',\n  array([ 57,  55,  59,  45,  59,  55,  46,  59,  56,  57,  55,  44, 681,\n          24,  24,  24,  24,  24,  24,  24,  24,  24]),\n  -2.69],\n ['CC1=CCCCC1',\n  array([165,  44,  58, 156, 160, 161, 151,  30,  30,  30,  26,  29,  29,\n          30,  30,  30,  30,  29,  29]),\n  0.67],\n ['CCCCCCO[N+](=O)[O-]',\n  array([ 171,  160,  154,  158,  153,  113,  -88, -111, -185, -178,   31,\n           31,   31,   30,   30,   30,   30,   30,   30,   30,   30,   28,\n           28]),\n  -1.66],\n ['C(Br)(Br)Br', array([ 69, 358, 358, 358,  20]), -2.13],\n ['CCc1ccc(cc1)O',\n  array([170, 154,  41,  56,  71,  27,  71,  56, 215,  31,  31,  31,  29,\n          29,  24,  25,  25,  24,  28]),\n  -6.13],\n ['CCCOCCO',\n  array([173, 160, 112, 293, 113, 121, 304,  31,  31,  31,  30,  30,  28,\n          28,  28,  28,  28,  28,  31]),\n  -6.4],\n ['c1ccc(cc1)OC=O',\n  array([  57,   55,   66,   33,   66,   55,   89,   27, -109,   24,   24,\n           25,   25,   24,   23]),\n  -3.82],\n ['c1c(c(=O)[nH]c(=O)[nH]1)I',\n  array([ 62,  70,  26, -46,  81,  28,  34,  91, 449,  24,  27,  26]),\n  -18.72],\n ['CCCC(=O)O',\n  array([170, 164, 146,  16, -97, 117,  31,  31,  31,  30,  30,  29,  29,\n          23]),\n  -6.35],\n ['COC(C(F)(F)F)(OC)OC',\n  array([131, 249,  66,  58, 264, 264, 264, 249, 131, 249, 131,  28,  28,\n          28,  28,  28,  28,  28,  28,  28]),\n  -0.8],\n ['C1[C@H]([C@@H]([C@H]([C@H](O1)O)O)O)O',\n  array([116, 116, 113, 111,  87, 250, 252, 297, 293, 288,  28,  28,  28,\n          28,  28,  27,  30,  31,  31,  31]),\n  -20.52],\n ['C(F)(F)(F)Br', array([ 61, 202, 202, 202, 422]), 1.79],\n ['CCCCO',\n  array([171, 163, 150, 120, 295,  31,  31,  31,  30,  30,  30,  30,  28,\n          28,  31]),\n  -4.72],\n ['c1ccc(cc1)F',\n  array([ 57,  54,  69,  21,  69,  54, 291,  24,  24,  25,  25,  24]),\n  -0.8],\n ['CCOC(=O)C',\n  array([170, 121, 103,  15, -94, 165,  31,  31,  31,  28,  28,  30,  30,\n          30]),\n  -2.94],\n ['CC(C)COC(=O)C(C)C',\n  array([166, 156, 166, 112, 118,  10, -70, 149, 168, 168,  31,  31,  31,\n          30,  31,  31,  31,  28,  28,  29,  31,  31,  31,  31,  31,  31]),\n  -1.69],\n ['CC(C)(C)OC',\n  array([159, 101, 159, 159, 254, 129,  31,  31,  31,  31,  31,  31,  31,\n          31,  31,  28,  28,  28]),\n  -2.21],\n ['C1=C[C@@H]([C@@H]2[C@H]1[C@@]3(C(=C([C@]2(C3(Cl)Cl)Cl)Cl)Cl)Cl)Cl',\n  array([ 53,  54, 120, 134, 135,  94,  41,  41,  95,  74, 617, 617, 665,\n         704, 704, 657, 744,  26,  26,  27,  29,  29]),\n  -2.55],\n ['CCC(=O)CC',\n  array([ 175,  145,  -35, -303,  145,  175,   31,   31,   31,   29,   29,\n           29,   29,   31,   31,   31]),\n  -3.41],\n ['COC(=O)C(F)(F)F',\n  array([130, 141,  17, -73,  60, 257, 257, 257,  28,  28,  28]),\n  -1.1],\n ['c1ccc2ccccc2c1',\n  array([55, 55, 60, 42, 60, 55, 55, 60, 42, 60, 24, 24, 24, 24, 24, 24, 24,\n         24]),\n  -2.4],\n ['c1cc(c(c(c1c2cc(c(c(c2Cl)Cl)Cl)Cl)Cl)Cl)Cl',\n  array([ 59,  55,  42,  42,  44,  46,  46,  58,  42,  42,  42,  44, 670,\n         663, 664, 666, 670, 669, 668,  24,  24,  24]),\n  -4.4],\n ['CC(=O)Oc1ccccc1C(=O)O',\n  array([ 165,   17, -107,   84,   31,   65,   55,   57,   51,   60,   23,\n          -91,  126,   30,   30,   30,   25,   24,   24,   24,   24]),\n  -9.94],\n ['CC(=O)C(C)(C)C',\n  array([ 158,  -34, -296,  137,  161,  161,  161,   30,   30,   30,   31,\n           31,   31,   31,   31,   31,   31,   31,   31]),\n  -3.11],\n ['COS(=O)(=O)C',\n  array([129, 115, 119,  81,  81, 142,  28,  28,  28,  29,  29,  29]),\n  -4.87],\n ['CCc1ccncc1',\n  array([170, 154,  34,  64,  33, -86,  33,  64,  31,  31,  31,  29,  29,\n          25,  23,  23,  25]),\n  -4.73],\n ['CC(C)NC(C)C',\n  array([162, 134, 162, 177, 134, 162, 162,  31,  31,  31,  28,  31,  31,\n          31,  30,  28,  31,  31,  31,  31,  31,  31]),\n  -3.22],\n ['c1cc2c(cc1Cl)Oc3ccc(cc3O2)Cl',\n  array([ 54,  65,  33,  33,  64,  41, 675, 188,  33,  65,  54,  41,  64,\n          33, 188, 675,  24,  24,  24,  24,  24,  24]),\n  -3.67],\n ['CCCCCCCN',\n  array([171, 160, 154, 156, 157, 152, 141, 230,  31,  31,  31,  30,  30,\n          30,  30,  30,  30,  30,  30,  30,  30,  29,  29,  31,  31]),\n  -3.79],\n ['CC1CCCC1',\n  array([167, 155, 154, 162, 162, 154,  31,  31,  31,  30,  30,  30,  30,\n          30,  30,  30,  30,  30]),\n  1.59],\n ['CCC', array([169, 165, 169,  31,  31,  31,  30,  30,  31,  31,  31]), 2.0],\n ['C[C@H]1CCCO1',\n  array([164, 107, 154, 162, 116, 257,  31,  31,  31,  28,  30,  30,  30,\n          30,  28,  28]),\n  -3.3],\n ['CNC(=O)Oc1cccc2c1cccc2',\n  array([157, 175,  30,  37, 132,  38,  66,  53,  60,  43,  53,  61,  56,\n          55,  60,  29,  29,  29,  28,  25,  24,  24,  24,  24,  24,  24]),\n  -9.45],\n ['c1cc(cc(c1)O)C=O',\n  array([  55,   55,   45,   70,   27,   72,  215,   -8, -316,   24,   24,\n           25,   25,   28,   21]),\n  -9.52],\n ['c1ccc2cc3ccccc3cc2c1',\n  array([55, 55, 60, 42, 64, 42, 60, 55, 55, 60, 42, 64, 42, 60, 24, 24, 24,\n         24, 24, 24, 24, 24, 24, 24]),\n  -3.95],\n ['C(Cl)Cl', array([113, 727, 727,  26,  26]), -1.31],\n ['CC(C)(C)C(=O)OC',\n  array([161, 148, 161, 161,   7, -59, 137, 131,  31,  31,  31,  31,  31,\n          31,  31,  31,  31,  28,  28,  28]),\n  -2.4],\n ['C([N+](=O)[O-])(Cl)(Cl)Cl',\n  array([  39, -135, -326, -322,  400,  400,  400]),\n  -1.45],\n ['C1CC[S+2](C1)([O-])[O-]',\n  array([160, 160, 128, 143, 128, 141, 141,  30,  30,  30,  30,  27,  27,\n          27,  27]),\n  -8.61],\n ['Cc1cccc(c1O)C',\n  array([170,  62,  56,  57,  56,  62,  28, 218, 170,  29,  29,  29,  24,\n          24,  24,  28,  29,  29,  29]),\n  -5.26],\n ['Cc1cccc(c1)O',\n  array([165,  45,  57,  55,  72,  27,  72, 215,  30,  30,  30,  24,  24,\n          25,  25,  28]),\n  -5.49],\n ['c1ccc2c(c1)C(=O)c3c(ccc(c3C2=O)O)N',\n  array([  57,   57,   57,   50,   50,   57,    2, -261,   61,   37,   71,\n           71,   26,   62,    3, -262,  212,  193,   24,   24,   24,   24,\n           25,   25,   28,   29,   29]),\n  -9.53],\n ['c1ccc2c(c1)C(=O)c3c(ccc(c3C2=O)N)N',\n  array([  57,   57,   57,   50,   50,   57,    2, -261,   61,   36,   71,\n           71,   36,   61,    2, -261,  193,  193,   24,   24,   24,   24,\n           25,   25,   29,   29,   29,   29]),\n  -11.85],\n ['CCCCCCCC(=O)C',\n  array([ 171,  160,  154,  156,  155,  159,  140,  -30, -314,  156,   31,\n           31,   31,   30,   30,   30,   30,   30,   30,   30,   30,   30,\n           30,   29,   29,   30,   30,   30]),\n  -2.49],\n ['CCCCN',\n  array([171, 162, 151, 141, 230,  31,  31,  31,  30,  30,  30,  30,  29,\n          29,  31,  31]),\n  -4.24],\n ['CCCC(=O)OCC',\n  array([170, 164, 149,  13, -82, 107, 121, 170,  31,  31,  31,  30,  30,\n          29,  29,  28,  28,  31,  31,  31]),\n  -2.49],\n ['Cc1ccc(cc1)N',\n  array([165,  46,  56,  72,  37,  72,  56, 194,  30,  30,  30,  24,  25,\n          25,  24,  29,  29]),\n  -5.57],\n ['CCCCCCI',\n  array([171, 160, 154, 157, 147, 146, 452,  31,  31,  31,  30,  30,  30,\n          30,  30,  30,  29,  29,  28,  28]),\n  0.08],\n ['C(C(F)(Cl)Cl)(F)(F)Cl',\n  array([ 44,  42, 235, 505, 505, 244, 244, 555]),\n  1.77],\n ['COP(=O)(OC)OC',\n  array([132, 246, 267, 182, 246, 132, 246, 132,  28,  28,  28,  28,  28,\n          28,  28,  28,  28]),\n  -8.7],\n ['c1cc(cc(c1)Cl)Cl',\n  array([ 57,  56,  43,  55,  43,  56, 675, 675,  24,  24,  24,  24]),\n  -0.98],\n ['Cc1cc(c2ccccc2c1)C',\n  array([164,  44,  56,  51,  43,  60,  55,  55,  60,  42,  61, 165,  30,\n          30,  30,  24,  24,  24,  24,  24,  24,  29,  29,  29]),\n  -2.47],\n ['CCCC(C)C',\n  array([171, 162, 147, 154, 165, 165,  31,  31,  31,  30,  30,  30,  30,\n          30,  31,  31,  31,  31,  31,  31]),\n  2.51],\n ['CCOP(=S)(OCC)Oc1c(cc(c(n1)Cl)Cl)Cl',\n  array([168, 121, 201, 235, 640, 201, 121, 168, 125,  28,  55,  45,  49,\n          26, -48, 599, 701, 727,  31,  31,  31,  28,  28,  28,  28,  31,\n          31,  31,  24]),\n  -5.04],\n ['C(C(F)(F)F)Cl', array([134,  52, 253, 253, 253, 860,  28,  28]), 0.06],\n ['C=C', array([61, 61, 26, 26, 26, 26]), 1.28],\n ['CCCCCI',\n  array([171, 160, 155, 147, 146, 452,  31,  31,  31,  30,  30,  30,  30,\n          29,  29,  28,  28]),\n  -0.14],\n ['COC(OC)OC',\n  array([130, 245,  67, 245, 130, 245, 130,  28,  28,  28,  25,  28,  28,\n          28,  28,  28,  28]),\n  -4.42],\n ['CCCCCCCCCC',\n  array([171, 160, 154, 156, 156, 156, 156, 154, 160, 171,  31,  31,  31,\n          30,  30,  30,  30,  30,  30,  30,  30,  30,  30,  30,  30,  30,\n          30,  30,  30,  31,  31,  31]),\n  3.16],\n ['C[C@@H](CO[N+](=O)[O-])O[N+](=O)[O-]',\n  array([ 166,  107,  112,  -67, -113, -185, -178, -100, -105, -186, -178,\n           31,   31,   31,   27,   28,   28]),\n  -4.95],\n ['CC=C', array([166,  49,  66,  30,  30,  30,  25,  26,  26]), 1.32],\n ['Cc1c[nH]c2c1cccc2',\n  array([173,  69,  62, 121,  44,  55,  60,  56,  54,  78,  29,  29,  29,\n          25,  25,  24,  24,  24,  25]),\n  -5.88],\n ['COP(=O)([C@H](C(Cl)(Cl)Cl)O)OC',\n  array([131, 245, 260, 191,  95,  56, 456, 456, 456, 291, 245, 131,  28,\n          28,  28,  27,  31,  28,  28,  28]),\n  -12.74],\n ['C1CCCCC1',\n  array([160, 160, 160, 160, 160, 160,  30,  30,  30,  30,  30,  30,  30,\n          30,  30,  30,  30,  30]),\n  1.23],\n ['CC(=CCC/C(=C/CO)/C)C',\n  array([164,  44,  54, 152, 149,  40,  54, 120, 296, 165, 164,  30,  30,\n          30,  26,  29,  29,  29,  29,  26,  27,  27,  31,  30,  30,  30,\n          30,  30,  30]),\n  -4.45],\n ['CC(C)c1ccccc1',\n  array([163, 147, 163,  36,  58,  56,  57,  56,  58,  31,  31,  31,  29,\n          31,  31,  31,  24,  24,  24,  24,  24]),\n  -0.3],\n ['CC(C)C(C)C(C)C',\n  array([166, 152, 166, 137, 170, 152, 166, 166,  31,  31,  31,  30,  31,\n          31,  31,  30,  31,  31,  31,  30,  31,  31,  31,  31,  31,  31]),\n  2.56],\n ['CC(C)C(=O)C',\n  array([ 167,  138,  167,  -33, -304,  157,   31,   31,   31,   29,   31,\n           31,   31,   30,   30,   30]),\n  -3.24],\n ['CCCCNCCCC',\n  array([171, 162, 153, 136, 210, 136, 153, 162, 171,  31,  31,  31,  30,\n          30,  31,  31,  29,  29,  31,  29,  29,  31,  31,  30,  30,  31,\n          31,  31]),\n  -3.24],\n ['CCCCS',\n  array([171, 160, 150, 154, 562,  31,  31,  31,  30,  30,  30,  30,  29,\n          29,  30]),\n  -0.99],\n ['c1ccc2c(c1)Oc3c(c(c(c(c3Cl)Cl)Cl)Cl)O2',\n  array([ 55,  55,  65,  32,  32,  65, 185,  33,  33,  50,  41,  41,  50,\n         694, 656, 656, 694, 185,  24,  24,  25,  25]),\n  -3.81],\n ['COc1c(c(c(c(c1Cl)C=O)Cl)OC)O',\n  array([ 129,  242,   37,   41,   37,   56,   43,   56,  708,   -7, -321,\n          708,  242,  129,  236,   28,   28,   28,   21,   28,   28,   28,\n           28]),\n  -8.68],\n ['C1CCC(CC1)N',\n  array([160, 163, 152, 135, 152, 163, 215,  30,  30,  30,  30,  30,  30,\n          29,  30,  30,  30,  30,  31,  31]),\n  -4.59],\n ['C(F)(F)Cl', array([ 54, 258, 258, 595,  25]), -0.5],\n ['COC(=O)c1ccc(cc1)[N+](=O)[O-]',\n  array([ 130,  140,   16,  -73,   53,   54,   59,   35,   59,   54, -140,\n         -324, -327,   28,   28,   28,   24,   24,   24,   24]),\n  -6.88],\n ['CC(=O)c1cccnc1',\n  array([ 157,  -13, -299,   50,   47,   63,   34,  -87,   32,   30,   30,\n           30,   24,   25,   23,   23]),\n  -8.26],\n ['CC#C', array([182, 111, 112,  30,  30,  30,  30]), -0.48],\n ['CCCCCCCCC=O',\n  array([ 171,  160,  154,  156,  156,  155,  159,  140,  -24, -344,   31,\n           31,   31,   30,   30,   30,   30,   30,   30,   30,   30,   30,\n           30,   30,   30,   29,   29,   22]),\n  -2.07],\n ['CCC(=O)O',\n  array([175, 152,  15, -96, 117,  31,  31,  31,  29,  29,  23]),\n  -6.46],\n ['C(Cl)(Cl)Cl', array([ 74, 506, 506, 506,  23]), -1.08],\n ['Cc1cccc(c1C)C',\n  array([165,  46,  56,  56,  56,  46,  47, 166, 165,  29,  29,  29,  24,\n          24,  24,  29,  29,  29,  29,  29,  29]),\n  -1.21],\n ['C', array([191,  31,  31,  31,  31]), 2.0],\n ['c1ccc(cc1)CCl',\n  array([ 57,  56,  57,  45,  57,  56, 133, 768,  24,  24,  24,  24,  24,\n          27,  27]),\n  -1.93],\n ['CC1CCCCC1',\n  array([167, 155, 154, 162, 160, 162, 154,  31,  31,  31,  30,  30,  30,\n          30,  30,  30,  30,  30,  30,  30,  30]),\n  1.7],\n ['Cc1cccs1',\n  array([169,  39,  59,  58,  55, 225,  29,  29,  29,  25,  25,  24]),\n  -1.38],\n ['c1ccncc1',\n  array([ 51,  62,  34, -87,  34,  62,  24,  25,  23,  23,  25]),\n  -4.69],\n ['CCCCCl',\n  array([171, 161, 150, 133, 843,  31,  31,  31,  30,  30,  30,  30,  28,\n          28]),\n  -0.16],\n ['C[C@H]1CC[C@@H](O1)C',\n  array([164, 109, 155, 155, 109, 234, 164,  31,  31,  31,  28,  30,  30,\n          30,  30,  28,  31,  31,  31]),\n  -2.92],\n ['Cc1ccc(c(c1)OC)O',\n  array([165,  44,  56,  72,  35,  35,  70, 248, 129, 227,  30,  30,  30,\n          24,  25,  25,  28,  28,  28,  28]),\n  -5.8],\n ['C1[C@H]([C@@H]2[C@H]([C@H]1Cl)[C@]3(C(=C([C@@]2(C3(Cl)Cl)Cl)Cl)Cl)Cl)Cl',\n  array([146, 122, 135, 135, 122, 774,  95,  41,  41,  95,  74, 617, 617,\n         665, 704, 704, 665, 774,  30,  30,  28,  29,  29,  28]),\n  -3.44],\n ['Cc1ccccc1',\n  array([165,  46,  57,  56,  57,  56,  57,  30,  30,  30,  24,  24,  24,\n          24,  24]),\n  -0.9],\n ['CC(C)COC=O',\n  array([166, 156, 166, 112, 115,  24, -94,  31,  31,  31,  30,  31,  31,\n          31,  28,  28,  23]),\n  -2.22],\n ['CCOC(=O)c1ccc(cc1)O',\n  array([170, 120, 114,  18, -75,  53,  52,  72,  27,  72,  52, 215,  31,\n          31,  31,  28,  28,  24,  25,  25,  24,  28]),\n  -9.2],\n ['CCOCCOCC',\n  array([169, 117, 286, 115, 115, 286, 117, 169,  31,  31,  31,  28,  28,\n          28,  28,  28,  28,  28,  28,  31,  31,  31]),\n  -3.54],\n ['CCCCCOC(=O)CC',\n  array([171, 160, 156, 156, 117, 111,  12, -81, 155, 175,  31,  31,  31,\n          30,  30,  30,  30,  30,  30,  28,  28,  30,  30,  31,  31,  31]),\n  -2.11],\n ['CCCc1ccc(cc1)O',\n  array([171, 158, 148,  42,  56,  71,  27,  71,  56, 215,  31,  31,  31,\n          30,  30,  29,  29,  24,  25,  25,  24,  28]),\n  -5.21],\n ['CC=C(C)C',\n  array([168,  59,  43, 164, 164,  30,  30,  30,  26,  30,  30,  30,  30,\n          30,  30]),\n  1.31],\n ['C(CCl)Cl', array([132, 132, 837, 837,  28,  28,  28,  28]), -1.79],\n ['CCC(C)(C)CC',\n  array([174, 150, 146, 161, 161, 150, 174,  31,  31,  31,  30,  30,  31,\n          31,  31,  31,  31,  31,  30,  30,  31,  31,  31]),\n  2.56],\n ['Cc1cc2ccccc2cc1C',\n  array([165,  45,  60,  42,  60,  55,  55,  60,  42,  60,  45, 165,  29,\n          29,  29,  24,  24,  24,  24,  24,  24,  29,  29,  29]),\n  -2.78],\n ['Cc1cccc(n1)C',\n  array([163,  21,  62,  50,  62,  21, -77, 163,  29,  29,  29,  25,  24,\n          25,  29,  29,  29]),\n  -4.59],\n ['COC(C(Cl)Cl)(F)F',\n  array([130, 231,  55, 102, 682, 682, 267, 267,  28,  28,  28,  26]),\n  -1.12],\n ['CCOCCOC(=O)C',\n  array([169, 117, 286, 115, 119, 113,  14, -94, 165,  31,  31,  31,  28,\n          28,  28,  28,  28,  28,  30,  30,  30]),\n  -5.31],\n ['COc1cccc(c1)N',\n  array([129, 230,  24,  68,  54,  72,  37,  85, 194,  28,  28,  28,  25,\n          24,  25,  26,  29,  29]),\n  -7.29],\n ['c1cc(cnc1)C=O',\n  array([  63,   47,   51,   32,  -87,   34,   -5, -319,   25,   24,   23,\n           23,   21]),\n  -7.1],\n ['CCC(C)(C)O',\n  array([175, 147, 106, 158, 158, 248,  31,  31,  31,  30,  30,  31,  31,\n          31,  31,  31,  31,  30]),\n  -4.43],\n ['CCc1cccc(c1N(COC)C(=O)CCl)CC',\n  array([ 170,  158,   50,   56,   56,   56,   50,   45,  101,  105,  284,\n          128,   18, -100,  135,  834,  158,  170,   31,   31,   31,   29,\n           29,   24,   24,   24,   27,   27,   28,   28,   28,   28,   28,\n           29,   29,   31,   31,   31]),\n  -8.21],\n ['Cn1cccc1',\n  array([152,  92,  60,  74,  74,  60,  28,  28,  28,  25,  25,  25,  25]),\n  -2.89],\n ['COCOC',\n  array([128, 275,  89, 275, 128,  28,  28,  28,  27,  27,  28,  28,  28]),\n  -2.93],\n ['CCC(CC)O',\n  array([174, 152, 109, 152, 174, 273,  31,  31,  31,  30,  30,  28,  30,\n          30,  31,  31,  31,  31]),\n  -4.35],\n ['CCCCCCCCCC(=O)C',\n  array([ 171,  160,  154,  156,  156,  156,  155,  159,  140,  -30, -314,\n          156,   31,   31,   31,   30,   30,   30,   30,   30,   30,   30,\n           30,   30,   30,   30,   30,   30,   30,   29,   29,   30,   30,\n           30]),\n  -2.15],\n ['C(CBr)Cl', array([133, 128, 457, 831,  28,  28,  27,  27]), -1.95],\n ['c1ccc(cc1)I',\n  array([ 57,  56,  46,  47,  46,  56, 432,  24,  24,  24,  24,  24]),\n  -1.74],\n ['CC1=CC(=O)CC(C1)(C)C',\n  array([ 164,   33,   60,  -15, -292,  136,  155,  139,  161,  161,   30,\n           30,   30,   26,   29,   29,   29,   29,   31,   31,   31,   31,\n           31,   31]),\n  -5.18],\n ['CCI', array([163, 151, 445,  30,  30,  30,  28,  28]), -0.74],\n ['CCCc1ccc(c(c1)OC)O',\n  array([171, 158, 147,  40,  56,  72,  35,  35,  71, 248, 129, 227,  31,\n          31,  31,  30,  30,  29,  29,  24,  25,  25,  28,  28,  28,  28]),\n  -5.26],\n ['CC(C)Br',\n  array([161, 117, 161, 435,  30,  30,  30,  26,  30,  30,  30]),\n  -0.48],\n ['Cc1ccc(cc1)Br',\n  array([165,  48,  55,  51,  42,  51,  55, 434,  30,  30,  30,  24,  24,\n          24,  24]),\n  -1.39],\n ['c1cc(ccc1C#N)O',\n  array([ 51,  72,  27,  72,  51,  69,  67, -46, 215,  24,  25,  25,  24,\n          28]),\n  -10.17],\n ['CS(=O)(=O)C',\n  array([143, 133, 100, 100, 143,  29,  29,  29,  29,  29,  29]),\n  -10.08],\n ['CCc1cccc(c1)O',\n  array([170, 154,  39,  58,  55,  72,  26,  73, 215,  31,  31,  31,  29,\n          29,  24,  24,  25,  25,  28]),\n  -6.25],\n ['CC1=CC[C@H](C[C@@H]1O)C(=C)C',\n  array([168,  39,  60, 151, 146, 147, 110, 268,  33,  72, 165,  30,  30,\n          30,  26,  29,  29,  29,  30,  30,  27,  31,  26,  26,  30,  30,\n          30]),\n  -4.44],\n ['c1cc(ccc1Br)Br',\n  array([ 50,  50,  42,  50,  50,  42, 434, 434,  24,  24,  24,  24]),\n  -2.3],\n ['COc1c(ccc(c1C(=O)O)Cl)Cl',\n  array([129, 224,  24,  53,  53,  56,  39,  59,  23, -93, 126, 667, 722,\n          28,  28,  28,  24,  24,  24]),\n  -9.86],\n ['CC/C=C\\\\C',\n  array([171, 156,  48,  54, 167,  31,  31,  31,  30,  30,  26,  26,  30,\n          30,  30]),\n  1.31],\n ['CC', array([176, 176,  31,  31,  31,  31,  31,  31]), 1.83],\n ['COc1ccccc1OC',\n  array([129, 242,  33,  69,  55,  55,  69,  33, 242, 129,  28,  28,  28,\n          25,  24,  24,  25,  28,  28,  28]),\n  -5.33],\n ['CCSCC',\n  array([169, 151, 466, 151, 169,  31,  31,  31,  29,  29,  29,  29,  31,\n          31,  31]),\n  -1.46],\n ['c1cc(cnc1)C#N',\n  array([ 62,  47,  74,  32, -87,  34,  69, -50,  25,  24,  23,  23]),\n  -6.75],\n ['c1cc(c(cc1O)Cl)Cl',\n  array([ 72,  54,  43,  41,  69,  27, 214, 672, 674,  25,  24,  25,  28]),\n  -7.29],\n ['COc1ccccc1',\n  array([129, 230,  24,  68,  55,  57,  55,  68,  28,  28,  28,  25,  24,\n          24,  24,  25]),\n  -2.45],\n ['Cc1ccc(c(c1)O)C',\n  array([165,  45,  57,  55,  63,  27,  72, 216, 171,  30,  30,  30,  24,\n          24,  25,  28,  29,  29,  29]),\n  -5.91],\n ['c1cc(ccc1Cl)Cl',\n  array([ 56,  56,  43,  56,  56,  43, 679, 679,  24,  24,  24,  24]),\n  -1.01],\n ['C(F)Cl', array([ 86, 368, 745,  26,  26]), -0.77],\n ['CCCC=C',\n  array([171, 161, 148,  45,  67,  31,  31,  31,  30,  30,  30,  30,  26,\n          26,  26]),\n  1.68],\n ['c1cc(c(c(c1Cl)Cl)Cl)Cl',\n  array([ 56,  56,  43,  42,  42,  43, 668, 664, 664, 668,  24,  24]),\n  -1.34],\n ['CCCCCC#C',\n  array([171, 160, 153, 156, 165, 105, 114,  31,  31,  31,  30,  30,  30,\n          30,  30,  30,  30,  30,  30]),\n  0.6],\n ['CCCCCCCCC(=O)C',\n  array([ 171,  160,  154,  156,  156,  155,  159,  140,  -30, -314,  156,\n           31,   31,   31,   30,   30,   30,   30,   30,   30,   30,   30,\n           30,   30,   30,   30,   29,   29,   30,   30,   30]),\n  -2.34],\n ['c1ccc(cc1)Cl',\n  array([ 57,  57,  56,  42,  56,  57, 679,  24,  24,  24,  24,  24]),\n  -1.12],\n ['CN(C)CCOC(c1ccccc1)c2ccccc2',\n  array([142, 223, 142, 128, 116, 247, 100,  44,  58,  56,  57,  56,  58,\n          44,  58,  56,  57,  56,  58,  29,  29,  29,  29,  29,  29,  29,\n          29,  28,  28,  26,  24,  24,  24,  24,  24,  24,  24,  24,  24,\n          24]),\n  -9.34],\n ['CCCCC=O',\n  array([ 171,  160,  157,  140,  -24, -344,   31,   31,   31,   30,   30,\n           30,   30,   29,   29,   22]),\n  -3.03],\n ['c1ccc(cc1)Oc2ccccc2',\n  array([ 57,  54,  63,  29,  63,  54, 183,  29,  63,  54,  57,  54,  63,\n          24,  24,  25,  25,  24,  25,  24,  24,  24,  25]),\n  -2.87],\n ['C1CCC(=O)CC1',\n  array([ 159,  164,  145,  -30, -303,  145,  164,   30,   30,   30,   30,\n           29,   29,   29,   29,   30,   30]),\n  -4.91],\n ['CCCC[N+](=O)[O-]',\n  array([ 171,  161,  155,  108, -164, -350, -351,   31,   31,   31,   30,\n           30,   30,   30,   28,   28]),\n  -3.09],\n ['c1cnccc1C=O',\n  array([  61,   34,  -86,   34,   61,   43,   -8, -316,   24,   23,   23,\n           24,   21]),\n  -7.0],\n ['C(CCl)OCCCl',\n  array([112, 135, 870, 292, 112, 135, 870,  28,  28,  28,  28,  28,  28,\n          28,  28]),\n  -4.23],\n ['CC[N+](=O)[O-]',\n  array([ 172,  111, -167, -350, -351,   30,   30,   30,   28,   28]),\n  -3.71],\n ['c1cc(cnc1)Cl',\n  array([ 63,  50,  47,  35, -89,  34, 706,  25,  24,  23,  23]),\n  -4.01],\n ['CBr', array([147, 480,  27,  27,  27]), -0.82],\n ['CO', array([133, 323,  29,  29,  29,  31]), -5.1],\n ['CCCCCCC=O',\n  array([ 171,  160,  154,  155,  159,  140,  -24, -344,   31,   31,   31,\n           30,   30,   30,   30,   30,   30,   30,   30,   29,   29,   22]),\n  -2.67],\n ['c1cc(c(c(c1)Cl)c2c(cccc2Cl)Cl)Cl',\n  array([ 57,  55,  44,  48,  44,  55, 677,  48,  44,  55,  57,  55,  44,\n         677, 677, 677,  24,  24,  24,  24,  24,  24]),\n  -2.28],\n ['c1ccc(c(c1)N)[N+](=O)[O-]',\n  array([  56,   57,   57,   48,   39,   71,  194, -137, -325, -328,   24,\n           24,   24,   25,   29,   29]),\n  -7.37],\n ['CN1CCCCC1',\n  array([144, 217, 130, 160, 162, 160, 130,  29,  29,  29,  29,  29,  30,\n          30,  30,  30,  30,  30,  29,  29]),\n  -3.88],\n ['CCCCCCCC=O',\n  array([ 171,  160,  154,  156,  155,  159,  140,  -24, -344,   31,   31,\n           31,   30,   30,   30,   30,   30,   30,   30,   30,   30,   30,\n           29,   29,   22]),\n  -2.29],\n ['c1ccc(cc1)[N+](=O)[O-]',\n  array([  57,   56,   59,   35,   59,   56, -140, -324, -327,   24,   24,\n           24,   24,   24]),\n  -4.12],\n ['C[C@@H]1CC[C@H](C(=O)C1)C(C)C',\n  array([ 167,  157,  155,  162,  130,  -30, -294,  141,  153,  165,  165,\n           31,   31,   31,   30,   30,   30,   30,   30,   29,   29,   29,\n           30,   31,   31,   31,   31,   31,   31]),\n  -2.53],\n ['C([C@@H]1[C@H]([C@@H]([C@H]([C@@H](O1)O)O)O)O)O',\n  array([121, 109, 114, 114, 111,  88, 237, 253, 297, 293, 293, 304,  28,\n          28,  28,  28,  28,  28,  27,  30,  31,  31,  31,  31]),\n  -25.47],\n ['CF', array([113, 456,  28,  28,  28]), -0.22],\n ['CS(=O)C', array([154, 118, 252, 154,  30,  30,  30,  30,  30,  30]), -9.28],\n ['c1ccc2c(c1)Oc3ccccc3O2',\n  array([ 55,  55,  65,  33,  33,  65, 189,  33,  65,  55,  55,  65,  33,\n         189,  24,  24,  25,  25,  25,  24,  24,  25]),\n  -3.15],\n ['Cc1ccccc1N',\n  array([170,  63,  56,  57,  56,  72,  38, 195,  29,  29,  29,  24,  24,\n          24,  25,  29,  29]),\n  -5.53],\n ['CCCCBr',\n  array([171, 163, 146, 128, 464,  31,  31,  31,  30,  30,  30,  30,  27,\n          27]),\n  -0.4],\n ['CCCCCCCCCO',\n  array([171, 160, 154, 156, 156, 156, 158, 151, 119, 295,  31,  31,  31,\n          30,  30,  30,  30,  30,  30,  30,  30,  30,  30,  30,  30,  30,\n          30,  28,  28,  31]),\n  -3.88],\n ['Cc1ccncc1',\n  array([164,  40,  63,  33, -86,  33,  63,  30,  30,  30,  25,  23,  23,\n          25]),\n  -4.93],\n ['C(=C(Cl)Cl)(Cl)Cl', array([ 39,  39, 568, 568, 568, 568]), 0.1],\n ['CC(C)(C)Br',\n  array([160, 102, 160, 160, 413,  30,  30,  30,  30,  30,  30,  30,  30,\n          30]),\n  0.84],\n ['C=C(c1ccccc1)c2ccccc2',\n  array([70, 36, 47, 57, 56, 57, 56, 57, 47, 57, 56, 57, 56, 57, 26, 26, 24,\n         24, 24, 24, 24, 24, 24, 24, 24, 24]),\n  -2.78],\n ['CCc1ccc(cc1)C',\n  array([170, 154,  40,  57,  56,  46,  56,  57, 165,  31,  31,  31,  29,\n          29,  24,  24,  24,  24,  30,  30,  30]),\n  -0.95],\n ['Cc1cccnc1',\n  array([167,  52,  51,  62,  34, -88,  34,  29,  29,  29,  24,  25,  23,\n          23]),\n  -4.77],\n ['COCC(OC)(OC)OC',\n  array([127, 321, 116,  64, 245, 131, 245, 131, 245, 131,  28,  28,  28,\n          28,  28,  28,  28,  28,  28,  28,  28,  28,  28,  28]),\n  -5.73],\n ['c1ccc-2c(c1)Cc3c2cccc3',\n  array([ 56,  55,  59,  46,  47,  57, 141,  47,  46,  59,  55,  56,  57,\n          24,  24,  24,  24,  28,  28,  24,  24,  24,  24]),\n  -3.35],\n ['CC(=O)N', array([164,  17, -78, 150,  30,  30,  30,  27,  27]), -9.71],\n ['COS(=O)(=O)OC',\n  array([129, 122, 115,  91,  91, 122, 129,  28,  28,  28,  28,  28,  28]),\n  -5.1],\n ['C(C(Cl)Cl)(Cl)Cl', array([ 93,  93, 644, 644, 644, 644,  25,  25]), -2.37],\n ['COC(=O)C1CCCCC1',\n  array([131, 134,  10, -72, 145, 159, 161, 160, 161, 159,  28,  28,  28,\n          29,  30,  30,  30,  30,  30,  30,  30,  30,  30,  30]),\n  -3.3],\n ['CCCCCCBr',\n  array([171, 160, 154, 158, 148, 128, 464,  31,  31,  31,  30,  30,  30,\n          30,  30,  30,  30,  30,  27,  27]),\n  0.18],\n ['CCCCCCCBr',\n  array([171, 160, 154, 156, 158, 148, 128, 464,  31,  31,  31,  30,  30,\n          30,  30,  30,  30,  30,  30,  30,  30,  27,  27]),\n  0.34],\n ['c1ccc2c(c1)Oc3cccc(c3O2)Cl',\n  array([ 55,  55,  65,  32,  33,  65, 188,  32,  65,  55,  53,  51,  34,\n         188, 708,  24,  24,  25,  25,  25,  24,  24]),\n  -3.52],\n ['COC(CC#N)(OC)OC',\n  array([131, 237,  61, 167,  73, -32, 237, 131, 237, 131,  28,  28,  28,\n          29,  29,  28,  28,  28,  28,  28,  28]),\n  -6.4],\n ['CC[C@H](C)Cl',\n  array([173, 149, 116, 161, 755,  31,  31,  31,  30,  30,  28,  30,  30,\n          30]),\n  0.0],\n ['CCCCCCc1ccccc1',\n  array([171, 160, 154, 156, 154, 150,  42,  57,  56,  57,  56,  57,  31,\n          31,  31,  30,  30,  30,  30,  30,  30,  30,  30,  29,  29,  24,\n          24,  24,  24,  24]),\n  -0.04],\n ['COc1cc(c(c(c1O)OC)Cl)C=O',\n  array([ 129,  247,   36,   68,   43,   55,   37,   42,  237,  242,  129,\n          712,   -8, -319,   28,   28,   28,   24,   28,   28,   28,   28,\n           21]),\n  -7.78],\n ['c1cc(cc(c1)C(F)(F)F)C(F)(F)F',\n  array([ 57,  56,  52,  55,  52,  56,  53, 244, 244, 244,  53, 244, 244,\n         244,  24,  24,  24,  24]),\n  1.07],\n ['c1ccc(cc1)Cn2ccnc2',\n  array([ 57,  56,  58,  44,  58,  56, 135,  77,  68,  54, -35,  47,  24,\n          24,  24,  24,  24,  27,  27,  25,  25,  24]),\n  -7.63],\n ['c1ccc2c(c1)cccc2N',\n  array([ 55,  55,  62,  54,  43,  60,  60,  54,  72,  42, 192,  24,  24,\n          24,  24,  24,  24,  25,  28,  28]),\n  -7.28],\n ['CCOC(=O)CC(=O)OCC',\n  array([170, 121, 105,  16, -93, 144,  16, -93, 105, 121, 170,  31,  31,\n          31,  28,  28,  29,  29,  28,  28,  31,  31,  31]),\n  -6.0],\n ['CC(=O)C1CC1',\n  array([ 157,  -30, -305,  134,  160,  160,   30,   30,   30,   29,   30,\n           30,   30,   30]),\n  -4.61],\n ['c1cc[nH]c1',\n  array([ 74,  74,  61, 101,  61,  25,  25,  25,  25,  25]),\n  -4.78],\n ['c1cc(c(cc1c2ccc(cc2F)F)C(=O)O)O',\n  array([ 58,  70,  23,  63,  54,  48,  59,  55,  68,  20,  81,  23, 289,\n         289,  23, -91, 126, 211,  24,  25,  24,  24,  25,  25,  24,  28]),\n  -9.4],\n ['CC1CCC(CC1)C',\n  array([167, 154, 156, 156, 154, 156, 156, 167,  31,  31,  31,  30,  30,\n          30,  30,  30,  30,  30,  30,  30,  30,  31,  31,  31]),\n  2.11],\n ['C1CCC(CC1)O',\n  array([160, 163, 151, 113, 151, 163, 269,  30,  30,  30,  30,  30,  30,\n          28,  30,  30,  30,  30,  31]),\n  -5.46],\n ['CN(C)CCC=C1c2ccccc2CCc3c1cccc3',\n  array([142, 217, 142, 129, 150,  54,  44,  48,  58,  56,  56,  58,  43,\n         150, 150,  43,  48,  58,  56,  56,  58,  29,  29,  29,  29,  29,\n          29,  29,  29,  30,  30,  26,  24,  24,  24,  24,  29,  29,  29,\n          29,  24,  24,  24,  24]),\n  -7.43],\n ['c1cc(ccc1O)F',\n  array([ 70,  68,  22,  68,  70,  28, 215, 291,  25,  25,  25,  25,  28]),\n  -6.19],\n ['c1ccc(c(c1)N)Cl',\n  array([ 56,  57,  55,  58,  40,  71, 194, 739,  24,  24,  24,  25,  29,\n          29]),\n  -4.91],\n ['Cc1ccc(c(c1)C)C',\n  array([165,  45,  56,  56,  46,  46,  57, 165, 165,  30,  30,  30,  24,\n          24,  24,  29,  29,  29,  29,  29,  29]),\n  -0.86],\n ['CCc1ccccc1C',\n  array([170, 155,  41,  57,  56,  56,  56,  47, 165,  31,  31,  31,  29,\n          29,  24,  24,  24,  24,  29,  29,  29]),\n  -0.85],\n ['C[C@@H]1CC[C@H](CC1=O)C(=C)C',\n  array([ 171,  142,  159,  157,  147,  142,  -32, -295,   33,   72,  165,\n           31,   31,   31,   29,   30,   30,   30,   30,   29,   29,   29,\n           26,   26,   30,   30,   30]),\n  -3.75],\n ['c1ccc(cc1)c2ccccc2',\n  array([57, 55, 59, 44, 59, 55, 44, 59, 55, 57, 55, 59, 24, 24, 24, 24, 24,\n         24, 24, 24, 24, 24]),\n  -2.7],\n ['Cc1cccc(c1C)O',\n  array([165,  45,  57,  55,  71,  27,  63, 171, 216,  29,  29,  29,  24,\n          24,  25,  29,  29,  29,  28]),\n  -6.16],\n ['COP(=S)(OC)Oc1ccc(cc1)[N+](=O)[O-]',\n  array([ 132,  223,  232,  639,  223,  132,  151,   36,   62,   57,   35,\n           57,   62, -140, -324, -327,   28,   28,   28,   28,   28,   28,\n           25,   24,   24,   25]),\n  -7.19],\n ['CCOP(=S)(OCC)Oc1ccc(cc1)[N+](=O)[O-]',\n  array([ 168,  121,  202,  233,  641,  202,  121,  168,  152,   36,   62,\n           57,   35,   57,   62, -140, -324, -327,   31,   31,   31,   28,\n           28,   28,   28,   31,   31,   31,   25,   24,   24,   25]),\n  -6.74],\n ['CCN(CC)c1c(cc(c(c1[N+](=O)[O-])N)C(F)(F)F)[N+](=O)[O-]',\n  array([ 171,  137,  154,  137,  171,   36,   45,   55,   65,   37,   58,\n         -130, -326, -329,  193,   54,  244,  244,  244, -138, -325, -328,\n           31,   31,   31,   28,   28,   28,   28,   31,   31,   31,   24,\n           29,   29]),\n  -5.66],\n ['CSC', array([165, 542, 165,  30,  30,  30,  30,  30,  30]), -1.61],\n ['C[C@@H](c1cccc(c1)C(=O)c2ccccc2)C(=O)O',\n  array([ 168,  134,   43,   58,   56,   55,   49,   57,   -4, -255,   49,\n           55,   57,   57,   57,   55,   16,  -84,  121,   30,   30,   30,\n           28,   24,   24,   24,   24,   24,   24,   24,   24,   24,   24]),\n  -10.78],\n ['C1CCC(C1)O',\n  array([163, 163, 151, 113, 151, 269,  30,  30,  30,  30,  30,  30,  28,\n          30,  30,  31]),\n  -5.49],\n ['CCCCC(=O)OC',\n  array([171, 160, 157, 151,  11, -79, 131, 131,  31,  31,  31,  30,  30,\n          30,  30,  29,  29,  28,  28,  28]),\n  -2.56],\n ['CCCC(=C)C',\n  array([171, 161, 146,  36,  72, 164,  31,  31,  31,  30,  30,  30,  30,\n          26,  26,  30,  30,  30]),\n  1.47],\n ['C[C@@H](c1ccc(c(c1)F)c2ccccc2)C(=O)O',\n  array([168, 134,  40,  58,  58,  59,  24,  70, 292,  48,  59,  55,  57,\n          55,  59,  16, -84, 121,  30,  30,  30,  28,  24,  24,  25,  24,\n          24,  24,  24,  24,  24]),\n  -8.42],\n ['CCCN(CCC)c1c(cc(cc1[N+](=O)[O-])S(=O)(=O)C)[N+](=O)[O-]',\n  array([ 172,  161,  131,  159,  131,  161,  172,   37,   45,   54,   39,\n           54,   45, -138, -325, -328,  135,  102,  102,  142, -138, -325,\n         -328,   31,   31,   31,   30,   30,   28,   28,   28,   28,   30,\n           30,   31,   31,   31,   24,   24,   29,   29,   29]),\n  -7.98],\n ['C=CCl', array([ 69,  50, 690,  26,  26,  25]), -0.59],\n ['Cc1ccc(cc1)C(=O)N(C)C',\n  array([165,  46,  57,  55,  50,  55,  57,  18, -54, 143, 148, 148,  30,\n          30,  30,  24,  24,  24,  24,  29,  29,  29,  29,  29,  29]),\n  -9.76],\n ['CCCC(=O)CCC',\n  array([ 170,  164,  140,  -33, -303,  140,  164,  170,   31,   31,   31,\n           30,   30,   29,   29,   29,   29,   30,   30,   31,   31,   31]),\n  -2.92],\n ['COC(=O)c1ccccc1',\n  array([130, 140,  16, -73,  53,  54,  57,  57,  57,  54,  28,  28,  28,\n          24,  24,  24,  24,  24]),\n  -3.92],\n ['Cc1ccc(cc1)C=O',\n  array([ 165,   46,   57,   54,   47,   54,   57,   -8, -316,   30,   30,\n           30,   24,   24,   24,   24,   21]),\n  -4.27],\n ['CCCC(=O)OCCC',\n  array([170, 164, 149,  13, -82, 111, 116, 160, 173,  31,  31,  31,  30,\n          30,  29,  29,  28,  28,  30,  30,  31,  31,  31]),\n  -2.28],\n ['C1CNCCN1',\n  array([135, 135, 216, 135, 135, 216,  29,  29,  29,  29,  31,  29,  29,\n          29,  29,  31]),\n  -7.4],\n ['CCOP(=S)(OCC)S[C@@H](CCl)N1C(=O)c2ccccc2C1=O',\n  array([ 168,  121,  188,  209,  600,  188,  121,  168,  348,  121,  128,\n          847,   57,   23, -106,   51,   56,   57,   57,   56,   51,   23,\n         -106,   31,   31,   31,   28,   28,   28,   28,   31,   31,   31,\n           26,   28,   28,   24,   24,   24,   24]),\n  -5.74],\n ['CCOCCO',\n  array([169, 117, 287, 113, 121, 304,  31,  31,  31,  28,  28,  28,  28,\n          28,  28,  31]),\n  -6.69],\n ['CCC(C)CC',\n  array([173, 155, 148, 166, 155, 173,  31,  31,  31,  30,  30,  30,  31,\n          31,  31,  30,  30,  31,  31,  31]),\n  2.51],\n ['Cc1cnccn1',\n  array([165,  28,  40, -97,  41,  41, -90,  29,  29,  29,  23,  23,  23]),\n  -5.51],\n ['CCC[N+](=O)[O-]',\n  array([ 171,  161,  106, -164, -350, -351,   31,   31,   31,   30,   30,\n           28,   28]),\n  -3.34],\n ['Cc1cc(cc(c1)C)C',\n  array([165,  45,  57,  45,  57,  45,  57, 165, 165,  30,  30,  30,  24,\n          24,  24,  30,  30,  30,  30,  30,  30]),\n  -0.9],\n ['c1c(c(=O)[nH]c(=O)[nH]1)F',\n  array([ 73,  42,  36, -34,  87,  28,  34, 105, 339,  25,  27,  26]),\n  -16.92],\n ['CCO', array([165, 122, 289,  31,  31,  31,  28,  28,  31]), -5.0],\n ['Cc1ccc(c2c1cccc2)C',\n  array([165,  51,  55,  55,  51,  43,  43,  60,  55,  55,  60, 165,  29,\n          29,  29,  24,  24,  24,  24,  24,  24,  29,  29,  29]),\n  -2.82],\n ['c1c2c(cc(c1Cl)Cl)Oc3cc(c(cc3O2)Cl)Cl',\n  array([ 63,  33,  33,  63,  41,  41, 671, 671, 187,  33,  63,  41,  41,\n          63,  33, 187, 671, 671,  24,  24,  24,  24]),\n  -3.37],\n ['c1cc(c(c(c1)Cl)C#N)Cl',\n  array([ 57,  55,  40,  69,  40,  55, 665,  68, -52, 665,  24,  24,  24]),\n  -4.71],\n ['CCOC=O',\n  array([169, 120, 107,  24, -94,  31,  31,  31,  28,  28,  23]),\n  -2.56],\n ['c1c(c(cc(c1Cl)Cl)Cl)Cl',\n  array([ 54,  43,  43,  54,  43,  43, 670, 670, 670, 670,  24,  24]),\n  -1.34],\n ['CCOC(OCC)Oc1ccccc1',\n  array([169, 120, 218,  65, 218, 120, 169, 169,  30,  68,  55,  57,  55,\n          68,  31,  31,  31,  28,  28,  23,  28,  28,  31,  31,  31,  25,\n          24,  24,  24,  25]),\n  -5.23],\n ['c1cc(cc(c1)O)[N+](=O)[O-]',\n  array([  55,   59,   34,   73,   26,   72,  214, -139, -324, -327,   24,\n           24,   25,   25,   28]),\n  -9.62],\n ['CCCCCCCCO',\n  array([171, 160, 154, 156, 156, 158, 151, 119, 295,  31,  31,  31,  30,\n          30,  30,  30,  30,  30,  30,  30,  30,  30,  30,  30,  28,  28,\n          31]),\n  -4.09],\n ['CCC=C',\n  array([172, 155,  44,  67,  31,  31,  31,  30,  30,  26,  26,  26]),\n  1.38],\n ['C(Cl)(Cl)(Cl)Cl', array([ 35, 288, 288, 288, 288]), 0.08],\n ['c1ccc(cc1)CCO',\n  array([ 57,  56,  57,  44,  57,  56, 145, 119, 295,  24,  24,  24,  24,\n          24,  29,  29,  28,  28,  31]),\n  -6.79],\n ['CN(C)C(=O)Nc1ccccc1',\n  array([149, 166, 149,  28,  34, 143,  42,  70,  55,  57,  55,  70,  29,\n          29,  29,  29,  29,  29,  26,  25,  24,  24,  24,  25]),\n  -9.13],\n ['CSSC', array([164, 420, 420, 164,  29,  29,  29,  29,  29,  29]), -1.83],\n ['C1C=CC[C@@H]2[C@@H]1C(=O)N(C2=O)SC(Cl)(Cl)Cl',\n  array([154,  55,  55, 154, 143, 143,  13, -92,  77,  13, -92,  33,  43,\n         355, 355, 355,  29,  29,  26,  26,  29,  29,  29,  29]),\n  -9.01],\n ['CC(=O)OCC(COC(=O)C)OC(=O)C',\n  array([165,  14, -94, 115, 118, 113, 118, 115,  14, -94, 165, 102,  15,\n         -97, 165,  30,  30,  30,  28,  28,  28,  28,  28,  30,  30,  30,\n          30,  30,  30]),\n  -8.84],\n ['COC', array([126, 329, 126,  28,  28,  28,  28,  28,  28]), -1.91],\n ['CCCCCC',\n  array([171, 160, 154, 154, 160, 171,  31,  31,  31,  30,  30,  30,  30,\n          30,  30,  30,  30,  31,  31,  31]),\n  2.48],\n ['C(CBr)Br', array([129, 129, 451, 451,  26,  26,  26,  26]), -2.33],\n ['C(C(Cl)(Cl)Cl)(Cl)Cl',\n  array([ 82,  50, 426, 426, 426, 630, 630,  24]),\n  -1.23],\n ['c1c(c(=O)[nH]c(=O)[nH]1)C(F)(F)F',\n  array([ 58,  75,  31, -41,  83,  28,  34,  98,  57, 241, 241, 241,  24,\n          27,  26]),\n  -15.46],\n ['Cc1cccc(c1N)C',\n  array([170,  62,  56,  56,  56,  62,  39, 196, 170,  29,  29,  29,  24,\n          24,  24,  29,  29,  29,  29,  29]),\n  -5.21],\n ['CCCOC(=O)C',\n  array([173, 160, 116, 108,  14, -94, 165,  31,  31,  31,  30,  30,  28,\n          28,  30,  30,  30]),\n  -2.79],\n ['c1ccc2c(c1)cccn2',\n  array([ 55,  55,  63,  35,  46,  59,  57,  61,  38, -63,  24,  24,  24,\n          24,  24,  25,  23]),\n  -5.72],\n ['CCS', array([167, 157, 549,  30,  30,  30,  29,  29,  30]), -1.14],\n ['CCSSCC',\n  array([169, 149, 390, 390, 149, 169,  31,  31,  31,  29,  29,  29,  29,\n          31,  31,  31]),\n  -1.64],\n ['c1ccsc1', array([ 59,  59,  54, 234,  54,  25,  25,  24,  24]), -1.4],\n ['CCc1cccc2c1cccc2',\n  array([170, 155,  45,  56,  55,  60,  42,  43,  60,  55,  55,  60,  31,\n          31,  31,  29,  29,  24,  24,  24,  24,  24,  24,  24]),\n  -2.4],\n ['CCCC(=O)C',\n  array([ 170,  164,  138,  -30, -314,  156,   31,   31,   31,   30,   30,\n           29,   29,   30,   30,   30]),\n  -3.52],\n ['c1c(c(c(c(c1Cl)Cl)Cl)Cl)c2c(cc(c(c2Cl)Cl)Cl)Cl',\n  array([ 58,  46,  44,  42,  42,  42, 666, 664, 663, 670,  47,  45,  54,\n          42,  42,  44, 666, 669, 664, 673,  24,  24]),\n  -4.61],\n ['CCC[N@@](CC1CC1)c2c(cc(cc2[N+](=O)[O-])C(F)(F)F)[N+](=O)[O-]',\n  array([ 172,  161,  131,  160,  129,  154,  158,  158,   37,   45,   56,\n           51,   56,   45, -138, -325, -328,   53,  244,  244,  244, -138,\n         -325, -328,   31,   31,   31,   30,   30,   28,   28,   28,   28,\n           30,   30,   30,   30,   30,   24,   24]),\n  -2.45],\n ['CC(=O)O', array([ 162,   18, -109,  114,   30,   30,   30,   23]), -6.69],\n ['CC=O', array([ 154,  -21, -355,   30,   30,   30,   21]), -3.5],\n ['c1cc(cc(c1)[N+](=O)[O-])N',\n  array([  55,   72,   37,   73,   34,   59, -139, -324, -327,  194,   24,\n           25,   25,   24,   29,   29]),\n  -8.84],\n ['CCCCC#C',\n  array([171, 160, 154, 165, 105, 114,  31,  31,  31,  30,  30,  30,  30,\n          30,  30,  30]),\n  0.29],\n ['COc1ccccc1N',\n  array([129, 247,  35,  70,  55,  56,  72,  47, 202,  28,  28,  28,  25,\n          24,  24,  25,  29,  29]),\n  -6.12],\n ['c1ccc(cc1)O',\n  array([ 57,  55,  72,  27,  72,  55, 215,  24,  24,  25,  25,  24,  28]),\n  -6.6],\n ['CCC#N', array([173, 174,  64, -26,  31,  31,  31,  30,  30]), -3.84],\n ['c1ccc2c(c1)cccc2O',\n  array([ 55,  56,  62,  55,  43,  60,  60,  53,  72,  32, 212,  24,  24,\n          24,  24,  24,  24,  25,  27]),\n  -7.67],\n ['CCCCOC(=O)C',\n  array([171, 162, 154, 117, 108,  14, -94, 165,  31,  31,  31,  30,  30,\n          30,  30,  28,  28,  30,  30,  30]),\n  -2.64],\n ['CC(C)(/C=N\\\\OC(=O)NC)SC',\n  array([ 158,  126,  158,   19, -138,   48,   33,   37,  176,  157,  420,\n          166,   30,   30,   30,   30,   30,   30,   24,   28,   29,   29,\n           29,   30,   30,   30]),\n  -9.84],\n ['Cc1ccccc1O',\n  array([171,  63,  56,  57,  55,  71,  28, 217,  29,  29,  29,  24,  24,\n          24,  25,  28]),\n  -5.9],\n ['CC(C)C=O',\n  array([ 167,  138,  167,  -28, -330,   31,   31,   31,   29,   31,   31,\n           31,   22]),\n  -2.86],\n ['CCC(=O)N',\n  array([175, 153,  14, -65, 151,  31,  31,  31,  30,  30,  27,  27]),\n  -9.4],\n ['CCCBr',\n  array([174, 153, 126, 465,  31,  31,  31,  30,  30,  27,  27]),\n  -0.56],\n ['CC(C)Cl',\n  array([160, 119, 160, 730,  30,  30,  30,  27,  30,  30,  30]),\n  -0.25],\n ['C(CCl)CCl',\n  array([148, 134, 843, 134, 843,  30,  30,  28,  28,  28,  28]),\n  -1.89],\n ['c1cc(ccc1[N+](=O)[O-])O',\n  array([  57,   71,   27,   71,   57,   35, -140, -324, -327,  215,   24,\n           25,   25,   24,   28]),\n  -10.64],\n ['C[C@@H](CCl)Cl',\n  array([162, 118, 127, 851, 746,  30,  30,  30,  27,  28,  28]),\n  -1.27],\n ['c1cc(ccc1N)Cl',\n  array([ 72,  55,  43,  55,  72,  38, 194, 679,  25,  24,  24,  25,  29,\n          29]),\n  -5.9],\n ['c1ccc2c(c1)C(=O)c3cccc(c3C2=O)N',\n  array([  57,   57,   57,   50,   50,   57,   -1, -260,   48,   57,   56,\n           71,   36,   62,    2, -261,  193,   24,   24,   24,   24,   24,\n           24,   25,   29,   29]),\n  -9.44],\n ['Cc1cccnc1C',\n  array([168,  52,  51,  62,  34, -83,  22, 163,  29,  29,  29,  24,  25,\n          23,  29,  29,  29]),\n  -4.82],\n ['c1cnccc1C#N',\n  array([ 59,  34, -86,  34,  59,  65,  67, -46,  24,  23,  23,  24]),\n  -6.02],\n ['CCOP(=S)(OCC)SCSCC',\n  array([168, 121, 188, 209, 600, 188, 121, 168, 375, 144, 443, 151, 169,\n          31,  31,  31,  28,  28,  28,  28,  31,  31,  31,  28,  28,  29,\n          29,  31,  31,  31]),\n  -4.37],\n ['CC(=O)C1CCCCC1',\n  array([ 157,  -30, -305,  134,  159,  161,  160,  161,  159,   30,   30,\n           30,   29,   30,   30,   30,   30,   30,   30,   30,   30,   30,\n           30]),\n  -3.9],\n ['Cc1ccccc1C=O',\n  array([ 164,   43,   57,   56,   57,   54,   47,   -7, -317,   29,   29,\n           29,   24,   24,   24,   24,   21]),\n  -3.93],\n ['CC(=O)c1ccncc1',\n  array([ 157,  -15, -296,   43,   61,   34,  -86,   34,   61,   30,   30,\n           30,   24,   23,   23,   24]),\n  -7.62],\n ['c1c2c(cc(c1Cl)Cl)Oc3c(c(c(c(c3Cl)Cl)Cl)Cl)O2',\n  array([ 63,  32,  32,  63,  41,  41, 671, 671, 184,  33,  33,  50,  41,\n          41,  50, 694, 656, 656, 694, 184,  24,  24]),\n  -3.71],\n ['CC(=O)C',\n  array([ 154,  -27, -323,  154,   30,   30,   30,   30,   30,   30]),\n  -3.8],\n ['CC(=C)C',\n  array([163,  39,  71, 163,  30,  30,  30,  26,  26,  30,  30,  30]),\n  1.16],\n ['c1cc(c(cc1Cl)c2cc(c(c(c2)Cl)Cl)Cl)Cl',\n  array([ 56,  55,  45,  46,  58,  42, 677,  45,  58,  41,  42,  41,  58,\n         666, 671, 666, 681,  24,  24,  24,  24,  24]),\n  -3.61],\n ['CCCCC[N+](=O)[O-]',\n  array([ 171,  160,  154,  157,  107, -164, -350, -351,   31,   31,   31,\n           30,   30,   30,   30,   30,   30,   28,   28]),\n  -2.82],\n ['CCC/C=C/C=O',\n  array([ 171,  160,  147,   37,   57,   -9, -313,   31,   31,   31,   30,\n           30,   30,   30,   25,   26,   22]),\n  -3.68],\n ['CN(C)C(=O)c1ccc(cc1)[N+](=O)[O-]',\n  array([ 148,  143,  148,   18,  -54,   50,   55,   59,   35,   59,   55,\n         -140, -324, -327,   29,   29,   29,   29,   29,   29,   24,   24,\n           24,   24]),\n  -11.95],\n ['C1CCOC1',\n  array([161, 161, 114, 282, 114,  30,  30,  30,  30,  28,  28,  28,  28]),\n  -3.47],\n ['CCCCCCCC',\n  array([171, 160, 154, 156, 156, 154, 160, 171,  31,  31,  31,  30,  30,\n          30,  30,  30,  30,  30,  30,  30,  30,  30,  30,  31,  31,  31]),\n  2.88],\n ['CCCN(CCC)c1c(cc(cc1[N+](=O)[O-])C(F)(F)F)[N+](=O)[O-]',\n  array([ 172,  161,  131,  159,  131,  161,  172,   37,   45,   56,   51,\n           56,   45, -138, -325, -328,   53,  244,  244,  244, -138, -325,\n         -328,   31,   31,   31,   30,   30,   28,   28,   28,   28,   30,\n           30,   31,   31,   31,   24,   24]),\n  -3.25],\n ['CC(=CCC[C@](C)(C=C)OC(=O)C)C',\n  array([ 164,   44,   54,  155,  148,  102,  163,   45,   65,   77,   16,\n         -101,  165,  164,   30,   30,   30,   26,   30,   30,   30,   30,\n           31,   31,   31,   26,   26,   26,   30,   30,   30,   30,   30,\n           30]),\n  -2.49],\n ['C[C@@H](CCO[N+](=O)[O-])O[N+](=O)[O-]',\n  array([ 163,  104,  146,  115,  -89, -111, -185, -178, -109, -104, -186,\n         -178,   31,   31,   31,   27,   30,   30,   28,   28]),\n  -4.29],\n ['CC(C)OC(C)C',\n  array([163, 110, 163, 225, 110, 163, 163,  31,  31,  31,  28,  31,  31,\n          31,  28,  31,  31,  31,  31,  31,  31]),\n  -0.53],\n ['CCCCC(C)C',\n  array([171, 160, 156, 148, 154, 165, 165,  31,  31,  31,  30,  30,  30,\n          30,  30,  30,  30,  31,  31,  31,  31,  31,  31]),\n  2.93],\n ['c1(c(c(c(c(c1Cl)Cl)Cl)Cl)Cl)N(=O)=O',\n  array([  35,   45,   42,   42,   42,   45,  663,  660,  659,  660,  663,\n         -137, -329, -326]),\n  -5.22],\n ['[C@@H](C(F)(F)F)(Cl)Br',\n  array([107,  53, 255, 255, 255, 654, 420,  25]),\n  -0.11],\n ['CCCCOCCCC',\n  array([171, 163, 153, 114, 285, 114, 153, 163, 171,  31,  31,  31,  30,\n          30,  30,  30,  28,  28,  28,  28,  30,  30,  30,  30,  31,  31,\n          31]),\n  -0.83],\n ['CCCCCC1CCCC1',\n  array([171, 160, 154, 156, 152, 152, 156, 161, 161, 156,  31,  31,  31,\n          30,  30,  30,  30,  30,  30,  30,  30,  30,  30,  30,  30,  30,\n          30,  30,  30,  30]),\n  2.55],\n ['CC(C)CC(C)C',\n  array([165, 155, 165, 141, 155, 165, 165,  31,  31,  31,  30,  31,  31,\n          31,  30,  30,  30,  31,  31,  31,  31,  31,  31]),\n  2.83],\n ['Cc1ccc(nc1)C',\n  array([167,  52,  51,  62,  22, -84,  34, 163,  29,  29,  29,  24,  25,\n          23,  29,  29,  29]),\n  -4.72],\n ['C/C=C/C=O',\n  array([ 165,   41,   56,   -9, -313,   30,   30,   30,   25,   26,   22]),\n  -4.22],\n ['CCC[C@H](C)CC',\n  array([171, 162, 148, 150, 166, 155, 173,  31,  31,  31,  30,  30,  30,\n          30,  30,  31,  31,  31,  30,  30,  31,  31,  31]),\n  2.71],\n ['c1cc(c(c(c1)Cl)c2c(cc(cc2Cl)Cl)Cl)Cl',\n  array([ 57,  55,  44,  48,  44,  55, 677,  48,  45,  54,  43,  54,  45,\n         673, 671, 673, 677,  24,  24,  24,  24,  24]),\n  -1.96],\n ['c1ccc(cc1)O[C@@H](C(F)F)F',\n  array([ 57,  55,  68,  27,  68,  55, 178,  75,  70, 318, 318, 332,  24,\n          24,  25,  25,  24,  26,  26]),\n  -1.29],\n ['COCCOC',\n  array([127, 314, 114, 114, 314, 127,  28,  28,  28,  28,  28,  28,  28,\n          28,  28,  28]),\n  -4.84],\n ['CC[C@H](C)c1ccccc1',\n  array([173, 152, 142, 164,  37,  58,  56,  57,  56,  58,  31,  31,  31,\n          30,  30,  29,  31,  31,  31,  24,  24,  24,  24,  24]),\n  -0.45],\n ['c1ccc(cc1)CCCO',\n  array([ 57,  56,  57,  41,  57,  56, 152, 150, 120, 295,  24,  24,  24,\n          24,  24,  29,  29,  30,  30,  28,  28,  31]),\n  -6.92],\n ['CC[C@@H](C)c1cc(cc(c1O)[N+](=O)[O-])[N+](=O)[O-]',\n  array([ 173,  152,  147,  164,   52,   59,   34,   59,   48,   30,  217,\n         -137, -325, -329, -139, -324, -327,   31,   31,   31,   30,   30,\n           29,   31,   31,   31,   24,   24,   28]),\n  -6.23],\n ['COc1ccc(cc1)C(=O)OC',\n  array([129, 230,  24,  68,  52,  53,  52,  68,  16, -73, 140, 130,  28,\n          28,  28,  25,  24,  24,  25,  28,  28,  28]),\n  -5.33],\n ['CCC(=O)Nc1ccc(c(c1)Cl)Cl',\n  array([175, 153,  14, -89, 115,  42,  70,  54,  43,  41,  67, 673, 674,\n          31,  31,  31,  30,  30,  25,  25,  24,  25]),\n  -7.78],\n ['C[C@@H](c1ccc2cc(ccc2c1)OC)C(=O)O',\n  array([168, 134,  41,  56,  60,  42,  71,  23,  67,  58,  42,  62, 229,\n         129,  16, -84, 121,  30,  30,  30,  28,  24,  24,  25,  25,  24,\n          24,  28,  28,  28,  24]),\n  -10.21],\n ['C1(C(C(C1(F)F)(F)F)(F)F)(F)F',\n  array([ 69,  69,  69,  69, 315, 315, 315, 315, 315, 315, 315, 315]),\n  3.43],\n ['CC(C)CCOC(=O)C',\n  array([165, 155, 165, 148, 118, 108,  14, -94, 165,  31,  31,  31,  30,\n          31,  31,  31,  30,  30,  28,  28,  30,  30,  30]),\n  -2.21],\n ['CCCCCCCl',\n  array([171, 160, 154, 156, 152, 133, 843,  31,  31,  31,  30,  30,  30,\n          30,  30,  30,  30,  30,  28,  28]),\n  0.0],\n ['CC(C)CC(=O)C',\n  array([ 164,  156,  164,  133,  -29, -314,  156,   31,   31,   31,   30,\n           31,   31,   31,   29,   29,   30,   30,   30]),\n  -3.05],\n ['CCCCCC=O',\n  array([ 171,  160,  153,  159,  140,  -24, -344,   31,   31,   31,   30,\n           30,   30,   30,   30,   30,   29,   29,   22]),\n  -2.81],\n ['c1cc(cc(c1)Cl)N',\n  array([ 56,  72,  37,  70,  41,  56, 677, 194,  24,  25,  25,  24,  29,\n          29]),\n  -5.82],\n ['C1COCCN1',\n  array([136, 115, 289, 115, 136, 221,  29,  29,  28,  28,  28,  28,  29,\n          29,  31]),\n  -7.17],\n ['CCOC(C)OCC',\n  array([169, 119, 230,  82, 166, 230, 119, 169,  31,  31,  31,  28,  28,\n          27,  30,  30,  30,  28,  28,  31,  31,  31]),\n  -3.28],\n ['CCCC[N@](CC)c1c(cc(cc1[N+](=O)[O-])C(F)(F)F)[N+](=O)[O-]',\n  array([ 171,  161,  154,  133,  156,  137,  171,   37,   45,   56,   51,\n           56,   45, -138, -325, -328,   53,  244,  244,  244, -138, -325,\n         -328,   31,   31,   31,   30,   30,   30,   30,   28,   28,   28,\n           28,   31,   31,   31,   24,   24]),\n  -3.51],\n ['CS', array([172, 596,  30,  30,  30,  30]), -1.2],\n ['C1[C@@H]2[C@H](COS(=O)O1)[C@@]3(C(=C([C@]2(C3(Cl)Cl)Cl)Cl)Cl)Cl',\n  array([ 117,  143,  143,  117,   93, -114,   22,   93,   95,   41,   41,\n           95,   74,  617,  617,  665,  704,  704,  665,   28,   28,   30,\n           30,   28,   28]),\n  -4.23],\n ['CC(=O)c1ccc(cc1)OC',\n  array([ 157,  -15, -296,   46,   53,   68,   24,   68,   53,  230,  129,\n           30,   30,   30,   24,   25,   25,   24,   28,   28,   28]),\n  -4.4],\n ['C=CCO', array([ 67,  45, 119, 296,  26,  26,  26,  28,  28,  31]), -5.03],\n ['CCSC',\n  array([169, 150, 503, 165,  31,  31,  31,  29,  29,  30,  30,  30]),\n  -1.5],\n ['CCCCCOC(=O)C',\n  array([171, 160, 156, 156, 117, 108,  14, -94, 165,  31,  31,  31,  30,\n          30,  30,  30,  30,  30,  28,  28,  30,  30,  30]),\n  -2.51],\n ['c1c(cc(c(c1Cl)Cl)Cl)Cl',\n  array([ 55,  44,  55,  43,  43,  43, 664, 671, 664, 671,  24,  24]),\n  -1.62],\n ['CC(=O)c1ccccc1',\n  array([ 157,  -15, -296,   46,   55,   57,   57,   57,   55,   30,   30,\n           30,   24,   24,   24,   24,   24]),\n  -4.58],\n ['CCCl', array([167, 136, 819,  30,  30,  30,  28,  28]), -0.63],\n ['CCCC1CCCC1',\n  array([171, 161, 150, 152, 156, 161, 161, 156,  31,  31,  31,  30,  30,\n          30,  30,  30,  30,  30,  30,  30,  30,  30,  30,  30]),\n  2.13],\n ['c1c(cc(cc1Cl)Cl)Cl',\n  array([ 55,  43,  55,  43,  55,  43, 671, 671, 671,  24,  24,  24]),\n  -0.78],\n ['CCCOC(=O)c1ccc(cc1)O',\n  array([173, 160, 115, 119,  18, -75,  53,  52,  72,  27,  72,  52, 215,\n          31,  31,  31,  30,  30,  28,  28,  24,  25,  25,  24,  28]),\n  -9.37],\n ['c1cc(cc(c1)Cl)O',\n  array([ 55,  72,  26,  70,  41,  56, 676, 214,  24,  25,  25,  24,  28]),\n  -6.62],\n ['CC(C)CCO',\n  array([165, 156, 165, 144, 121, 295,  31,  31,  31,  30,  31,  31,  31,\n          30,  30,  28,  28,  31]),\n  -4.42],\n ['CCCCCN',\n  array([171, 160, 155, 153, 141, 230,  31,  31,  31,  30,  30,  30,  30,\n          30,  30,  29,  29,  31,  31]),\n  -4.09],\n ['Cc1c(c(=O)n(c(=O)[nH]1)C(C)(C)C)Cl',\n  array([163,  48,  62,  30, -55,  49,  29,  32,  94, 121, 156, 156, 156,\n         761,  30,  30,  30,  26,  30,  30,  30,  30,  30,  30,  30,  30,\n          30]),\n  -11.14],\n ['CC(C)CCC(C)(C)C',\n  array([165, 154, 165, 151, 145, 150, 159, 159, 159,  31,  31,  31,  30,\n          31,  31,  31,  30,  30,  30,  30,  31,  31,  31,  31,  31,  31,\n          31,  31,  31]),\n  2.93],\n ['CCCCOCCO',\n  array([171, 163, 153, 114, 293, 113, 121, 304,  31,  31,  31,  30,  30,\n          30,  30,  28,  28,  28,  28,  28,  28,  31]),\n  -6.25],\n ['C1[C@@H]2[C@H]3[C@@H]([C@H]1[C@H]4[C@@H]2O4)[C@@]5(C(=C([C@]3(C5(Cl)Cl)Cl)Cl)Cl)Cl',\n  array([159, 152, 141, 141, 152, 106, 106, 267,  95,  41,  41,  95,  74,\n         617, 617, 665, 704, 704, 665,  30,  30,  30,  30,  30,  30,  28,\n          28]),\n  -4.82],\n ['c1ccc(cc1)C(=O)N',\n  array([ 57,  57,  55,  48,  55,  57,  22, -68, 156,  24,  24,  24,  24,\n          24,  27,  27]),\n  -11.0],\n ['CC(C)[N+](=O)[O-]',\n  array([ 166,  102,  166, -170, -339, -341,   30,   30,   30,   28,   30,\n           30,   30]),\n  -3.13],\n ['C(C(CO)O)O',\n  array([119, 112, 119, 307, 289, 307,  28,  28,  28,  28,  28,  31,  31,\n          31]),\n  -13.43],\n ['CCCI',\n  array([173, 153, 144, 452,  31,  31,  31,  30,  30,  28,  28]),\n  -0.53],\n ['COCCN',\n  array([127, 311, 112, 141, 235,  28,  28,  28,  28,  28,  29,  29,  31,\n          31]),\n  -6.55],\n ['C(C(Cl)(Cl)Cl)Cl', array([117,  52, 432, 432, 432, 814,  28,  28]), -1.43],\n ['CCC(=O)OC',\n  array([175, 155,  11, -79, 131, 131,  31,  31,  31,  30,  30,  28,  28,\n          28]),\n  -2.93],\n ['C1CCCC1',\n  array([160, 160, 160, 160, 160,  30,  30,  30,  30,  30,  30,  30,  30,\n          30,  30]),\n  1.2],\n ['CCc1cccnc1',\n  array([170, 157,  46,  53,  62,  34, -88,  35,  31,  31,  31,  29,  29,\n          24,  25,  23,  23]),\n  -4.59],\n ['Cc1cc(cnc1)C',\n  array([167,  52,  52,  52,  34, -90,  34, 167,  29,  29,  29,  24,  23,\n          23,  29,  29,  29]),\n  -4.84],\n ['COCCO',\n  array([127, 314, 112, 121, 304,  28,  28,  28,  28,  28,  28,  28,  31]),\n  -6.619999999999999],\n ['COC=O', array([131, 131,  22, -92,  28,  28,  28,  23]), -2.78],\n ['c1ccc2cc(ccc2c1)N',\n  array([ 55,  55,  60,  42,  76,  36,  71,  59,  42,  60, 194,  24,  24,\n          24,  25,  25,  24,  24,  29,  29]),\n  -7.47],\n ['Cc1c[nH]cn1',\n  array([171,  42,  71,  95,  47, -29,  29,  29,  29,  25,  25,  25]),\n  -10.27],\n ['Cc1cccc(c1)[N+](=O)[O-]',\n  array([ 165,   45,   57,   56,   59,   35,   59, -139, -324, -327,   30,\n           30,   30,   24,   24,   24,   24]),\n  -3.45],\n ['C(CCCl)CCl',\n  array([152, 152, 133, 843, 133, 843,  30,  30,  30,  30,  28,  28,  28,\n          28]),\n  -2.32],\n ['CC(=O)CO[N+](=O)[O-]',\n  array([ 157,  -26, -313,  112,  -73, -115, -185, -178,   30,   30,   30,\n           27,   27]),\n  -5.99],\n ['CC(C)(C)c1ccccc1',\n  array([157, 140, 157, 157,  34,  59,  56,  57,  56,  59,  30,  30,  30,\n          30,  30,  30,  30,  30,  30,  24,  24,  24,  24,  24]),\n  -0.44],\n ['CCCCCC(=O)OC',\n  array([171, 160, 153, 159, 151,  11, -79, 131, 131,  31,  31,  31,  30,\n          30,  30,  30,  30,  30,  29,  29,  28,  28,  28]),\n  -2.49],\n ['C[C@@H](C(F)(F)F)O',\n  array([165, 114,  50, 261, 261, 261, 281,  31,  31,  31,  28,  31]),\n  -4.16],\n ['CCCCCBr',\n  array([171, 160, 156, 148, 128, 464,  31,  31,  31,  30,  30,  30,  30,\n          30,  30,  27,  27]),\n  -0.1],\n ['CCCCCCC=C',\n  array([171, 160, 154, 156, 156, 150,  45,  67,  31,  31,  31,  30,  30,\n          30,  30,  30,  30,  30,  30,  30,  30,  26,  26,  26]),\n  1.92],\n ['CC1=CC(=O)[C@@H](CC1)C(C)C',\n  array([ 164,   30,   61,  -19, -281,  131,  162,  151,  153,  165,  165,\n           30,   30,   30,   26,   29,   30,   30,   29,   29,   30,   31,\n           31,   31,   31,   31,   31]),\n  -4.51],\n ['CC(C)O',\n  array([160, 112, 160, 263,  31,  31,  31,  28,  31,  31,  31,  31]),\n  -4.74],\n ['CCCCCCN',\n  array([171, 160, 154, 157, 152, 141, 230,  31,  31,  31,  30,  30,  30,\n          30,  30,  30,  30,  30,  29,  29,  31,  31]),\n  -3.95],\n ['C(CO[N+](=O)[O-])CO[N+](=O)[O-]',\n  array([ 151,  114,  -88, -111, -185, -178,  114,  -88, -111, -185, -178,\n           30,   30,   28,   28,   28,   28]),\n  -4.8],\n ['Cc1ccc(c(c1)C)O',\n  array([165,  46,  55,  71,  28,  62,  56, 171, 217,  30,  30,  30,  24,\n          25,  24,  29,  29,  29,  28]),\n  -6.01],\n ['CCCCCO',\n  array([171, 160, 156, 151, 119, 295,  31,  31,  31,  30,  30,  30,  30,\n          30,  30,  28,  28,  31]),\n  -4.57],\n ['CCC[C@@H](C)O',\n  array([171, 164, 144, 112, 161, 268,  31,  31,  31,  30,  30,  30,  30,\n          28,  31,  31,  31,  31]),\n  -4.39],\n ['CCCC[C@@H](C)CC',\n  array([171, 160, 156, 150, 150, 166, 155, 173,  31,  31,  31,  30,  30,\n          30,  30,  30,  30,  30,  31,  31,  31,  30,  30,  31,  31,  31]),\n  2.97],\n ['C[C@@H](c1ccc(cc1)CC(C)C)C(=O)O',\n  array([168, 134,  43,  57,  57,  43,  57,  57, 142, 152, 165, 165,  16,\n         -84, 121,  30,  30,  30,  28,  24,  24,  24,  24,  29,  29,  30,\n          31,  31,  31,  31,  31,  31,  24]),\n  -7.0],\n ['CCOC(=O)C[C@H](C(=O)OCC)SP(=S)(OC)OC',\n  array([170, 121, 106,  14, -85, 147, 138,  13, -72, 110, 120, 170, 377,\n         207, 599, 209, 132, 209, 132,  31,  31,  31,  28,  28,  29,  29,\n          28,  28,  28,  31,  31,  31,  28,  28,  28,  28,  28,  28]),\n  -8.15],\n ['Cc1ccc(cc1C)O',\n  array([165,  47,  55,  71,  27,  72,  45, 165, 215,  29,  29,  29,  24,\n          25,  25,  29,  29,  29,  28]),\n  -6.5],\n ['Cc1cc(ccc1Cl)O',\n  array([165,  44,  72,  27,  72,  54,  43, 687, 215,  29,  29,  29,  25,\n          25,  24,  28]),\n  -6.79],\n ['CCCC/C=C/C',\n  array([171, 160, 154, 151,  50,  54, 167,  31,  31,  31,  30,  30,  30,\n          30,  30,  30,  26,  26,  30,  30,  30]),\n  1.68],\n ['CCCOCCC',\n  array([173, 160, 112, 285, 112, 160, 173,  31,  31,  31,  30,  30,  28,\n          28,  28,  28,  30,  30,  31,  31,  31]),\n  -1.16],\n ['C[C@@H]1CC[C@H]([C@@H](C1)O)C(C)C',\n  array([167, 157, 156, 163, 137, 114, 146, 273, 154, 165, 165,  31,  31,\n          31,  30,  30,  30,  30,  30,  30,  28,  30,  30,  31,  30,  31,\n          31,  31,  31,  31,  31]),\n  -3.2],\n ['CCNc1nc(nc(n1)SC)NC(C)(C)C',\n  array([169, 144, 156,  15,  33,  16,   8,   5,   7, 399, 167, 136, 130,\n         157, 157, 157,  31,  31,  31,  28,  28,  27,  29,  29,  29,  26,\n          31,  31,  31,  31,  31,  31,  31,  31,  31]),\n  -6.68],\n ['CC(C)CC(C)(C)C',\n  array([165, 156, 165, 137, 151, 159, 159, 159,  31,  31,  31,  30,  31,\n          31,  31,  30,  30,  31,  31,  31,  31,  31,  31,  31,  31,  31]),\n  2.89],\n ['CCCCC(=O)CCCC',\n  array([ 171,  160,  157,  141,  -33, -303,  141,  157,  160,  171,   31,\n           31,   31,   30,   30,   30,   30,   29,   29,   29,   29,   30,\n           30,   30,   30,   31,   31,   31]),\n  -2.64],\n ['CCCCN(CC)C(=O)SCCC',\n  array([171, 161, 154, 136, 125, 141, 170,  16, -49, 362, 147, 158, 171,\n          31,  31,  31,  30,  30,  30,  30,  29,  29,  28,  28,  31,  31,\n          31,  29,  29,  30,  30,  31,  31,  31]),\n  -3.64],\n ['CCCCCC=C',\n  array([171, 160, 154, 156, 150,  45,  67,  31,  31,  31,  30,  30,  30,\n          30,  30,  30,  30,  30,  26,  26,  26]),\n  1.66],\n ['CC(C)OC=O',\n  array([163, 111, 163,  88,  25, -98,  31,  31,  31,  27,  31,  31,  31,\n          23]),\n  -2.02],\n ['CC(OC(=O)C)OC(=O)C',\n  array([ 164,   89,   75,   17, -105,  164,   75,   17, -105,  164,   30,\n           30,   30,   26,   30,   30,   30,   30,   30,   30]),\n  -4.97],\n ['c1c(c(=O)[nH]c(=O)[nH]1)Cl',\n  array([ 63,  64,  30, -47,  83,  28,  34,  99, 764,  25,  27,  26]),\n  -17.74],\n ['CC(=C)c1ccccc1',\n  array([164,  37,  69,  44,  57,  56,  57,  56,  57,  30,  30,  30,  26,\n          26,  24,  24,  24,  24,  24]),\n  -1.24],\n ['CCC(C)C',\n  array([173, 153, 152, 165, 165,  31,  31,  31,  30,  30,  30,  31,  31,\n          31,  31,  31,  31]),\n  2.38],\n ['CCCCO[N+](=O)[O-]',\n  array([ 171,  162,  152,  113,  -88, -111, -185, -178,   31,   31,   31,\n           30,   30,   30,   30,   28,   28]),\n  -2.09],\n ['c1ccc(cc1)Br',\n  array([ 58,  54,  51,  42,  51,  54, 434,  24,  24,  24,  24,  24]),\n  -1.46],\n ['CC(Cl)(Cl)Cl', array([147,  53, 425, 425, 425,  30,  30,  30]), -0.19],\n ['CC(=C)[C@H]1CCC(=CC1)C=O',\n  array([ 165,   33,   72,  143,  156,  156,   44,   46,  149,  -10, -314,\n           30,   30,   30,   26,   26,   29,   30,   30,   29,   29,   26,\n           29,   29,   22]),\n  -4.09],\n ['Cc1ccccc1[N+](=O)[O-]',\n  array([ 165,   48,   56,   56,   56,   58,   35, -140, -324, -328,   29,\n           29,   29,   24,   24,   24,   24]),\n  -3.58],\n ['CCCCCCCI',\n  array([171, 160, 154, 156, 157, 147, 146, 452,  31,  31,  31,  30,  30,\n          30,  30,  30,  30,  30,  30,  29,  29,  28,  28]),\n  0.27],\n ['c1cc2ccc3cccc4c3c2c(c1)cc4',\n  array([53, 59, 43, 58, 58, 43, 59, 53, 59, 43, 53, 53, 43, 59, 58, 58, 24,\n         24, 24, 24, 24, 24, 24, 24, 24, 24]),\n  -4.52],\n ['CCCCCCl',\n  array([171, 160, 155, 152, 133, 843,  31,  31,  31,  30,  30,  30,  30,\n          30,  30,  28,  28]),\n  -0.1],\n ['CC(C)COC(=O)C',\n  array([166, 156, 166, 112, 111,  14, -94, 165,  31,  31,  31,  30,  31,\n          31,  31,  28,  28,  30,  30,  30]),\n  -2.36],\n ['CCC(C)(C)C',\n  array([174, 148, 148, 159, 159, 159,  31,  31,  31,  30,  30,  31,  31,\n          31,  31,  31,  31,  31,  31,  31]),\n  2.51],\n ['c1cc(ccc1N)N(=O)=O',\n  array([  71,   57,   35,   57,   71,   37,  194, -140, -327, -324,   25,\n           24,   24,   25,   29,   29]),\n  -9.82],\n ['COC(=O)CC#N',\n  array([131, 129,  14, -90, 161,  73, -36,  28,  28,  28,  29,  29]),\n  -6.72],\n ['COc1ccc(cc1)N',\n  array([129, 230,  24,  68,  71,  38,  71,  68, 194,  28,  28,  28,  25,\n          25,  25,  25,  29,  29]),\n  -7.48],\n ['CC(C)Cc1ccccc1',\n  array([165, 152, 165, 142,  43,  57,  56,  57,  56,  57,  31,  31,  31,\n          30,  31,  31,  31,  29,  29,  24,  24,  24,  24,  24]),\n  0.16],\n ['c1ccc(cc1)c2c(cc(cc2Cl)Cl)Cl',\n  array([ 57,  55,  59,  45,  59,  55,  48,  45,  54,  43,  54,  45, 673,\n         671, 673,  24,  24,  24,  24,  24,  24,  24]),\n  -2.16],\n ['CN', array([155, 243,  30,  30,  30,  32,  32]), -4.55],\n ['c1ccc(c(c1)O)Cl',\n  array([ 55,  57,  54,  58,  30,  71, 213, 742,  24,  24,  24,  25,  28]),\n  -4.55],\n ['c1ccc2c(c1)C(=O)c3ccc(cc3C2=O)N',\n  array([  57,   57,   57,   50,   50,   57,   -1, -260,   50,   55,   72,\n           37,   71,   48,   -1, -260,  194,   24,   24,   24,   24,   24,\n           25,   25,   29,   29]),\n  -11.53],\n ['C(=C\\\\Cl)\\\\Cl', array([ 58,  58, 710, 710,  25,  25]), -1.17],\n ['CCCCC(=O)C',\n  array([ 171,  160,  157,  140,  -30, -314,  156,   31,   31,   31,   30,\n           30,   30,   30,   29,   29,   30,   30,   30]),\n  -3.28],\n ['C(CO[N+](=O)[O-])O[N+](=O)[O-]',\n  array([ 114,  114,  -73, -112, -185, -178,  -73, -112, -185, -178,   28,\n           28,   28,   28]),\n  -5.73],\n ['c1ccc(c(c1)O)F',\n  array([ 56,  54,  70,  32,  36,  72, 229, 319,  24,  24,  25,  25,  28]),\n  -5.29],\n ['Cc1c(nc(nc1OC(=O)N(C)C)N(C)C)C',\n  array([174,  68,  16, -20,  19,  16,  24, 114,  29,  37, 171, 149, 149,\n         163, 146, 146, 162,  29,  29,  29,  29,  29,  29,  29,  29,  29,\n          29,  29,  29,  29,  29,  29,  29,  29,  29]),\n  -9.41],\n ['C=Cc1ccccc1',\n  array([64, 50, 46, 57, 56, 57, 56, 57, 26, 26, 25, 24, 24, 24, 24, 24]),\n  -1.24],\n ['CCOP(=O)(OCC)OCC',\n  array([168, 121, 224, 267, 183, 224, 121, 168, 224, 121, 168,  31,  31,\n          31,  28,  28,  28,  28,  31,  31,  31,  28,  28,  31,  31,  31]),\n  -7.5],\n ['C(C(F)(F)F)O', array([120,  52, 259, 259, 259, 312,  28,  28,  31]), -4.31],\n ['CCCCOC[C@H](C)O',\n  array([171, 163, 153, 114, 295, 109, 116, 163, 274,  31,  31,  31,  30,\n          30,  30,  30,  28,  28,  28,  28,  28,  31,  31,  31,  31]),\n  -5.73],\n ['CCCO',\n  array([173, 156, 118, 295,  31,  31,  31,  30,  30,  28,  28,  31]),\n  -4.85],\n ['Cc1ccccc1C',\n  array([165,  46,  56,  56,  56,  56,  46, 165,  29,  29,  29,  24,  24,\n          24,  24,  29,  29,  29]),\n  -0.9],\n ['CC(C)(C)C',\n  array([158, 150, 158, 158, 158,  31,  31,  31,  31,  31,  31,  31,  31,\n          31,  31,  31,  31]),\n  2.51],\n ['CCCC#C',\n  array([170, 160, 163, 105, 114,  31,  31,  31,  30,  30,  30,  30,  30]),\n  0.01],\n ['c1ccc2c(c1)C(=O)NC2=O',\n  array([  57,   57,   57,   49,   49,   57,   24, -100,   81,   24, -100,\n           24,   24,   24,   24,   25]),\n  -9.61],\n ['CCCCI',\n  array([171, 162, 146, 146, 452,  31,  31,  31,  30,  30,  29,  29,  28,\n          28]),\n  -0.25],\n ['Cc1ccc(cc1)O',\n  array([165,  46,  55,  71,  27,  71,  55, 215,  30,  30,  30,  24,  25,\n          25,  24,  28]),\n  -6.13],\n ['CC(C)I',\n  array([161, 136, 161, 425,  30,  30,  30,  27,  30,  30,  30]),\n  -0.46],\n ['COc1ccccc1O',\n  array([129, 248,  36,  70,  55,  55,  72,  35, 227,  28,  28,  28,  25,\n          24,  24,  25,  28]),\n  -5.94],\n ['C1CC=CC1',\n  array([161, 155,  54,  54, 155,  30,  30,  30,  30,  26,  26,  30,  30]),\n  0.56],\n ['C[C@H](C(F)(F)F)O',\n  array([165, 114,  50, 261, 261, 261, 281,  31,  31,  31,  28,  31]),\n  -4.2],\n ['CCCN',\n  array([172, 157, 140, 230,  31,  31,  31,  30,  30,  29,  29,  31,  31]),\n  -4.39],\n ['c1ccc(c(c1)[N+](=O)[O-])O',\n  array([  57,   55,   71,   28,   48,   56, -136, -325, -329,  214,   24,\n           24,   25,   24,   28]),\n  -4.58],\n ['Cc1cccc2c1cccc2',\n  array([165,  51,  55,  55,  60,  42,  43,  60,  55,  55,  60,  29,  29,\n          29,  24,  24,  24,  24,  24,  24,  24]),\n  -2.44],\n ['c1(c(c(c(c(c1Cl)Cl)Cl)Cl)Cl)Cl',\n  array([ 42,  42,  42,  42,  42,  42, 659, 659, 659, 659, 659, 659]),\n  -2.33],\n ['CCCCC/C=C/C=O',\n  array([ 171,  160,  154,  156,  149,   37,   57,   -9, -313,   31,   31,\n           31,   30,   30,   30,   30,   30,   30,   30,   30,   25,   26,\n           22]),\n  -3.43],\n ['CCCCCCC#C',\n  array([171, 160, 154, 155, 156, 165, 105, 114,  31,  31,  31,  30,  30,\n          30,  30,  30,  30,  30,  30,  30,  30,  30]),\n  0.71],\n ['CCOP(=S)(OCC)Oc1cc(nc(n1)C(C)C)C',\n  array([168, 121, 201, 235, 640, 201, 121, 168, 124,  20,  74,  14, -48,\n           7, -25, 145, 164, 164, 162,  31,  31,  31,  28,  28,  28,  28,\n          31,  31,  31,  25,  29,  31,  31,  31,  31,  31,  31,  29,  29,\n          29]),\n  -6.48],\n ['CCCCCCCC(=O)OC',\n  array([171, 160, 154, 156, 155, 159, 151,  11, -79, 131, 131,  31,  31,\n          31,  30,  30,  30,  30,  30,  30,  30,  30,  30,  30,  29,  29,\n          28,  28,  28]),\n  -2.04],\n ['C1CCNC1',\n  array([160, 160, 136, 212, 136,  30,  30,  30,  30,  29,  29,  31,  29,\n          29]),\n  -5.48],\n ['c1cc(ccc1C=O)O',\n  array([  53,   72,   27,   72,   53,   47,   -8, -316,  215,   24,   25,\n           25,   24,   21,   28]),\n  -8.83],\n ['CCCCCCCCl',\n  array([171, 160, 154, 156, 156, 152, 133, 843,  31,  31,  31,  30,  30,\n          30,  30,  30,  30,  30,  30,  30,  30,  28,  28]),\n  0.29],\n ['C1COCCO1',\n  array([115, 115, 297, 115, 115, 297,  28,  28,  28,  28,  28,  28,  28,\n          28]),\n  -5.06]]"
     },
     "execution_count": 384,
     "metadata": {},
     "output_type": "execute_result"
    }
   ],
   "source": [
    "free"
   ],
   "metadata": {
    "collapsed": false,
    "pycharm": {
     "name": "#%%\n"
    }
   }
  },
  {
   "cell_type": "code",
   "execution_count": null,
   "outputs": [],
   "source": [],
   "metadata": {
    "collapsed": false,
    "pycharm": {
     "name": "#%%\n"
    }
   }
  }
 ],
 "metadata": {
  "kernelspec": {
   "name": "mr_bert",
   "language": "python",
   "display_name": "mr_bert"
  },
  "language_info": {
   "codemirror_mode": {
    "name": "ipython",
    "version": 2
   },
   "file_extension": ".py",
   "mimetype": "text/x-python",
   "name": "python",
   "nbconvert_exporter": "python",
   "pygments_lexer": "ipython2",
   "version": "2.7.6"
  }
 },
 "nbformat": 4,
 "nbformat_minor": 0
}