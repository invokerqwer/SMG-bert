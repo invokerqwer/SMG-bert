{
 "cells": [
  {
   "cell_type": "code",
   "execution_count": null,
   "metadata": {
    "collapsed": true,
    "pycharm": {
     "name": "#%%\n"
    }
   },
   "outputs": [],
   "source": []
  },
  {
   "cell_type": "code",
   "execution_count": 2,
   "outputs": [],
   "source": [
    "import pandas as pd\n",
    "import numpy as np\n",
    "import os\n",
    "import logging\n",
    "import sys\n",
    "sys.path.append(\"/home/zjh/remote/mrbert/V1/\")\n",
    "import torch\n",
    "# data = torch.load(\"/home/zjh/mr/pretrain/dataset/pretrain_dataset_3d.pth\")\n",
    "from tqdm import tqdm\n",
    "\n"
   ],
   "metadata": {
    "collapsed": false,
    "pycharm": {
     "name": "#%%\n"
    }
   }
  },
  {
   "cell_type": "code",
   "execution_count": 3,
   "outputs": [],
   "source": [
    "# data2 = torch.load(\"/home/zjh/mr/pretrain/dataset/10000-20000.pth\")"
   ],
   "metadata": {
    "collapsed": false,
    "pycharm": {
     "name": "#%%\n"
    }
   }
  },
  {
   "cell_type": "code",
   "execution_count": 4,
   "outputs": [
    {
     "name": "stderr",
     "output_type": "stream",
     "text": [
      " 16%|█▌        | 1550/9996 [00:00<00:01, 7681.54it/s]"
     ]
    },
    {
     "name": "stdout",
     "output_type": "stream",
     "text": [
      "valid\n"
     ]
    },
    {
     "name": "stderr",
     "output_type": "stream",
     "text": [
      " 54%|█████▎    | 5366/9996 [00:00<00:00, 8199.66it/s]"
     ]
    },
    {
     "name": "stdout",
     "output_type": "stream",
     "text": [
      "valid\n"
     ]
    },
    {
     "name": "stderr",
     "output_type": "stream",
     "text": [
      " 62%|██████▏   | 6196/9996 [00:00<00:00, 8203.55it/s]"
     ]
    },
    {
     "name": "stdout",
     "output_type": "stream",
     "text": [
      "valid\n",
      "valid\n"
     ]
    },
    {
     "name": "stderr",
     "output_type": "stream",
     "text": [
      " 78%|███████▊  | 7807/9996 [00:01<00:00, 4629.49it/s]"
     ]
    },
    {
     "name": "stdout",
     "output_type": "stream",
     "text": [
      "valid\n",
      "valid\n"
     ]
    },
    {
     "name": "stderr",
     "output_type": "stream",
     "text": [
      "100%|██████████| 9996/9996 [00:01<00:00, 6489.26it/s]\n"
     ]
    },
    {
     "name": "stdout",
     "output_type": "stream",
     "text": [
      "valid\n",
      "valid\n"
     ]
    }
   ],
   "source": [
    "new_data = []\n",
    "for row in tqdm(iter(data),total=len(data)):\n",
    "\n",
    "\n",
    "    smiles = row[0]\n",
    "    nmr = row[1]\n",
    "\n",
    "    pos,dist_i,dist_j,dist,angle_i,angle_j,angle_k,angle,torsion_k,torsion_i,torsion_j,torsion_t,torsion = [d for d in row[2:]]\n",
    "    if (len(pos) > 255):\n",
    "        print(len(pos))\n",
    "        continue\n",
    "    if (len(dist)==0 or len(angle)==0 or len(torsion)==0):\n",
    "        print(\"valid\")\n",
    "        continue\n",
    "    new_data.append([smiles,torch.tensor(nmr),pos,dist_i.byte(),dist_j.byte(),dist,angle_i.byte(),angle_j.byte(),angle_k.byte(),angle,torsion_k.byte(),torsion_i.byte(),torsion_j.byte(),torsion_t.byte(),\n",
    "                     torsion])\n",
    "torch.save(new_data,\"/home/zjh/mr/pretrain/dataset/10000-20000_test.pth\")"
   ],
   "metadata": {
    "collapsed": false,
    "pycharm": {
     "name": "#%%\n"
    }
   }
  },
  {
   "cell_type": "code",
   "execution_count": 11,
   "outputs": [
    {
     "ename": "NameError",
     "evalue": "name 'a' is not defined",
     "output_type": "error",
     "traceback": [
      "\u001B[0;31m---------------------------------------------------------------------------\u001B[0m",
      "\u001B[0;31mNameError\u001B[0m                                 Traceback (most recent call last)",
      "Cell \u001B[0;32mIn[11], line 1\u001B[0m\n\u001B[0;32m----> 1\u001B[0m \u001B[43ma\u001B[49m\n",
      "\u001B[0;31mNameError\u001B[0m: name 'a' is not defined"
     ]
    }
   ],
   "source": [
    "axx"
   ],
   "metadata": {
    "collapsed": false,
    "pycharm": {
     "name": "#%%\n"
    }
   }
  },
  {
   "cell_type": "code",
   "execution_count": null,
   "outputs": [],
   "source": [],
   "metadata": {
    "collapsed": false,
    "pycharm": {
     "name": "#%%\n"
    }
   }
  }
 ],
 "metadata": {
  "kernelspec": {
   "name": "mr_bert",
   "language": "python",
   "display_name": "mr_bert"
  },
  "language_info": {
   "codemirror_mode": {
    "name": "ipython",
    "version": 2
   },
   "file_extension": ".py",
   "mimetype": "text/x-python",
   "name": "python",
   "nbconvert_exporter": "python",
   "pygments_lexer": "ipython2",
   "version": "2.7.6"
  }
 },
 "nbformat": 4,
 "nbformat_minor": 0
}