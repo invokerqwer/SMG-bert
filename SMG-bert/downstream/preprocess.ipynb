{
 "cells": [
  {
   "cell_type": "code",
   "execution_count": 15,
   "metadata": {
    "collapsed": true,
    "pycharm": {
     "name": "#%%\n"
    }
   },
   "outputs": [],
   "source": [
    "import pandas as pd\n",
    "import os.path\n",
    "\n",
    "import torch\n",
    "from torch_scatter import scatter\n",
    "from torch_sparse import SparseTensor\n",
    "from math import pi as PI\n",
    "from rdkit import Chem\n",
    "from rdkit.Chem import AllChem\n",
    "from tqdm import tqdm\n",
    "from rdkit import RDLogger\n",
    "RDLogger.DisableLog('rdApp.*')\n",
    "import torch"
   ]
  },
  {
   "cell_type": "code",
   "execution_count": 2,
   "outputs": [
    {
     "data": {
      "text/plain": "['C', 'C', 'O', 'H', 'H', 'H', 'H', 'H', 'H']"
     },
     "execution_count": 2,
     "metadata": {},
     "output_type": "execute_result"
    }
   ],
   "source": [
    "mol = Chem.MolFromSmiles(\"CCO\")\n",
    "mol = AllChem.AddHs(mol)\n",
    "atom_symbol_list = [atom.GetSymbol() for atom in mol.GetAtoms()]\n",
    "atom_symbol_list"
   ],
   "metadata": {
    "collapsed": false,
    "pycharm": {
     "name": "#%%\n"
    }
   }
  },
  {
   "cell_type": "code",
   "execution_count": 3,
   "outputs": [
    {
     "data": {
      "text/plain": "'[H]OC([H])([H])C([H])([H])[H]'"
     },
     "execution_count": 3,
     "metadata": {},
     "output_type": "execute_result"
    }
   ],
   "source": [
    "Chem.MolToSmiles(mol)"
   ],
   "metadata": {
    "collapsed": false,
    "pycharm": {
     "name": "#%%\n"
    }
   }
  },
  {
   "cell_type": "code",
   "execution_count": 8,
   "outputs": [],
   "source": [
    "d = torch.load(\"/home/zjh/remote/mrbert/downstream/preprocess_data/chiral/label.pth\")"
   ],
   "metadata": {
    "collapsed": false,
    "pycharm": {
     "name": "#%%\n"
    }
   }
  },
  {
   "cell_type": "code",
   "execution_count": 9,
   "outputs": [
    {
     "data": {
      "text/plain": "3507"
     },
     "execution_count": 9,
     "metadata": {},
     "output_type": "execute_result"
    }
   ],
   "source": [
    "len(d)"
   ],
   "metadata": {
    "collapsed": false,
    "pycharm": {
     "name": "#%%\n"
    }
   }
  },
  {
   "cell_type": "code",
   "execution_count": 29,
   "outputs": [],
   "source": [
    "pos = torch.load(\"/home/zjh/remote/mrbert/downstream/preprocess_data/bace/pos.pth\")\n",
    "# torsion = torch.load(\"/home/zjh/remote/mrbert/downstream/preprocess_data/bace/torsion.pth\")\n",
    "angle = torch.load(\"/home/zjh/remote/mrbert/downstream/preprocess_data/bace/angle.pth\")\n",
    "smiles = torch.load(\"/home/zjh/remote/mrbert/downstream/preprocess_data/bace/smiles.pth\")"
   ],
   "metadata": {
    "collapsed": false,
    "pycharm": {
     "name": "#%%\n"
    }
   }
  },
  {
   "cell_type": "code",
   "execution_count": 31,
   "outputs": [
    {
     "name": "stdout",
     "output_type": "stream",
     "text": [
      "1046\n",
      "1045\n",
      "1046\n"
     ]
    }
   ],
   "source": [
    "print(len(angle))\n",
    "print(len(pos))\n",
    "# print(len(torsion))\n",
    "print(len(smiles))"
   ],
   "metadata": {
    "collapsed": false,
    "pycharm": {
     "name": "#%%\n"
    }
   }
  },
  {
   "cell_type": "code",
   "execution_count": null,
   "outputs": [],
   "source": [],
   "metadata": {
    "collapsed": false,
    "pycharm": {
     "name": "#%%\n"
    }
   }
  },
  {
   "cell_type": "code",
   "execution_count": null,
   "outputs": [],
   "source": [],
   "metadata": {
    "collapsed": false,
    "pycharm": {
     "name": "#%%\n"
    }
   }
  },
  {
   "cell_type": "code",
   "execution_count": 38,
   "outputs": [
    {
     "data": {
      "text/plain": "      NR-AR  NR-AR-LBD  NR-AhR  NR-Aromatase  NR-ER  NR-ER-LBD  NR-PPAR-gamma  \\\n0       0.0        0.0     1.0           NaN    NaN        0.0            0.0   \n1       0.0        0.0     0.0           0.0    0.0        0.0            0.0   \n2       NaN        NaN     NaN           NaN    NaN        NaN            NaN   \n3       0.0        0.0     0.0           0.0    0.0        0.0            0.0   \n4       0.0        0.0     0.0           0.0    0.0        0.0            0.0   \n...     ...        ...     ...           ...    ...        ...            ...   \n7826    NaN        NaN     NaN           NaN    NaN        NaN            NaN   \n7827    1.0        1.0     0.0           0.0    1.0        0.0            NaN   \n7828    1.0        1.0     0.0           0.0    1.0        1.0            0.0   \n7829    1.0        1.0     0.0           NaN    1.0        1.0            0.0   \n7830    0.0        0.0     NaN           0.0    0.0        0.0            0.0   \n\n      SR-ARE  SR-ATAD5  SR-HSE  SR-MMP  SR-p53    mol_id  \\\n0        1.0       0.0     0.0     0.0     0.0   TOX3021   \n1        NaN       0.0     NaN     0.0     0.0   TOX3020   \n2        0.0       NaN     0.0     NaN     NaN   TOX3024   \n3        NaN       0.0     NaN     0.0     0.0   TOX3027   \n4        0.0       0.0     0.0     0.0     0.0  TOX20800   \n...      ...       ...     ...     ...     ...       ...   \n7826     0.0       NaN     0.0     NaN     NaN   TOX2725   \n7827     NaN       0.0     0.0     NaN     0.0   TOX2370   \n7828     1.0       0.0     0.0     0.0     0.0   TOX2371   \n7829     0.0       0.0     0.0     1.0     1.0   TOX2377   \n7830     0.0       0.0     0.0     1.0     0.0   TOX2724   \n\n                                                 smiles  \n0                          CCOc1ccc2nc(S(N)(=O)=O)sc2c1  \n1                             CCN1C(=O)NC(c2ccccc2)C1=O  \n2     CC[C@]1(O)CC[C@H]2[C@@H]3CCC4=CCCC[C@@H]4[C@H]...  \n3                       CCCN(CC)C(CC)C(=O)Nc1c(C)cccc1C  \n4                             CC(O)(P(=O)(O)O)P(=O)(O)O  \n...                                                 ...  \n7826  CCOc1nc2cccc(C(=O)O)c2n1Cc1ccc(-c2ccccc2-c2nnn...  \n7827  CC(=O)[C@H]1CC[C@H]2[C@@H]3CCC4=CC(=O)CC[C@]4(...  \n7828  C[C@]12CC[C@H]3[C@@H](CCC4=CC(=O)CC[C@@]43C)[C...  \n7829  C[C@]12CC[C@@H]3c4ccc(O)cc4CC[C@H]3[C@@H]1CC[C...  \n7830            COc1ccc2c(c1OC)CN1CCc3cc4c(cc3C1C2)OCO4  \n\n[7831 rows x 14 columns]",
      "text/html": "<div>\n<style scoped>\n    .dataframe tbody tr th:only-of-type {\n        vertical-align: middle;\n    }\n\n    .dataframe tbody tr th {\n        vertical-align: top;\n    }\n\n    .dataframe thead th {\n        text-align: right;\n    }\n</style>\n<table border=\"1\" class=\"dataframe\">\n  <thead>\n    <tr style=\"text-align: right;\">\n      <th></th>\n      <th>NR-AR</th>\n      <th>NR-AR-LBD</th>\n      <th>NR-AhR</th>\n      <th>NR-Aromatase</th>\n      <th>NR-ER</th>\n      <th>NR-ER-LBD</th>\n      <th>NR-PPAR-gamma</th>\n      <th>SR-ARE</th>\n      <th>SR-ATAD5</th>\n      <th>SR-HSE</th>\n      <th>SR-MMP</th>\n      <th>SR-p53</th>\n      <th>mol_id</th>\n      <th>smiles</th>\n    </tr>\n  </thead>\n  <tbody>\n    <tr>\n      <th>0</th>\n      <td>0.0</td>\n      <td>0.0</td>\n      <td>1.0</td>\n      <td>NaN</td>\n      <td>NaN</td>\n      <td>0.0</td>\n      <td>0.0</td>\n      <td>1.0</td>\n      <td>0.0</td>\n      <td>0.0</td>\n      <td>0.0</td>\n      <td>0.0</td>\n      <td>TOX3021</td>\n      <td>CCOc1ccc2nc(S(N)(=O)=O)sc2c1</td>\n    </tr>\n    <tr>\n      <th>1</th>\n      <td>0.0</td>\n      <td>0.0</td>\n      <td>0.0</td>\n      <td>0.0</td>\n      <td>0.0</td>\n      <td>0.0</td>\n      <td>0.0</td>\n      <td>NaN</td>\n      <td>0.0</td>\n      <td>NaN</td>\n      <td>0.0</td>\n      <td>0.0</td>\n      <td>TOX3020</td>\n      <td>CCN1C(=O)NC(c2ccccc2)C1=O</td>\n    </tr>\n    <tr>\n      <th>2</th>\n      <td>NaN</td>\n      <td>NaN</td>\n      <td>NaN</td>\n      <td>NaN</td>\n      <td>NaN</td>\n      <td>NaN</td>\n      <td>NaN</td>\n      <td>0.0</td>\n      <td>NaN</td>\n      <td>0.0</td>\n      <td>NaN</td>\n      <td>NaN</td>\n      <td>TOX3024</td>\n      <td>CC[C@]1(O)CC[C@H]2[C@@H]3CCC4=CCCC[C@@H]4[C@H]...</td>\n    </tr>\n    <tr>\n      <th>3</th>\n      <td>0.0</td>\n      <td>0.0</td>\n      <td>0.0</td>\n      <td>0.0</td>\n      <td>0.0</td>\n      <td>0.0</td>\n      <td>0.0</td>\n      <td>NaN</td>\n      <td>0.0</td>\n      <td>NaN</td>\n      <td>0.0</td>\n      <td>0.0</td>\n      <td>TOX3027</td>\n      <td>CCCN(CC)C(CC)C(=O)Nc1c(C)cccc1C</td>\n    </tr>\n    <tr>\n      <th>4</th>\n      <td>0.0</td>\n      <td>0.0</td>\n      <td>0.0</td>\n      <td>0.0</td>\n      <td>0.0</td>\n      <td>0.0</td>\n      <td>0.0</td>\n      <td>0.0</td>\n      <td>0.0</td>\n      <td>0.0</td>\n      <td>0.0</td>\n      <td>0.0</td>\n      <td>TOX20800</td>\n      <td>CC(O)(P(=O)(O)O)P(=O)(O)O</td>\n    </tr>\n    <tr>\n      <th>...</th>\n      <td>...</td>\n      <td>...</td>\n      <td>...</td>\n      <td>...</td>\n      <td>...</td>\n      <td>...</td>\n      <td>...</td>\n      <td>...</td>\n      <td>...</td>\n      <td>...</td>\n      <td>...</td>\n      <td>...</td>\n      <td>...</td>\n      <td>...</td>\n    </tr>\n    <tr>\n      <th>7826</th>\n      <td>NaN</td>\n      <td>NaN</td>\n      <td>NaN</td>\n      <td>NaN</td>\n      <td>NaN</td>\n      <td>NaN</td>\n      <td>NaN</td>\n      <td>0.0</td>\n      <td>NaN</td>\n      <td>0.0</td>\n      <td>NaN</td>\n      <td>NaN</td>\n      <td>TOX2725</td>\n      <td>CCOc1nc2cccc(C(=O)O)c2n1Cc1ccc(-c2ccccc2-c2nnn...</td>\n    </tr>\n    <tr>\n      <th>7827</th>\n      <td>1.0</td>\n      <td>1.0</td>\n      <td>0.0</td>\n      <td>0.0</td>\n      <td>1.0</td>\n      <td>0.0</td>\n      <td>NaN</td>\n      <td>NaN</td>\n      <td>0.0</td>\n      <td>0.0</td>\n      <td>NaN</td>\n      <td>0.0</td>\n      <td>TOX2370</td>\n      <td>CC(=O)[C@H]1CC[C@H]2[C@@H]3CCC4=CC(=O)CC[C@]4(...</td>\n    </tr>\n    <tr>\n      <th>7828</th>\n      <td>1.0</td>\n      <td>1.0</td>\n      <td>0.0</td>\n      <td>0.0</td>\n      <td>1.0</td>\n      <td>1.0</td>\n      <td>0.0</td>\n      <td>1.0</td>\n      <td>0.0</td>\n      <td>0.0</td>\n      <td>0.0</td>\n      <td>0.0</td>\n      <td>TOX2371</td>\n      <td>C[C@]12CC[C@H]3[C@@H](CCC4=CC(=O)CC[C@@]43C)[C...</td>\n    </tr>\n    <tr>\n      <th>7829</th>\n      <td>1.0</td>\n      <td>1.0</td>\n      <td>0.0</td>\n      <td>NaN</td>\n      <td>1.0</td>\n      <td>1.0</td>\n      <td>0.0</td>\n      <td>0.0</td>\n      <td>0.0</td>\n      <td>0.0</td>\n      <td>1.0</td>\n      <td>1.0</td>\n      <td>TOX2377</td>\n      <td>C[C@]12CC[C@@H]3c4ccc(O)cc4CC[C@H]3[C@@H]1CC[C...</td>\n    </tr>\n    <tr>\n      <th>7830</th>\n      <td>0.0</td>\n      <td>0.0</td>\n      <td>NaN</td>\n      <td>0.0</td>\n      <td>0.0</td>\n      <td>0.0</td>\n      <td>0.0</td>\n      <td>0.0</td>\n      <td>0.0</td>\n      <td>0.0</td>\n      <td>1.0</td>\n      <td>0.0</td>\n      <td>TOX2724</td>\n      <td>COc1ccc2c(c1OC)CN1CCc3cc4c(cc3C1C2)OCO4</td>\n    </tr>\n  </tbody>\n</table>\n<p>7831 rows × 14 columns</p>\n</div>"
     },
     "execution_count": 38,
     "metadata": {},
     "output_type": "execute_result"
    }
   ],
   "source": [
    "# data = pd.read_csv(\"/home/zjh/remote/mrbert/downstream/data/bace.csv\")\n",
    "# data = pd.read_csv(\"/home/zjh/remote/mrbert/downstream/data/HIV.csv\")\n",
    "# data = pd.read_csv(\"/home/zjh/remote/mrbert/downstream/data/Lipophilicity.csv\")\n",
    "# data = pd.read_csv(\"/home/zjh/remote/mrbert/downstream/data/clintox.csv\")\n",
    "# data = pd.read_csv(\"/home/zjh/remote/mrbert/downstream/data/ESOL.csv\")\n",
    "# data = pd.read_csv(\"/home/zjh/remote/mrbert/downstream/data/chiral.csv\")\n",
    "data = pd.read_csv(\"/home/zjh/remote/mrbert/downstream/data/FreeSolv.csv\")\n",
    "# data = pd.read_csv(\"/home/zjh/remote/mrbert/downstream/data/tox21.csv\")\n",
    "data = pd.read_csv(\"/home/zjh/remote/mrbert/downstream/data/tox21.csv\")\n",
    "data\n",
    "# label_col_name = \"p_np\"\n",
    "# smiles_col_name = \"smiles\""
   ],
   "metadata": {
    "collapsed": false,
    "pycharm": {
     "name": "#%%\n"
    }
   }
  },
  {
   "cell_type": "code",
   "execution_count": 37,
   "outputs": [
    {
     "data": {
      "text/plain": "            mol_id          A\n0            gdb_1  157.71180\n1            gdb_2  293.60975\n2            gdb_3  799.58812\n3            gdb_4    0.00000\n4            gdb_5    0.00000\n...            ...        ...\n133880  gdb_133881    3.59483\n133881  gdb_133882    3.65648\n133882  gdb_133883    3.67118\n133883  gdb_133884    3.52845\n133884  gdb_133885    3.64015\n\n[133885 rows x 2 columns]",
      "text/html": "<div>\n<style scoped>\n    .dataframe tbody tr th:only-of-type {\n        vertical-align: middle;\n    }\n\n    .dataframe tbody tr th {\n        vertical-align: top;\n    }\n\n    .dataframe thead th {\n        text-align: right;\n    }\n</style>\n<table border=\"1\" class=\"dataframe\">\n  <thead>\n    <tr style=\"text-align: right;\">\n      <th></th>\n      <th>mol_id</th>\n      <th>A</th>\n    </tr>\n  </thead>\n  <tbody>\n    <tr>\n      <th>0</th>\n      <td>gdb_1</td>\n      <td>157.71180</td>\n    </tr>\n    <tr>\n      <th>1</th>\n      <td>gdb_2</td>\n      <td>293.60975</td>\n    </tr>\n    <tr>\n      <th>2</th>\n      <td>gdb_3</td>\n      <td>799.58812</td>\n    </tr>\n    <tr>\n      <th>3</th>\n      <td>gdb_4</td>\n      <td>0.00000</td>\n    </tr>\n    <tr>\n      <th>4</th>\n      <td>gdb_5</td>\n      <td>0.00000</td>\n    </tr>\n    <tr>\n      <th>...</th>\n      <td>...</td>\n      <td>...</td>\n    </tr>\n    <tr>\n      <th>133880</th>\n      <td>gdb_133881</td>\n      <td>3.59483</td>\n    </tr>\n    <tr>\n      <th>133881</th>\n      <td>gdb_133882</td>\n      <td>3.65648</td>\n    </tr>\n    <tr>\n      <th>133882</th>\n      <td>gdb_133883</td>\n      <td>3.67118</td>\n    </tr>\n    <tr>\n      <th>133883</th>\n      <td>gdb_133884</td>\n      <td>3.52845</td>\n    </tr>\n    <tr>\n      <th>133884</th>\n      <td>gdb_133885</td>\n      <td>3.64015</td>\n    </tr>\n  </tbody>\n</table>\n<p>133885 rows × 2 columns</p>\n</div>"
     },
     "execution_count": 37,
     "metadata": {},
     "output_type": "execute_result"
    }
   ],
   "source": [
    "label_col_name = [\"mol_id\",\"A\"]\n",
    "labels = data[label_col_name]\n",
    "labels"
   ],
   "metadata": {
    "collapsed": false,
    "pycharm": {
     "name": "#%%\n"
    }
   }
  },
  {
   "cell_type": "code",
   "execution_count": 4,
   "outputs": [],
   "source": [
    "\n",
    "smiles_s = data[smiles_col_name]"
   ],
   "metadata": {
    "collapsed": false,
    "pycharm": {
     "name": "#%%\n"
    }
   }
  },
  {
   "cell_type": "code",
   "execution_count": 16,
   "outputs": [],
   "source": [
    "\n",
    "def get_dist(pos,i,j):\n",
    "    dist = (pos[i] - pos[j]).pow(2).sum(dim=-1).sqrt()\n",
    "    return dist\n",
    "\n",
    "def get_angle(pos,i,j,k):\n",
    "        # Calculate angles. 0 to pi\n",
    "    pos_ji = pos[i] - pos[j]\n",
    "    pos_jk = pos[k] - pos[j]\n",
    "    a = (pos_ji * pos_jk).sum(dim=-1) # cos_angle * |pos_ji| * |pos_jk|\n",
    "    b = torch.cross(pos_ji, pos_jk).norm(dim=-1) # sin_angle * |pos_ji| * |pos_jk|\n",
    "    angle = torch.atan2(b, a)\n",
    "    return angle\n",
    "\n",
    "\n",
    "def get_torsion(pos,k,i,j,t):\n",
    "    pos_jt = pos[j] - pos[t]\n",
    "    pos_ji = pos[j] - pos[i]\n",
    "    pos_jk = pos[j] - pos[k]\n",
    "    dist_ji = pos_ji.pow(2).sum(dim=-1).sqrt()\n",
    "    plane1 = torch.cross(pos_ji, pos_jt)\n",
    "    plane2 = torch.cross(pos_ji, pos_jk)\n",
    "    a = (plane1 * plane2).sum(dim=-1) # cos_angle * |plane1| * |plane2|\n",
    "    b = (torch.cross(plane1, plane2) * pos_ji).sum(dim=-1) / dist_ji\n",
    "    torsion1 = torch.atan2(b, a) # -pi to pi\n",
    "    torsion1 = torch.abs(torsion1)\n",
    "    # torsion1[torsion1<=0]+=2*PI # 0 to 2pi\n",
    "    return torsion1\n",
    "\n",
    "\n",
    "def generate_dist_index(mol,valid=False,max_len=127):\n",
    "    atom_num = mol.GetNumAtoms()\n",
    "    atom_num = min(atom_num,max_len)\n",
    "    start = torch.arange(atom_num).repeat_interleave(atom_num)\n",
    "    end = torch.arange(atom_num).repeat(atom_num)\n",
    "    if valid:\n",
    "        valid_index = start != end\n",
    "        start = start[valid_index]\n",
    "        end = end[valid_index]\n",
    "    return start,end\n",
    "\n",
    "\n",
    "def generate_angle_index(mol,valid=False,max_len=127):\n",
    "    i_all = []\n",
    "    j_all = []\n",
    "    k_all = []\n",
    "    atoms  = [atom for atom in mol.GetAtoms()]\n",
    "    for index in range(mol.GetNumAtoms()):\n",
    "        atom = atoms[index]\n",
    "        set1 = set([bond.GetBeginAtomIdx() for bond in atom.GetBonds()])\n",
    "        set2 = set([bond.GetEndAtomIdx() for bond in atom.GetBonds()])\n",
    "        group = list(set1 | set2)\n",
    "        lth = len(group)\n",
    "        if len(group) <= 2:\n",
    "            continue\n",
    "        i = torch.tensor(group).repeat_interleave(lth)\n",
    "        j = torch.ones(lth**2,dtype=torch.int64) * index\n",
    "        k = torch.tensor(group).repeat(lth)\n",
    "        i_all.append(i)\n",
    "        j_all.append(j)\n",
    "        k_all.append(k)\n",
    "    i_all = torch.cat(i_all)\n",
    "    j_all = torch.cat(j_all)\n",
    "    k_all = torch.cat(k_all)\n",
    "    if valid:\n",
    "        valid_index = (i_all != k_all) & (i_all != j_all) & (k_all != j_all)\n",
    "        i_all = i_all[valid_index]\n",
    "        j_all = j_all[valid_index]\n",
    "        k_all = k_all[valid_index]\n",
    "    idxs = []\n",
    "    for idx in range(len(i_all)):\n",
    "        i = i_all[idx]\n",
    "        j = j_all[idx]\n",
    "        k = k_all[idx]\n",
    "        if i > max_len or j > max_len or k > max_len:\n",
    "            continue\n",
    "        else:\n",
    "            idxs.append(idx)\n",
    "    return i_all[idxs],j_all[idxs],k_all[idxs]\n",
    "\n",
    "\n",
    "def generate_torsion_index(mol,valid=False,max_len=127):\n",
    "    atoms  = [atom for atom in mol.GetAtoms()]\n",
    "    group_dict = {}\n",
    "    bond_start = [bond.GetBeginAtomIdx() for bond in mol.GetBonds()]\n",
    "    bond_end = [bond.GetEndAtomIdx() for bond in mol.GetBonds()]\n",
    "    for index in range(mol.GetNumAtoms()):\n",
    "        atom = atoms[index]\n",
    "        set1 = set([bond.GetBeginAtomIdx() for bond in atom.GetBonds()])\n",
    "        set2 = set([bond.GetEndAtomIdx() for bond in atom.GetBonds()])\n",
    "        group = list(set1 | set2)\n",
    "        group_dict[index] = group\n",
    "    i_all = []\n",
    "    j_all = []\n",
    "    k_all =[]\n",
    "    t_all = []\n",
    "    for atom_i,atom_j in zip(bond_start,bond_end):\n",
    "        i_group = group_dict[atom_i]\n",
    "        j_group = group_dict[atom_j]\n",
    "        k = torch.tensor(i_group).repeat_interleave(len(j_group))\n",
    "        t = torch.tensor(j_group).repeat(len(i_group))\n",
    "        i = torch.ones(len(j_group)*len(i_group),dtype=torch.int64) * atom_i\n",
    "        j = torch.ones(len(j_group)*len(i_group),dtype=torch.int64) * atom_j\n",
    "        i_all.append(i)\n",
    "        j_all.append(j)\n",
    "        k_all.append(k)\n",
    "        t_all.append(t)\n",
    "    i_all = torch.cat(i_all)\n",
    "    j_all = torch.cat(j_all)\n",
    "    k_all = torch.cat(k_all)\n",
    "    t_all = torch.cat(t_all)\n",
    "    if valid:\n",
    "        valid_index = (k_all != t_all) & (k_all != i_all) & (k_all != j_all) & (t_all != i_all) & (t_all != j_all)\n",
    "        i_all = i_all[valid_index]\n",
    "        j_all = j_all[valid_index]\n",
    "        k_all = k_all[valid_index]\n",
    "        t_all = t_all[valid_index]\n",
    "    idxs = []\n",
    "    for idx in range(len(i_all)):\n",
    "        i = i_all[idx]\n",
    "        j = j_all[idx]\n",
    "        k = k_all[idx]\n",
    "        t = t_all[idx]\n",
    "        if i > max_len or j > max_len or k > max_len or t > max_len:\n",
    "            continue\n",
    "        else:\n",
    "            idxs.append(idx)\n",
    "    return k_all[idxs],i_all[idxs],j_all[idxs],t_all[idxs]\n"
   ],
   "metadata": {
    "collapsed": false,
    "pycharm": {
     "name": "#%%\n"
    }
   }
  },
  {
   "cell_type": "code",
   "execution_count": 16,
   "outputs": [],
   "source": [],
   "metadata": {
    "collapsed": false,
    "pycharm": {
     "name": "#%%\n"
    }
   }
  },
  {
   "cell_type": "code",
   "execution_count": 16,
   "outputs": [],
   "source": [],
   "metadata": {
    "collapsed": false,
    "pycharm": {
     "name": "#%%\n"
    }
   }
  },
  {
   "cell_type": "code",
   "execution_count": 17,
   "outputs": [
    {
     "ename": "NameError",
     "evalue": "name 'smiles_s' is not defined",
     "output_type": "error",
     "traceback": [
      "\u001B[0;31m---------------------------------------------------------------------------\u001B[0m",
      "\u001B[0;31mNameError\u001B[0m                                 Traceback (most recent call last)",
      "Cell \u001B[0;32mIn[17], line 1\u001B[0m\n\u001B[0;32m----> 1\u001B[0m \u001B[38;5;28;01mfor\u001B[39;00m smiles,label \u001B[38;5;129;01min\u001B[39;00m tqdm(\u001B[38;5;28miter\u001B[39m(\u001B[38;5;28mzip\u001B[39m(\u001B[43msmiles_s\u001B[49m,labels)),total\u001B[38;5;241m=\u001B[39m\u001B[38;5;28mlen\u001B[39m(smiles_s)):\n\u001B[1;32m      2\u001B[0m     mol \u001B[38;5;241m=\u001B[39m Chem\u001B[38;5;241m.\u001B[39mMolFromSmiles(smiles)\n\u001B[1;32m      4\u001B[0m     \u001B[38;5;28;01mif\u001B[39;00m mol \u001B[38;5;129;01mis\u001B[39;00m \u001B[38;5;28;01mNone\u001B[39;00m:\n",
      "\u001B[0;31mNameError\u001B[0m: name 'smiles_s' is not defined"
     ]
    }
   ],
   "source": [
    "for smiles,label in tqdm(iter(zip(smiles_s,labels)),total=len(smiles_s)):\n",
    "    mol = Chem.MolFromSmiles(smiles)\n",
    "\n",
    "    if mol is None:\n",
    "        print(f\"invalid smiles {smiles}\")\n",
    "        continue\n",
    "\n",
    "    mol = AllChem.AddHs(mol)\n",
    "    AllChem.EmbedMolecule(mol)\n",
    "    AllChem.MMFFOptimizeMolecule(mol)\n",
    "    pos=[]\n",
    "    edge_index=[]\n",
    "    num_nodes=len(mol.GetAtoms())\n",
    "    for i in range(num_nodes):\n",
    "        for j in range(i):\n",
    "            edge_index.append([i,j])\n",
    "        x,y,z =mol.GetConformer().GetAtomPosition(i)\n",
    "        pos.append([x,y,z])\n",
    "    pos = torch.tensor(pos)\n",
    "    dist_i,dist_j = generate_dist_index(mol,valid=True)\n",
    "    angle_i,angle_j,angle_k = generate_angle_index(mol,valid=True)\n",
    "    torsion_k,torsion_i,torsion_j,torsion_t = generate_torsion_index(mol,valid=True)\n",
    "    dist = get_dist(pos,dist_i,dist_j)\n",
    "    angle = get_angle(pos,angle_i,angle_j,angle_k)\n",
    "    torsion = get_torsion(pos,torsion_k,torsion_i,torsion_j,torsion_t)\n",
    "\n",
    "    if (len(dist)==0 or len(angle)==0 or len(torsion)==0):\n",
    "        print(\"invalid dist/angle/torsion\")\n",
    "        print(smiles)\n",
    "        continue\n",
    "    try:\n",
    "        spt = SparseTensor(row=dist_i.long(),col=dist_j.long(),value=dist)\n",
    "        dist_matrix = spt.to_dense()\n",
    "    except:\n",
    "        print(\"valid cannot covert adj dense\")\n",
    "        print(smiles)\n",
    "        continue\n",
    "\n",
    "\n"
   ],
   "metadata": {
    "collapsed": false,
    "pycharm": {
     "name": "#%%\n"
    }
   }
  },
  {
   "cell_type": "code",
   "execution_count": 22,
   "outputs": [
    {
     "name": "stderr",
     "output_type": "stream",
     "text": [
      "100%|██████████| 3507/3507 [00:27<00:00, 127.81it/s]\n"
     ]
    }
   ],
   "source": [
    "pos_all = torch.load(\"/home/zjh/remote/mrbert/downstream/preprocess_data/chiral/pos.pth\")\n",
    "pos_all\n",
    "angle_list = []\n",
    "torsion_list = []\n",
    "for pos in tqdm(pos_all):\n",
    "\n",
    "    torsion_k,torsion_i,torsion_j,torsion_t = generate_torsion_index(mol,valid=True)\n",
    "    torsion = get_torsion(pos,torsion_k,torsion_i,torsion_j,torsion_t)\n",
    "    torsion_list.append([torsion_k.byte(),torsion_i.byte(),torsion_j.byte(),torsion_t.byte(),torsion])\n",
    "    angle_i, angle_j, angle_k = generate_angle_index(mol, valid=True)\n",
    "\n",
    "    angle = get_angle(pos, angle_i, angle_j, angle_k)\n",
    "    angle_list.append([angle_i.byte(), angle_j.byte(), angle_k.byte(), angle])\n",
    "\n"
   ],
   "metadata": {
    "collapsed": false,
    "pycharm": {
     "name": "#%%\n"
    }
   }
  },
  {
   "cell_type": "code",
   "execution_count": 23,
   "outputs": [],
   "source": [
    "torch.save(torsion_list, \"/home/zjh/remote/mrbert/downstream/preprocess_data/chiral/torsion.pth\")"
   ],
   "metadata": {
    "collapsed": false,
    "pycharm": {
     "name": "#%%\n"
    }
   }
  },
  {
   "cell_type": "code",
   "execution_count": 24,
   "outputs": [],
   "source": [
    "torch.save(angle_list, \"/home/zjh/remote/mrbert/downstream/preprocess_data/chiral/angle.pth\")"
   ],
   "metadata": {
    "collapsed": false,
    "pycharm": {
     "name": "#%%\n"
    }
   }
  },
  {
   "cell_type": "code",
   "execution_count": null,
   "outputs": [],
   "source": [],
   "metadata": {
    "collapsed": false,
    "pycharm": {
     "name": "#%%\n"
    }
   }
  },
  {
   "cell_type": "code",
   "execution_count": 21,
   "outputs": [
    {
     "name": "stderr",
     "output_type": "stream",
     "text": [
      "  1%|          | 12/2050 [00:03<07:51,  4.33it/s]"
     ]
    },
    {
     "name": "stdout",
     "output_type": "stream",
     "text": [
      "invalid dist/angle/torsion\n",
      "C(Cl)Cl\n"
     ]
    },
    {
     "name": "stderr",
     "output_type": "stream",
     "text": [
      "  3%|▎         | 61/2050 [00:17<07:29,  4.43it/s]"
     ]
    },
    {
     "name": "stdout",
     "output_type": "stream",
     "text": [
      "invalid smiles O=N([O-])C1=C(CN=C1NCCSCc2ncccc2)Cc3ccccc3\n",
      "invalid smiles c1(nc(NC(N)=[NH2])sc1)CSCCNC(=[NH]C#N)NC\n"
     ]
    },
    {
     "name": "stderr",
     "output_type": "stream",
     "text": [
      "  8%|▊         | 169/2050 [00:44<08:10,  3.83it/s]\n"
     ]
    },
    {
     "ename": "KeyboardInterrupt",
     "evalue": "",
     "output_type": "error",
     "traceback": [
      "\u001B[0;31m---------------------------------------------------------------------------\u001B[0m",
      "\u001B[0;31mKeyboardInterrupt\u001B[0m                         Traceback (most recent call last)",
      "Cell \u001B[0;32mIn[21], line 18\u001B[0m\n\u001B[1;32m     16\u001B[0m mol \u001B[38;5;241m=\u001B[39m AllChem\u001B[38;5;241m.\u001B[39mAddHs(mol)\n\u001B[1;32m     17\u001B[0m AllChem\u001B[38;5;241m.\u001B[39mEmbedMolecule(mol)\n\u001B[0;32m---> 18\u001B[0m \u001B[43mAllChem\u001B[49m\u001B[38;5;241;43m.\u001B[39;49m\u001B[43mMMFFOptimizeMolecule\u001B[49m\u001B[43m(\u001B[49m\u001B[43mmol\u001B[49m\u001B[43m)\u001B[49m\n\u001B[1;32m     19\u001B[0m pos\u001B[38;5;241m=\u001B[39m[]\n\u001B[1;32m     20\u001B[0m edge_index\u001B[38;5;241m=\u001B[39m[]\n",
      "\u001B[0;31mKeyboardInterrupt\u001B[0m: "
     ]
    }
   ],
   "source": [
    "smiles_list = []\n",
    "dist_list = []\n",
    "nmr_list = []\n",
    "angle_list = []\n",
    "torsion_list = []\n",
    "pos_list = []\n",
    "count =0\n",
    "label_list = []\n",
    "for smiles,label in tqdm(iter(zip(smiles_s,labels)),total=len(smiles_s)):\n",
    "    mol = Chem.MolFromSmiles(smiles)\n",
    "\n",
    "    if mol is None:\n",
    "        print(f\"invalid smiles {smiles}\")\n",
    "        continue\n",
    "\n",
    "    mol = AllChem.AddHs(mol)\n",
    "    AllChem.EmbedMolecule(mol)\n",
    "    AllChem.MMFFOptimizeMolecule(mol)\n",
    "    pos=[]\n",
    "    edge_index=[]\n",
    "    num_nodes=len(mol.GetAtoms())\n",
    "    for i in range(num_nodes):\n",
    "        for j in range(i):\n",
    "            edge_index.append([i,j])\n",
    "        x,y,z =mol.GetConformer().GetAtomPosition(i)\n",
    "        pos.append([x,y,z])\n",
    "    pos = torch.tensor(pos)\n",
    "    dist_i,dist_j = generate_dist_index(mol,valid=True)\n",
    "    angle_i,angle_j,angle_k = generate_angle_index(mol,valid=True)\n",
    "    torsion_k,torsion_i,torsion_j,torsion_t = generate_torsion_index(mol,valid=True)\n",
    "    dist = get_dist(pos,dist_i,dist_j)\n",
    "    angle = get_angle(pos,angle_i,angle_j,angle_k)\n",
    "    torsion = get_torsion(pos,torsion_k,torsion_i,torsion_j,torsion_t)\n",
    "\n",
    "    if (len(dist)==0 or len(angle)==0 or len(torsion)==0):\n",
    "        print(\"invalid dist/angle/torsion\")\n",
    "        print(smiles)\n",
    "        continue\n",
    "    try:\n",
    "        spt = SparseTensor(row=dist_i.long(),col=dist_j.long(),value=dist)\n",
    "        dist_matrix = spt.to_dense()\n",
    "    except:\n",
    "        print(\"valid cannot covert adj dense\")\n",
    "        print(smiles)\n",
    "        continue\n",
    "\n",
    "    smiles_list.append(smiles)\n",
    "    dist_list.append(dist_matrix)\n",
    "    pos_list.append(pos)\n",
    "    # nmr_list.append(nmr)\n",
    "    angle_list.append([angle_i.byte(),angle_j.byte(),angle_k.byte(),angle])\n",
    "    label_list.append(label)\n",
    "\n",
    "    torsion_list.append([torsion_k.byte(),torsion_i.byte(),torsion_j.byte(),torsion_t.byte(),torsion])\n",
    "    count +=1"
   ],
   "metadata": {
    "collapsed": false,
    "pycharm": {
     "name": "#%%\n"
    }
   }
  },
  {
   "cell_type": "code",
   "execution_count": 11,
   "outputs": [
    {
     "ename": "NameError",
     "evalue": "name 'C' is not defined",
     "output_type": "error",
     "traceback": [
      "\u001B[0;31m---------------------------------------------------------------------------\u001B[0m",
      "\u001B[0;31mNameError\u001B[0m                                 Traceback (most recent call last)",
      "Cell \u001B[0;32mIn[11], line 3\u001B[0m\n\u001B[1;32m      1\u001B[0m mol \u001B[38;5;241m=\u001B[39m Chem\u001B[38;5;241m.\u001B[39mMolFromSmiles(\u001B[38;5;124m\"\u001B[39m\u001B[38;5;124mC(Cl)Cl\u001B[39m\u001B[38;5;124m\"\u001B[39m)\n\u001B[1;32m      2\u001B[0m [a\u001B[38;5;241m.\u001B[39mGetSymbol() \u001B[38;5;28;01mfor\u001B[39;00m a \u001B[38;5;129;01min\u001B[39;00m mol\u001B[38;5;241m.\u001B[39mGetAtoms()]\n\u001B[0;32m----> 3\u001B[0m \u001B[43mC\u001B[49m\n",
      "\u001B[0;31mNameError\u001B[0m: name 'C' is not defined"
     ]
    }
   ],
   "source": [
    "mol = Chem.MolFromSmiles(\"C(Cl)Cl\")\n",
    "[a.GetSymbol() for a in mol.GetAtoms()]"
   ],
   "metadata": {
    "collapsed": false,
    "pycharm": {
     "name": "#%%\n"
    }
   }
  },
  {
   "cell_type": "code",
   "execution_count": 17,
   "outputs": [],
   "source": [
    "mol = Chem.MolFromSmiles(\"O=N([O-])C1=C(CN=C1NCCSCc2ncccc2)Cc3ccccc3\")\n",
    "# [a.GetSymbol() for a in mol.GetAtoms()]"
   ],
   "metadata": {
    "collapsed": false,
    "pycharm": {
     "name": "#%%\n"
    }
   }
  },
  {
   "cell_type": "code",
   "execution_count": 19,
   "outputs": [],
   "source": [
    "mol"
   ],
   "metadata": {
    "collapsed": false,
    "pycharm": {
     "name": "#%%\n"
    }
   }
  },
  {
   "cell_type": "code",
   "execution_count": 6,
   "outputs": [],
   "source": [
    "\n",
    "save_dir = \"/home/zjh/moleculenet/BBBP\"\n",
    "if not os.path.exists(save_dir):\n",
    "    os.makedirs(save_dir)\n",
    "smiles_save_path = os.path.join(save_dir,\"smiles.pth\")\n",
    "dist_save_path = os.path.join(save_dir,\"dist.pth\")\n",
    "nmr_save_path= os.path.join(save_dir,\"nmr.pth\")\n",
    "angle_save_path = os.path.join(save_dir,\"angle.pth\")\n",
    "torsion_save_path = os.path.join(save_dir,\"torsion.pth\")\n",
    "pos_save_path = os.path.join(save_dir,\"pos.pth\")\n",
    "label_save_path = os.path.join(save_dir,\"label.pth\")\n",
    "torch.save(smiles_list,smiles_save_path)\n",
    "torch.save(dist_list,dist_save_path)\n",
    "torch.save(nmr_list,nmr_save_path)\n",
    "torch.save(angle_list,angle_save_path)\n",
    "torch.save(torsion_list,torsion_save_path)\n",
    "torch.save(pos_list,pos_save_path)\n",
    "torch.save(label_list,label_save_path)"
   ],
   "metadata": {
    "collapsed": false,
    "pycharm": {
     "name": "#%%\n"
    }
   }
  },
  {
   "cell_type": "code",
   "execution_count": null,
   "outputs": [],
   "source": [],
   "metadata": {
    "collapsed": false,
    "pycharm": {
     "name": "#%%\n"
    }
   }
  }
 ],
 "metadata": {
  "kernelspec": {
   "display_name": "Python 3",
   "language": "python",
   "name": "python3"
  },
  "language_info": {
   "codemirror_mode": {
    "name": "ipython",
    "version": 2
   },
   "file_extension": ".py",
   "mimetype": "text/x-python",
   "name": "python",
   "nbconvert_exporter": "python",
   "pygments_lexer": "ipython2",
   "version": "2.7.6"
  }
 },
 "nbformat": 4,
 "nbformat_minor": 0
}